{
 "cells": [
  {
   "cell_type": "markdown",
   "id": "35dd7b9b-173d-4fe9-b5e2-51b22e3f181d",
   "metadata": {
    "execution": {
     "iopub.execute_input": "2025-09-19T03:33:33.674756Z",
     "iopub.status.busy": "2025-09-19T03:33:33.673476Z",
     "iopub.status.idle": "2025-09-19T03:33:33.713032Z",
     "shell.execute_reply": "2025-09-19T03:33:33.712084Z"
    }
   },
   "source": [
    "# 1) Open Dataframe without Missings (0.25 points) "
   ]
  },
  {
   "cell_type": "code",
   "execution_count": 3,
   "id": "ebbb4c40-de7d-4ecf-a058-3bb87e6f11ec",
   "metadata": {
    "execution": {
     "iopub.execute_input": "2025-09-19T03:43:44.941406Z",
     "iopub.status.busy": "2025-09-19T03:43:44.940540Z",
     "iopub.status.idle": "2025-09-19T03:43:47.175892Z",
     "shell.execute_reply": "2025-09-19T03:43:47.174928Z"
    }
   },
   "outputs": [
    {
     "name": "stderr",
     "output_type": "stream",
     "text": [
      "\n",
      "Adjuntando el paquete: 'dplyr'\n",
      "\n",
      "\n",
      "The following objects are masked from 'package:stats':\n",
      "\n",
      "    filter, lag\n",
      "\n",
      "\n",
      "The following objects are masked from 'package:base':\n",
      "\n",
      "    intersect, setdiff, setequal, union\n",
      "\n",
      "\n",
      "Cargando paquete requerido: Matrix\n",
      "\n",
      "Loaded glmnet 4.1-10\n",
      "\n"
     ]
    }
   ],
   "source": [
    "## Load Required Packages\n",
    "library(readxl)\n",
    "library(dplyr)\n",
    "library(ggplot2)\n",
    "library(glmnet)\n",
    "\n",
    "## 1. Load and clean data\n",
    "xlsx_path <- \"C:\\\\Users\\\\User\\\\Desktop\\\\CausalAI-Course\\\\data\\\\Districtwise_literacy_rates.xlsx\"\n",
    "df <- read_excel(xlsx_path)\n",
    "df_clean <- na.omit(df)"
   ]
  },
  {
   "cell_type": "markdown",
   "id": "60df596b-aef6-4be8-ae00-04b8a415b5dc",
   "metadata": {
    "execution": {
     "iopub.execute_input": "2025-09-19T03:41:48.980252Z",
     "iopub.status.busy": "2025-09-19T03:41:48.979446Z",
     "iopub.status.idle": "2025-09-19T03:41:48.987741Z",
     "shell.execute_reply": "2025-09-19T03:41:48.986870Z"
    }
   },
   "source": [
    "# 2) Histogram of the female and male literacy rate (1 points)"
   ]
  },
  {
   "cell_type": "code",
   "execution_count": 5,
   "id": "09df0c77-def9-49cf-a614-ed1a008dea5b",
   "metadata": {
    "execution": {
     "iopub.execute_input": "2025-09-19T03:44:10.880712Z",
     "iopub.status.busy": "2025-09-19T03:44:10.879622Z",
     "iopub.status.idle": "2025-09-19T03:44:11.243223Z",
     "shell.execute_reply": "2025-09-19T03:44:11.241151Z"
    }
   },
   "outputs": [],
   "source": [
    "library(ggplot2)\n",
    "\n",
    "# 2. Histogram (1 point)\n",
    "\n",
    "p1 <- ggplot(df_clean, aes(x = FEMALE_LIT)) +\n",
    "  geom_histogram(fill = \"pink\", bins = 20, alpha = 0.7) +\n",
    "  labs(title = \"Female Literacy Distribution\")\n",
    "\n",
    "p2 <- ggplot(df_clean, aes(x = MALE_LIT)) +\n",
    "  geom_histogram(fill = \"blue\", bins = 20, alpha = 0.7) +\n",
    "  labs(title = \"Male Literacy Distribution\")\n",
    "\n",
    "# Exportar a carpeta Output\n",
    "out_dir <- \"C:/Users/User/Desktop/Lasso_Potential_Outcomes_RCTs/R/Output\"\n",
    "\n",
    "ggsave(filename = file.path(out_dir, \"hist_female_lit.png\"),\n",
    "       plot = p1, width = 7, height = 5, dpi = 300)\n",
    "\n",
    "ggsave(filename = file.path(out_dir, \"hist_male_lit.png\"),\n",
    "       plot = p2, width = 7, height = 5, dpi = 300)\n"
   ]
  },
  {
   "cell_type": "markdown",
   "id": "22c7a617-b47b-4da3-aedb-a774240df5b2",
   "metadata": {},
   "source": [
    "### Acerca de la distribuciones de alfabetización\n",
    "\n",
    "- **Alfabetización femenina (FEMALE_LIT):**  \n",
    "  La distribución se concentra principalmente entre **50% y 80%**, con un pico en torno a **60–65%**. Presenta mayor dispersión y existen distritos con niveles relativamente bajos.\n",
    "\n",
    "- **Alfabetización masculina (MALE_LIT):**  \n",
    "  La distribución está desplazada hacia la derecha, concentrándose entre **70% y 90%**. La mayoría de los distritos muestran niveles altos y la dispersión es menor en comparación con las mujeres.\n",
    "\n",
    "- **Conclusión:**  \n",
    "  Se observa una **brecha sistemática de género**: la alfabetización masculina tiende a ser **mayor y más homogénea** que la femenina.\n"
   ]
  },
  {
   "cell_type": "markdown",
   "id": "a775cfb0-02c6-4a5c-85d0-51a4a952b423",
   "metadata": {},
   "source": [
    "# 3) low-dimensional specification and  $R^2$ (2 points)"
   ]
  },
  {
   "cell_type": "code",
   "execution_count": 6,
   "id": "e2bc4110-7816-4e3d-bcfa-c4bbcb1c5689",
   "metadata": {
    "execution": {
     "iopub.execute_input": "2025-09-19T03:52:22.107341Z",
     "iopub.status.busy": "2025-09-19T03:52:22.106185Z",
     "iopub.status.idle": "2025-09-19T03:52:22.132711Z",
     "shell.execute_reply": "2025-09-19T03:52:22.131772Z"
    }
   },
   "outputs": [
    {
     "name": "stdout",
     "output_type": "stream",
     "text": [
      "Low-dimensional specification:\n",
      "  R² (test set) = 0.2111 \n"
     ]
    }
   ],
   "source": [
    "## 3. Low-dimensional spec (2 points)\n",
    "set.seed(123)\n",
    "n <- nrow(df_clean)\n",
    "train_idx <- sample(1:n, size = 0.7 * n)\n",
    "train <- df_clean[train_idx, ]\n",
    "test  <- df_clean[-train_idx, ]\n",
    "\n",
    "lm_low <- lm(FEMALE_LIT ~ TOTPOPULAT + P_URB_POP + SEXRATIO, data = train)\n",
    "pred_low <- predict(lm_low, newdata = test)\n",
    "y_test <- test$FEMALE_LIT\n",
    "\n",
    "R2_low <- 1 - sum((y_test - pred_low)^2) / sum((y_test - mean(y_test))^2)\n",
    "\n",
    "# Presentación más clara\n",
    "cat(\"Low-dimensional specification:\\n\")\n",
    "cat(\"  R² (test set) =\", round(R2_low, 4), \"\\n\")\n"
   ]
  },
  {
   "cell_type": "markdown",
   "id": "88b45ec7-c3f1-4246-b38e-75c1dd78d873",
   "metadata": {},
   "source": [
    "# 4. High-dimensional (flexible) (2 points)"
   ]
  },
  {
   "cell_type": "code",
   "execution_count": 8,
   "id": "1e20d41e-0e3e-415c-9631-5c85e96e309f",
   "metadata": {
    "execution": {
     "iopub.execute_input": "2025-09-19T03:57:53.692513Z",
     "iopub.status.busy": "2025-09-19T03:57:53.691683Z",
     "iopub.status.idle": "2025-09-19T03:57:53.718254Z",
     "shell.execute_reply": "2025-09-19T03:57:53.716345Z"
    }
   },
   "outputs": [
    {
     "name": "stdout",
     "output_type": "stream",
     "text": [
      "High-dimensional (flexible) specification:\n",
      "  R² (test set) = 0.3357 \n"
     ]
    }
   ],
   "source": [
    "## 4. High-dimensional spec (2 points)\n",
    "flex_formula <- FEMALE_LIT ~ (TOTPOPULAT + P_URB_POP + SEXRATIO + AREA_SQKM + GROWTHRATE)^2 +\n",
    "                 I(TOTPOPULAT^2) + I(P_URB_POP^2) + I(SEXRATIO^2) + I(AREA_SQKM^2) + I(GROWTHRATE^2)\n",
    "lm_flex <- lm(flex_formula, data = train)\n",
    "pred_flex <- predict(lm_flex, newdata = test)\n",
    "R2_flex <- 1 - sum((y_test - pred_flex)^2) / sum((y_test - mean(y_test))^2)\n",
    "\n",
    "cat(\"High-dimensional (flexible) specification:\\n\")\n",
    "cat(\"  R² (test set) =\", round(R2_flex, 4), \"\\n\")\n"
   ]
  },
  {
   "cell_type": "markdown",
   "id": "80849290-059e-473e-9489-89837012d3ed",
   "metadata": {},
   "source": [
    "# 5) For λ ∈ [10,000, 0.001] (2.75 points)"
   ]
  },
  {
   "cell_type": "code",
   "execution_count": 9,
   "id": "67f00a52-a16e-4ac2-96e9-f3598a78fb4a",
   "metadata": {
    "execution": {
     "iopub.execute_input": "2025-09-19T04:02:42.668041Z",
     "iopub.status.busy": "2025-09-19T04:02:42.667160Z",
     "iopub.status.idle": "2025-09-19T04:02:42.852861Z",
     "shell.execute_reply": "2025-09-19T04:02:42.850895Z"
    }
   },
   "outputs": [
    {
     "name": "stdout",
     "output_type": "stream",
     "text": [
      "Gráfico y tabla exportados a: C:/Users/User/Desktop/Lasso_Potential_Outcomes_RCTs/R/Output \n"
     ]
    }
   ],
   "source": [
    "library(ggplot2)\n",
    "library(glmnet)\n",
    "\n",
    "## 5. Lasso path (2.75 points)\n",
    "X <- model.matrix(FEMALE_LIT ~ TOTPOPULAT + P_URB_POP + SEXRATIO + AREA_SQKM + GROWTHRATE, \n",
    "                  data = df_clean)[,-1]\n",
    "y <- df_clean$FEMALE_LIT\n",
    "\n",
    "lambda_seq <- exp(seq(log(10000), log(0.001), length.out = 100))\n",
    "lasso_fit <- glmnet(X, y, alpha = 1, lambda = lambda_seq, standardize = TRUE)\n",
    "nnz <- colSums(lasso_fit$beta != 0)\n",
    "\n",
    "df_path <- data.frame(lambda = lambda_seq, nonzero = nnz)\n",
    "\n",
    "p <- ggplot(df_path, aes(x = log(lambda), y = nonzero)) +\n",
    "  geom_line(color = \"red\") +\n",
    "  labs(title = \"Lasso path: # nonzero coefficients\",\n",
    "       x = \"log(lambda)\", y = \"Nonzero coefficients\")\n",
    "\n",
    "# Definir carpeta de salida\n",
    "out_dir <- \"C:/Users/User/Desktop/Lasso_Potential_Outcomes_RCTs/R/Output\"\n",
    "\n",
    "# Exportar gráfico\n",
    "ggsave(filename = file.path(out_dir, \"lasso_path.png\"),\n",
    "       plot = p, width = 7, height = 5, dpi = 300)\n",
    "\n",
    "# Exportar tabla de resultados\n",
    "write.csv(df_path,\n",
    "          file = file.path(out_dir, \"lasso_path_table.csv\"),\n",
    "          row.names = FALSE)\n",
    "\n",
    "cat(\"Gráfico y tabla exportados a:\", out_dir, \"\\n\")\n"
   ]
  },
  {
   "cell_type": "markdown",
   "id": "5f5e5539-a712-43b4-a03e-0cba0868c569",
   "metadata": {},
   "source": [
    "### Comentario sobre el camino del Lasso\n",
    "\n",
    "- **Valores grandes de λ (penalización alta):**  \n",
    "  Todos los coeficientes se reducen a **cero**, lo que implica que el modelo no utiliza ninguna variable explicativa.\n",
    "\n",
    "- **Valores intermedios de λ:**  \n",
    "  A medida que la penalización disminuye, **aparecen gradualmente más coeficientes distintos de cero**. El número de variables seleccionadas crece de forma escalonada.\n",
    "\n",
    "- **Valores pequeños de λ (penalización baja):**  \n",
    "  El modelo mantiene hasta **5 predictores activos**, reflejando una mayor flexibilidad pero también un mayor riesgo de sobreajuste.\n",
    "\n",
    "- **Conclusión:**  \n",
    "  El gráfico ilustra la **propiedad de selección de variables del Lasso**: con penalización fuerte se eliminan variables irrelevantes, y con penalización débil se incluyen más predictores.\n"
   ]
  },
  {
   "cell_type": "code",
   "execution_count": null,
   "id": "40a6027f-f065-48ed-9486-92a28ae6e48a",
   "metadata": {},
   "outputs": [],
   "source": []
  }
 ],
 "metadata": {
  "kernelspec": {
   "display_name": "R",
   "language": "R",
   "name": "ir"
  },
  "language_info": {
   "codemirror_mode": "r",
   "file_extension": ".r",
   "mimetype": "text/x-r-source",
   "name": "R",
   "pygments_lexer": "r",
   "version": "4.5.1"
  }
 },
 "nbformat": 4,
 "nbformat_minor": 5
}

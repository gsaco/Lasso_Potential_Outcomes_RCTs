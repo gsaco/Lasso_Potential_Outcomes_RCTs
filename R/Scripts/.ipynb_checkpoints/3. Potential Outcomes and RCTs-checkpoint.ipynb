{
 "cells": [
  {
   "cell_type": "code",
   "execution_count": 2,
   "id": "71526d1f-5eca-45a0-a67d-d27bf02720c0",
   "metadata": {
    "execution": {
     "iopub.execute_input": "2025-09-17T05:29:30.580214Z",
     "iopub.status.busy": "2025-09-17T05:29:30.579399Z",
     "iopub.status.idle": "2025-09-17T05:29:30.617472Z",
     "shell.execute_reply": "2025-09-17T05:29:30.616612Z"
    }
   },
   "outputs": [
    {
     "name": "stdout",
     "output_type": "stream",
     "text": [
      "== Medias por grupo ==\n",
      "  D     X1    X2    X3    X4\n",
      "1 0  0.086 2.082 0.389 0.010\n",
      "2 1 -0.058 2.001 0.379 0.012\n",
      "\n",
      "== Balance por t-test (Welch) ==\n",
      "  Covariable Media_Tratado Media_Control Diferencia       t p_valor\n",
      "1         X1       -0.0580        0.0862    -0.1442 -2.3023  0.0215\n",
      "2         X2        2.0011        2.0816    -0.0805 -1.2581  0.2087\n",
      "3         X3        0.3786        0.3891    -0.0105 -0.3411  0.7331\n",
      "4         X4        0.0119        0.0103     0.0015  0.0429  0.9658\n"
     ]
    }
   ],
   "source": [
    "## 3.1 DATA SIMULATION (3 puntos) — R\n",
    "## ------------------------------------------------------------\n",
    "## (2 pts) Simular n=1000 con X1..X4, D~Bernoulli(0.5), eps~N(0,1)\n",
    "\n",
    "set.seed(123)\n",
    "n  <- 1000\n",
    "\n",
    "X1 <- rnorm(n, 0, 1)          # continuo\n",
    "X2 <- rnorm(n, 2, 1)          # continuo\n",
    "X3 <- rbinom(n, 1, 0.4)       # binario\n",
    "X4 <- runif(n, -1, 1)         # continuo\n",
    "\n",
    "D  <- rbinom(n, 1, 0.5)       # tratamiento\n",
    "eps <- rnorm(n, 0, 1)\n",
    "\n",
    "Y <- 2*D + 0.5*X1 - 0.3*X2 + 0.2*X3 + eps\n",
    "\n",
    "df <- data.frame(Y, D, X1, X2, X3, X4)\n",
    "\n",
    "stopifnot(sum(is.na(df)) == 0)\n",
    "\n",
    "## ------------------------------------------------------------\n",
    "## (1 pt) Balance check: medias y t-test Welch por covariable\n",
    "\n",
    "covs <- c(\"X1\",\"X2\",\"X3\",\"X4\")\n",
    "\n",
    "# Medias por grupo\n",
    "group_means <- aggregate(df[ , covs], by = list(D = df$D), FUN = mean)\n",
    "\n",
    "# t-tests\n",
    "balance <- do.call(rbind, lapply(covs, function(v){\n",
    "  tt <- t.test(df[df$D==1, v], df[df$D==0, v])  # Welch por defecto\n",
    "  data.frame(\n",
    "    Covariable = v,\n",
    "    Media_Tratado = mean(df[df$D==1, v]),\n",
    "    Media_Control = mean(df[df$D==0, v]),\n",
    "    Diferencia = mean(df[df$D==1, v]) - mean(df[df$D==0, v]),\n",
    "    t = unname(tt$statistic),\n",
    "    p_valor = unname(tt$p.value)\n",
    "  )\n",
    "}))\n",
    "\n",
    "## ------------------------------------------------------------\n",
    "## Función para redondear solo columnas numéricas\n",
    "round_df <- function(df, digits){\n",
    "  num <- sapply(df, is.numeric)\n",
    "  out <- df\n",
    "  out[ , num] <- lapply(df[ , num, drop=FALSE], round, digits = digits)\n",
    "  out\n",
    "}\n",
    "\n",
    "## Resultados\n",
    "cat(\"== Medias por grupo ==\\n\")\n",
    "print(round_df(group_means, 3))\n",
    "\n",
    "cat(\"\\n== Balance por t-test (Welch) ==\\n\")\n",
    "print(round_df(balance, 4))\n",
    "\n"
   ]
  },
  {
   "cell_type": "code",
   "execution_count": 3,
   "id": "96f9e8d9-4c68-4366-b09a-c0413e9400f3",
   "metadata": {
    "execution": {
     "iopub.execute_input": "2025-09-17T05:30:19.646610Z",
     "iopub.status.busy": "2025-09-17T05:30:19.645677Z",
     "iopub.status.idle": "2025-09-17T05:30:19.712748Z",
     "shell.execute_reply": "2025-09-17T05:30:19.711827Z"
    }
   },
   "outputs": [
    {
     "name": "stdout",
     "output_type": "stream",
     "text": [
      "== 3.2.1 ATE simple: Y ~ D ==\n",
      "ATE: 1.8651  SE: 0.0735  95% CI: [1.7210, 2.0093]  p=4.265e-110\n",
      "\n",
      "== 3.2.2 ATE con controles ==\n",
      "ATE: 1.9162  SE: 0.0633  95% CI: [1.7920, 2.0404]  p=3.408e-143\n",
      "\n",
      "== 3.2.3 Comparación ==\n",
      "Cambio en ATE (controles - simple): 0.0511\n",
      "Cambio en SE: -0.0102   Ratio SE (ctrl/simple): 0.862\n",
      "Nota: En un RCT balanceado, el ATE no debería cambiar mucho.\n",
      "Agregar covariables predictivas de Y puede reducir la varianza (SE).\n"
     ]
    }
   ],
   "source": [
    "## 3.2 ESTIMATING THE AVERAGE TREATMENT EFFECT (3 puntos) — R\n",
    "## ------------------------------------------------------------\n",
    "## Requiere el data.frame df con Y, D, X1..X4 de la sección 3.1\n",
    "\n",
    "## (1 pt) ATE simple: Y ~ D\n",
    "m_simple <- lm(Y ~ D, data = df)\n",
    "coefs_simple <- summary(m_simple)$coef\n",
    "\n",
    "ATE_simple <- coefs_simple[\"D\", \"Estimate\"]\n",
    "SE_simple  <- coefs_simple[\"D\", \"Std. Error\"]\n",
    "CI_simple  <- confint(m_simple)[\"D\", ]\n",
    "p_simple   <- coefs_simple[\"D\", \"Pr(>|t|)\"]\n",
    "\n",
    "cat(\"== 3.2.1 ATE simple: Y ~ D ==\\n\")\n",
    "cat(sprintf(\"ATE: %.4f  SE: %.4f  95%% CI: [%.4f, %.4f]  p=%.4g\\n\",\n",
    "            ATE_simple, SE_simple, CI_simple[1], CI_simple[2], p_simple))\n",
    "\n",
    "## ------------------------------------------------------------\n",
    "## (1 pt) ATE con controles: Y ~ D + X1 + X2 + X3 + X4\n",
    "m_ctrl <- lm(Y ~ D + X1 + X2 + X3 + X4, data = df)\n",
    "coefs_ctrl <- summary(m_ctrl)$coef\n",
    "\n",
    "ATE_ctrl <- coefs_ctrl[\"D\", \"Estimate\"]\n",
    "SE_ctrl  <- coefs_ctrl[\"D\", \"Std. Error\"]\n",
    "CI_ctrl  <- confint(m_ctrl)[\"D\", ]\n",
    "p_ctrl   <- coefs_ctrl[\"D\", \"Pr(>|t|)\"]\n",
    "\n",
    "cat(\"\\n== 3.2.2 ATE con controles ==\\n\")\n",
    "cat(sprintf(\"ATE: %.4f  SE: %.4f  95%% CI: [%.4f, %.4f]  p=%.4g\\n\",\n",
    "            ATE_ctrl, SE_ctrl, CI_ctrl[1], CI_ctrl[2], p_ctrl))\n",
    "\n",
    "## ------------------------------------------------------------\n",
    "## (1 pt) Comparación\n",
    "delta_ate <- ATE_ctrl - ATE_simple\n",
    "delta_se  <- SE_ctrl - SE_simple\n",
    "ratio_se  <- SE_ctrl / SE_simple\n",
    "\n",
    "cat(\"\\n== 3.2.3 Comparación ==\\n\")\n",
    "cat(sprintf(\"Cambio en ATE (controles - simple): %.4f\\n\", delta_ate))\n",
    "cat(sprintf(\"Cambio en SE: %.4f   Ratio SE (ctrl/simple): %.3f\\n\", delta_se, ratio_se))\n",
    "cat(\"Nota: En un RCT balanceado, el ATE no debería cambiar mucho.\\n\")\n",
    "cat(\"Agregar covariables predictivas de Y puede reducir la varianza (SE).\\n\")\n"
   ]
  },
  {
   "cell_type": "code",
   "execution_count": 5,
   "id": "679275eb-f649-4d8a-8572-6ff477d82a03",
   "metadata": {
    "execution": {
     "iopub.execute_input": "2025-09-17T05:33:58.157023Z",
     "iopub.status.busy": "2025-09-17T05:33:58.156192Z",
     "iopub.status.idle": "2025-09-17T05:34:09.402318Z",
     "shell.execute_reply": "2025-09-17T05:34:09.400585Z"
    }
   },
   "outputs": [
    {
     "name": "stderr",
     "output_type": "stream",
     "text": [
      "Installing package into 'C:/Users/User/AppData/Local/R/win-library/4.5'\n",
      "(as 'lib' is unspecified)\n",
      "\n",
      "also installing the dependencies 'iterators', 'foreach', 'shape', 'Rcpp', 'RcppEigen'\n",
      "\n",
      "\n"
     ]
    },
    {
     "name": "stdout",
     "output_type": "stream",
     "text": [
      "package 'iterators' successfully unpacked and MD5 sums checked\n",
      "package 'foreach' successfully unpacked and MD5 sums checked\n",
      "package 'shape' successfully unpacked and MD5 sums checked\n",
      "package 'Rcpp' successfully unpacked and MD5 sums checked\n",
      "package 'RcppEigen' successfully unpacked and MD5 sums checked\n",
      "package 'glmnet' successfully unpacked and MD5 sums checked\n",
      "\n",
      "The downloaded binary packages are in\n",
      "\tC:\\Users\\User\\AppData\\Local\\Temp\\RtmpUphwdN\\downloaded_packages\n"
     ]
    }
   ],
   "source": [
    "install.packages(\"glmnet\")\n"
   ]
  },
  {
   "cell_type": "code",
   "execution_count": 6,
   "id": "dcbdd283-175f-4c9b-a65c-9719c857b0fe",
   "metadata": {
    "execution": {
     "iopub.execute_input": "2025-09-17T05:36:48.453442Z",
     "iopub.status.busy": "2025-09-17T05:36:48.452567Z",
     "iopub.status.idle": "2025-09-17T05:36:49.632004Z",
     "shell.execute_reply": "2025-09-17T05:36:49.630331Z"
    }
   },
   "outputs": [
    {
     "name": "stdout",
     "output_type": "stream",
     "text": [
      "== 3.3.1 LASSO selección ==\n",
      "lambda.min: 0.034760   lambda.1se: 0.185505\n",
      "$Seleccionadas_lambda_min\n",
      "[1] \"X1\" \"X2\"\n",
      "\n",
      "\n",
      "== 3.3.2 ATE con seleccionadas (λ_min) ==\n",
      "ATE: 1.9154  SE: 0.0633  95% CI: [1.7912, 2.0395]  p=2.851e-143\n",
      "\n",
      "== 3.3.3 Comparación ==\n",
      "ATE simple (3.2.1): 1.8651\n",
      "ATE con todos los controles (3.2.2): 1.9162\n",
      "ATE con controles LASSO (3.3.2): 1.9154\n",
      "Comentario: en un RCT, el ATE suele ser estable; LASSO aporta parsimonia y puede reducir varianza al excluir covariables irrelevantes.\n"
     ]
    }
   ],
   "source": [
    "## 3.3 LASSO AND VARIABLE SELECTION (3 puntos) — R\n",
    "## Requiere df con Y, D, X1..X4\n",
    "\n",
    "# ------------------------------------------------------------\n",
    "# (1 pt) cv.glmnet: Y ~ X1+X2+X3+X4 (excluir D)\n",
    "suppressPackageStartupMessages({\n",
    "  library(glmnet)\n",
    "})\n",
    "\n",
    "X <- as.matrix(df[, c(\"X1\",\"X2\",\"X3\",\"X4\")])\n",
    "y <- df$Y\n",
    "\n",
    "set.seed(123)\n",
    "cvfit <- cv.glmnet(X, y, alpha = 1, nfolds = 10, standardize = TRUE)\n",
    "\n",
    "cat(\"== 3.3.1 LASSO selección ==\\n\")\n",
    "cat(sprintf(\"lambda.min: %.6f   lambda.1se: %.6f\\n\",\n",
    "            cvfit$lambda.min, cvfit$lambda.1se))\n",
    "\n",
    "cmin <- coef(cvfit, s = \"lambda.min\")\n",
    "nz   <- which(cmin[,1] != 0)\n",
    "selected <- rownames(cmin)[nz]\n",
    "selected <- setdiff(selected, \"(Intercept)\")\n",
    "print(list(Seleccionadas_lambda_min = selected))\n",
    "\n",
    "# ------------------------------------------------------------\n",
    "# (1 pt) Re-estimar ATE con covariables seleccionadas\n",
    "rhs <- if (length(selected)) paste(\"D +\", paste(selected, collapse = \" + \")) else \"D\"\n",
    "form <- as.formula(paste(\"Y ~\", rhs))\n",
    "m_lasso <- lm(form, data = df)\n",
    "\n",
    "coefs_lasso <- summary(m_lasso)$coef\n",
    "ATE_lasso <- coefs_lasso[\"D\", \"Estimate\"]\n",
    "SE_lasso  <- coefs_lasso[\"D\", \"Std. Error\"]\n",
    "CI_lasso  <- confint(m_lasso)[\"D\", ]\n",
    "p_lasso   <- coefs_lasso[\"D\", \"Pr(>|t|)\"]\n",
    "\n",
    "cat(\"\\n== 3.3.2 ATE con seleccionadas (λ_min) ==\\n\")\n",
    "cat(sprintf(\"ATE: %.4f  SE: %.4f  95%% CI: [%.4f, %.4f]  p=%.4g\\n\",\n",
    "            ATE_lasso, SE_lasso, CI_lasso[1], CI_lasso[2], p_lasso))\n",
    "\n",
    "# ------------------------------------------------------------\n",
    "# (1 pt) Comparación con 3.2\n",
    "if (!exists(\"m_simple\")) m_simple <- lm(Y ~ D, data = df)\n",
    "if (!exists(\"m_ctrl\"))   m_ctrl   <- lm(Y ~ D + X1 + X2 + X3 + X4, data = df)\n",
    "\n",
    "ATE_simple <- summary(m_simple)$coef[\"D\",\"Estimate\"]\n",
    "ATE_ctrl   <- summary(m_ctrl)$coef[\"D\",\"Estimate\"]\n",
    "\n",
    "cat(\"\\n== 3.3.3 Comparación ==\\n\")\n",
    "cat(sprintf(\"ATE simple (3.2.1): %.4f\\n\", ATE_simple))\n",
    "cat(sprintf(\"ATE con todos los controles (3.2.2): %.4f\\n\", ATE_ctrl))\n",
    "cat(sprintf(\"ATE con controles LASSO (3.3.2): %.4f\\n\", ATE_lasso))\n",
    "cat(\"Comentario: en un RCT, el ATE suele ser estable; LASSO aporta parsimonia y puede reducir varianza al excluir covariables irrelevantes.\\n\")\n"
   ]
  },
  {
   "cell_type": "code",
   "execution_count": null,
   "id": "aa8e7ecd-c14f-4d5e-ac92-811aba48c1ab",
   "metadata": {},
   "outputs": [],
   "source": []
  }
 ],
 "metadata": {
  "kernelspec": {
   "display_name": "R",
   "language": "R",
   "name": "ir"
  },
  "language_info": {
   "codemirror_mode": "r",
   "file_extension": ".r",
   "mimetype": "text/x-r-source",
   "name": "R",
   "pygments_lexer": "r",
   "version": "4.5.1"
  }
 },
 "nbformat": 4,
 "nbformat_minor": 5
}

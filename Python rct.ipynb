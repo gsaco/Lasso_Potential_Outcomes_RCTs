{
 "cells": [
  {
   "cell_type": "markdown",
   "metadata": {},
   "source": [
    "# Lab 5: Causal Inference with Randomized Experiments\n",
    "\n",
    "As we saw in class, the problem of causal inference is the fact that we cannot observe, for the same individual, the outcome when they are put under a treatment and the same outcome when they are not put under the treatment. This means that we cannot find the individual effect of the treatment, which is the difference of the outcomes in either circumstance. However, we can approximate the expected difference at the population level, the **average treatment effect**. We also touched upon the fact that we cannot do this easily with observational data, as our observations may be biased because of underlying relationships between the real treatment and unobserved variables, meaning that a simple regression of the outcome on the treatment will not render a faithful approximation of the real. The following example will help illustrate how this failure to consider selection bias can lead us to both type 1 and type 2 errors.\n",
    "\n",
    "## Type 1 error:\n",
    "\n",
    "Imagine we are researchers in the first phase of research for a new drug aimed at reducing blood cholesterol levels. Because this is the first phase, we would like to assess the safety of the treatment. Therefor, we want to quantify the effect the the regime has on lung health. Let $Y(d)$ be the potential outcome of an indicator of overall respiratory health. Let $D$ be the observed treatment variable, and assume first that treatment was not assigned randomly, but that it is correlated with underlying variables lifestyle and demographic characteristics. Formally, we have the following model:\n",
    "\n",
    "\\begin{gather*}\n",
    "Y(0) = \\theta_0+\\epsilon_0\\\\\n",
    "Y(1) = \\theta_1+\\epsilon_1\\\\\n",
    "D = \\mathbb{1}(\\nu>0)\\\\\n",
    "Y=Y(D)=(1-D)Y(0)+DY(1)\n",
    "\\end{gather*}\n",
    "\n",
    "Here. $\\theta_0$ and $\\theta_1$ are the averages of their respective potential outcomes, $(\\epsilon_0, \\epsilon_1, \\nu)$ is a random vector of variables that are jointly distributed with mean 0 and covariance $\\Sigma$. $\\epsilon_0$ and $\\epsilon_1$ are determinants of overall lung health like lifestyle, exposure to environmental contaminants, diet, etc. For this specific example, the variable that determines treatment, $\\nu$, is negativelly correlated with $\\epsilon_0$ and $\\epsilon_1$. One way to interpret this is that people with worse overall lifestyle patterns that provoke worse lung health may also tend to have worse blood cholesterol content, and therefor are more likely to seek the treatment in question.\n",
    "\n",
    "For simulating the data, we will generate 100 000 observations of the variables in our model. We will assume that the average potential outcomes are $\\theta_0 = \\theta_1 =1$ and the covariance matrix is\n",
    "\n",
    "$$\n",
    "\\Sigma = \\left(\\begin{matrix}\n",
    "1 & 0 & -0.5\\\\\n",
    "0 & 1 & -0.5\\\\\n",
    "-0.5 & -0.5 & 1\n",
    "\\end{matrix}\\right)\n",
    "$$"
   ]
  },
  {
   "cell_type": "code",
   "execution_count": 1,
   "metadata": {},
   "outputs": [],
   "source": [
    "import numpy as np\n",
    "from statsmodels import api as sms"
   ]
  },
  {
   "cell_type": "markdown",
   "metadata": {},
   "source": [
    "We start by simulating the data"
   ]
  },
  {
   "cell_type": "code",
   "execution_count": 2,
   "metadata": {},
   "outputs": [],
   "source": [
    "N = 100_000\n",
    "cov_matrix = np.array([[  1,    0, -.5],\n",
    "                       [  0,    1, -.5],\n",
    "                       [-.5,  -.5,   1]])\n",
    "random_shocks = np.random.multivariate_normal([0, 0, 0], cov_matrix, N)\n",
    "epsilon0 = random_shocks[:, [0]].copy()\n",
    "epsilon1 = random_shocks[:, [1]].copy()\n",
    "nu = random_shocks[:, [2]] > 0\n",
    "theta0 = 1\n",
    "theta1 = 1\n",
    "Y_0 = theta0 + epsilon0\n",
    "Y_1 = theta1 + epsilon1\n",
    "D_biased = (nu > 0).astype(int)\n",
    "Y_biased = (1 - D_biased) * Y_0 + D_biased * Y_1"
   ]
  },
  {
   "cell_type": "markdown",
   "metadata": {},
   "source": [
    "Recall that the average treatment effect is defined as\n",
    "\n",
    "$$\n",
    "\\delta=E[Y(1) - Y(0)] = E[Y(1)] - E[Y(0)]\n",
    "$$\n",
    "\n",
    "In our example\n",
    "\n",
    "$$\n",
    "\\delta = \\theta_1-\\theta_0\n",
    "$$\n",
    "\n",
    "Given the way we have defined our model, this should just be 0. In reality, we cannot observe both $Y(0)$ and $Y(1)$. However, we can play by our own rules when we are the ones simulating the data, and find the actual ATE. We should expect to see a very small number as the result"
   ]
  },
  {
   "cell_type": "code",
   "execution_count": 3,
   "metadata": {},
   "outputs": [
    {
     "data": {
      "text/plain": [
       "np.float64(-0.004143869645451104)"
      ]
     },
     "execution_count": 3,
     "metadata": {},
     "output_type": "execute_result"
    }
   ],
   "source": [
    "Y_1.mean() - Y_0.mean()"
   ]
  },
  {
   "cell_type": "markdown",
   "metadata": {},
   "source": [
    "We can calculate the variance of the individual diferences and see that it is much larger than the average diference. This should hint that the divergence from the true value of zero comes from imprecission caused by the random vairiables $\\epsilon_d$"
   ]
  },
  {
   "cell_type": "code",
   "execution_count": 4,
   "metadata": {},
   "outputs": [
    {
     "data": {
      "text/plain": [
       "np.float64(0.004471725542244872)"
      ]
     },
     "execution_count": 4,
     "metadata": {},
     "output_type": "execute_result"
    }
   ],
   "source": [
    "(Y_1 - Y_0).std() / np.sqrt(N)"
   ]
  },
  {
   "cell_type": "markdown",
   "metadata": {},
   "source": [
    "In practice, we would approximate $\\theta_0, \\theta_1$ by getting each group's mean. This is:\n",
    "\n",
    "$$\n",
    "\\hat{\\theta}_d = \\frac{\\sum_{\\{i\\in[1,...,n]:D_i=d\\}}Y_i}{n_d} = \\frac{\\mathbb{E}_n[Y1(D=d)]}{\\mathbb{E}_n[1(D=d)]}\n",
    "$$\n",
    "\n",
    "Then we can approximate the ATE with $\\hat{\\theta}_1-\\hat{\\theta}_0$. We can also get confidence intervals for these estimators\n",
    "\n",
    "$$\n",
    "Var(\\hat{\\theta}_1)=\\frac{Var(Y|D=d)}{nP(D = d)}\n",
    "$$\n",
    "\n",
    "With this, our $\\hat{\\delta}$ estimate is distributed as:\n",
    "\n",
    "$$\n",
    "\\hat{\\delta}\\sim_a\\mathcal{N}(\\delta, Var(\\hat{\\theta}_1) + Var(\\hat{\\theta}_2))\n",
    "$$"
   ]
  },
  {
   "cell_type": "code",
   "execution_count": 5,
   "metadata": {},
   "outputs": [
    {
     "data": {
      "text/plain": [
       "np.float64(-0.7993475094711052)"
      ]
     },
     "execution_count": 5,
     "metadata": {},
     "output_type": "execute_result"
    }
   ],
   "source": [
    "(Y_biased * D_biased).mean() / D_biased.mean() - (Y_biased * (1 - D_biased)).mean() / (1 - D_biased).mean()"
   ]
  },
  {
   "cell_type": "code",
   "execution_count": 6,
   "metadata": {},
   "outputs": [
    {
     "data": {
      "text/plain": [
       "np.float64(0.004595261726401886)"
      ]
     },
     "execution_count": 6,
     "metadata": {},
     "output_type": "execute_result"
    }
   ],
   "source": [
    "ate_variance = Y_biased[D_biased.reshape(-1)].var()/D_biased.mean() / N + Y_biased[1 - D_biased.reshape(-1)].var()/(1 - D_biased).mean() / N\n",
    "np.sqrt(ate_variance)"
   ]
  },
  {
   "cell_type": "markdown",
   "metadata": {},
   "source": [
    "This is a very different result from the one above. First of all, we get a result that is relatively large in comparison to the real value of zero. Also, we get a very precise result that would imply high significance of our variable. This would lead us to reject the null hypothesis, even though it is true. For more clarity, we can run a regression of the recentered variables variables. Recentering is simply subtracting the mean.\n",
    "\n",
    "We see the same results, plus a very large $t$ statistic and a very small $p$ value."
   ]
  },
  {
   "cell_type": "code",
   "execution_count": 7,
   "metadata": {},
   "outputs": [
    {
     "name": "stdout",
     "output_type": "stream",
     "text": [
      "                                 OLS Regression Results                                \n",
      "=======================================================================================\n",
      "Dep. Variable:                      y   R-squared (uncentered):                   0.160\n",
      "Model:                            OLS   Adj. R-squared (uncentered):              0.160\n",
      "Method:                 Least Squares   F-statistic:                          1.900e+04\n",
      "Date:                Wed, 18 Sep 2024   Prob (F-statistic):                        0.00\n",
      "Time:                        11:01:07   Log-Likelihood:                     -1.3321e+05\n",
      "No. Observations:              100000   AIC:                                  2.664e+05\n",
      "Df Residuals:                   99999   BIC:                                  2.664e+05\n",
      "Df Model:                           1                                                  \n",
      "Covariance Type:            nonrobust                                                  \n",
      "==============================================================================\n",
      "                 coef    std err          t      P>|t|      [0.025      0.975]\n",
      "------------------------------------------------------------------------------\n",
      "x1            -0.7993      0.006   -137.856      0.000      -0.811      -0.788\n",
      "==============================================================================\n",
      "Omnibus:                        3.400   Durbin-Watson:                   2.009\n",
      "Prob(Omnibus):                  0.183   Jarque-Bera (JB):                3.389\n",
      "Skew:                           0.013   Prob(JB):                        0.184\n",
      "Kurtosis:                       3.011   Cond. No.                         1.00\n",
      "==============================================================================\n",
      "\n",
      "Notes:\n",
      "[1] R² is computed without centering (uncentered) since the model does not contain a constant.\n",
      "[2] Standard Errors assume that the covariance matrix of the errors is correctly specified.\n"
     ]
    }
   ],
   "source": [
    "model = sms.OLS(Y_biased - Y_biased.mean(), D_biased - D_biased.mean())\n",
    "print(model.fit().summary())"
   ]
  },
  {
   "cell_type": "markdown",
   "metadata": {},
   "source": [
    "This happens because selection bias leads to an apparent negative relationship between the treatment and the outcome. In our research setting, we would interpret this finding as the drug having a negative effect on lung health, even though the true ATE is of 0. This relationship only arises because of underlying variables that determine both $Y(d)$ and $D$ simultaneously. A variable that affects both the propensity of treatment and the outcome is called a **confounder**, and not taking confounders into account can lead to the kinds of issues we are seeing in this example. One way of tackling the issue of confounding is to use randomized treatments. Now in our research example, instead of having a $D$ treatment that is correlated with some unobservables, we randomly assign the treatment to the population of interest. We can simulate that through our code."
   ]
  },
  {
   "cell_type": "code",
   "execution_count": 8,
   "metadata": {},
   "outputs": [],
   "source": [
    "D_random = (np.random.normal(0, 1, (N, 1)) > 0).astype(int)\n",
    "Y_random = (1 - D_random) * Y_0 + D_random * Y_1"
   ]
  },
  {
   "cell_type": "markdown",
   "metadata": {},
   "source": [
    "We now estimate the ATE and its variance like before."
   ]
  },
  {
   "cell_type": "code",
   "execution_count": 9,
   "metadata": {},
   "outputs": [
    {
     "data": {
      "text/plain": [
       "np.float64(0.0031539566475615732)"
      ]
     },
     "execution_count": 9,
     "metadata": {},
     "output_type": "execute_result"
    }
   ],
   "source": [
    "(Y_random * D_random).mean() / D_random.mean() - (Y_random * (1 - D_random)).mean() / (1 - D_random).mean()"
   ]
  },
  {
   "cell_type": "code",
   "execution_count": 10,
   "metadata": {},
   "outputs": [
    {
     "data": {
      "text/plain": [
       "np.float64(0.004595261726401886)"
      ]
     },
     "execution_count": 10,
     "metadata": {},
     "output_type": "execute_result"
    }
   ],
   "source": [
    "ate_variance = Y_biased[D_biased.reshape(-1)].var()/D_biased.mean() / N + Y_biased[1 - D_biased.reshape(-1)].var()/(1 - D_biased).mean() / N\n",
    "np.sqrt(ate_variance)"
   ]
  },
  {
   "cell_type": "markdown",
   "metadata": {},
   "source": [
    "We can see now that we get a much smaller value for the treatment effect, and that it is not even significant at the standard levels. To see this, we can conduct a regression"
   ]
  },
  {
   "cell_type": "code",
   "execution_count": 11,
   "metadata": {},
   "outputs": [
    {
     "name": "stdout",
     "output_type": "stream",
     "text": [
      "                                 OLS Regression Results                                \n",
      "=======================================================================================\n",
      "Dep. Variable:                      y   R-squared (uncentered):                   0.000\n",
      "Model:                            OLS   Adj. R-squared (uncentered):             -0.000\n",
      "Method:                 Least Squares   F-statistic:                             0.2493\n",
      "Date:                Wed, 18 Sep 2024   Prob (F-statistic):                       0.618\n",
      "Time:                        11:01:07   Log-Likelihood:                     -1.4177e+05\n",
      "No. Observations:              100000   AIC:                                  2.835e+05\n",
      "Df Residuals:                   99999   BIC:                                  2.836e+05\n",
      "Df Model:                           1                                                  \n",
      "Covariance Type:            nonrobust                                                  \n",
      "==============================================================================\n",
      "                 coef    std err          t      P>|t|      [0.025      0.975]\n",
      "------------------------------------------------------------------------------\n",
      "x1             0.0032      0.006      0.499      0.618      -0.009       0.016\n",
      "==============================================================================\n",
      "Omnibus:                        1.303   Durbin-Watson:                   2.005\n",
      "Prob(Omnibus):                  0.521   Jarque-Bera (JB):                1.295\n",
      "Skew:                           0.008   Prob(JB):                        0.523\n",
      "Kurtosis:                       3.006   Cond. No.                         1.00\n",
      "==============================================================================\n",
      "\n",
      "Notes:\n",
      "[1] R² is computed without centering (uncentered) since the model does not contain a constant.\n",
      "[2] Standard Errors assume that the covariance matrix of the errors is correctly specified.\n"
     ]
    }
   ],
   "source": [
    "model = sms.OLS(Y_random - Y_random.mean(), D_random - D_random.mean())\n",
    "print(model.fit().summary())"
   ]
  },
  {
   "cell_type": "markdown",
   "metadata": {},
   "source": [
    "The great utility of randomization is that it ensures that the realized treatment and the potential outcomes are uncorrelated, which leads to unbiased estimation.\n",
    "\n",
    "## Type 2 error\n",
    "\n",
    "Now, after having made sure that our treatment is safe, we can now look into its effectiveness in reducing blood cholesterol. Let the outcome now be inversely proportional to the blood cholesterol measure, such that a higher value represents lower cholesterol levels. For it to be considered effective it would have to have a positive and significant ATE. We will set the ATE for this example to 0.8. We will start with the observational setting, where we do not randomize the treatment."
   ]
  },
  {
   "cell_type": "code",
   "execution_count": 12,
   "metadata": {},
   "outputs": [],
   "source": [
    "theta0 = 1\n",
    "theta1 = 1.8\n",
    "Y_0 = theta0 + epsilon0\n",
    "Y_1 = theta1 + epsilon1\n",
    "D_biased = (nu > 0).astype(int)\n",
    "Y_biased = (1 - D_biased) * Y_0 + D_biased * Y_1"
   ]
  },
  {
   "cell_type": "markdown",
   "metadata": {},
   "source": [
    "If we run a regression for the demeaned variables, we see that we get a small and insignificant estimator for our treatment effect. Again, the correlation between the treatment and the potential outcomes is causing us to get results that do not reflect reality. In this case we are led to not reject the null hypothesis, even though it is false and the true ATE is quite different from 0."
   ]
  },
  {
   "cell_type": "code",
   "execution_count": 13,
   "metadata": {},
   "outputs": [
    {
     "name": "stdout",
     "output_type": "stream",
     "text": [
      "                                 OLS Regression Results                                \n",
      "=======================================================================================\n",
      "Dep. Variable:                      y   R-squared (uncentered):                   0.000\n",
      "Model:                            OLS   Adj. R-squared (uncentered):             -0.000\n",
      "Method:                 Least Squares   F-statistic:                            0.01266\n",
      "Date:                Wed, 18 Sep 2024   Prob (F-statistic):                       0.910\n",
      "Time:                        11:01:07   Log-Likelihood:                     -1.3321e+05\n",
      "No. Observations:              100000   AIC:                                  2.664e+05\n",
      "Df Residuals:                   99999   BIC:                                  2.664e+05\n",
      "Df Model:                           1                                                  \n",
      "Covariance Type:            nonrobust                                                  \n",
      "==============================================================================\n",
      "                 coef    std err          t      P>|t|      [0.025      0.975]\n",
      "------------------------------------------------------------------------------\n",
      "x1             0.0007      0.006      0.113      0.910      -0.011       0.012\n",
      "==============================================================================\n",
      "Omnibus:                        3.400   Durbin-Watson:                   2.009\n",
      "Prob(Omnibus):                  0.183   Jarque-Bera (JB):                3.389\n",
      "Skew:                           0.013   Prob(JB):                        0.184\n",
      "Kurtosis:                       3.011   Cond. No.                         1.00\n",
      "==============================================================================\n",
      "\n",
      "Notes:\n",
      "[1] R² is computed without centering (uncentered) since the model does not contain a constant.\n",
      "[2] Standard Errors assume that the covariance matrix of the errors is correctly specified.\n"
     ]
    }
   ],
   "source": [
    "model = sms.OLS(Y_biased - Y_biased.mean(), D_biased - D_biased.mean())\n",
    "print(model.fit().summary())"
   ]
  },
  {
   "cell_type": "markdown",
   "metadata": {},
   "source": [
    "However, with random assignment, we get much closer to the true ATE, and we can now (correctly) reject the null hypothesis"
   ]
  },
  {
   "cell_type": "code",
   "execution_count": 14,
   "metadata": {},
   "outputs": [],
   "source": [
    "D_random = (np.random.normal(0, 1, (N, 1)) > 0).astype(int)\n",
    "Y_random = (1 - D_random) * Y_0 + D_random * Y_1"
   ]
  },
  {
   "cell_type": "code",
   "execution_count": 15,
   "metadata": {},
   "outputs": [
    {
     "name": "stdout",
     "output_type": "stream",
     "text": [
      "                                 OLS Regression Results                                \n",
      "=======================================================================================\n",
      "Dep. Variable:                      y   R-squared (uncentered):                   0.135\n",
      "Model:                            OLS   Adj. R-squared (uncentered):              0.135\n",
      "Method:                 Least Squares   F-statistic:                          1.555e+04\n",
      "Date:                Wed, 18 Sep 2024   Prob (F-statistic):                        0.00\n",
      "Time:                        11:01:07   Log-Likelihood:                     -1.4184e+05\n",
      "No. Observations:              100000   AIC:                                  2.837e+05\n",
      "Df Residuals:                   99999   BIC:                                  2.837e+05\n",
      "Df Model:                           1                                                  \n",
      "Covariance Type:            nonrobust                                                  \n",
      "==============================================================================\n",
      "                 coef    std err          t      P>|t|      [0.025      0.975]\n",
      "------------------------------------------------------------------------------\n",
      "x1             0.7882      0.006    124.701      0.000       0.776       0.801\n",
      "==============================================================================\n",
      "Omnibus:                        0.338   Durbin-Watson:                   2.003\n",
      "Prob(Omnibus):                  0.845   Jarque-Bera (JB):                0.330\n",
      "Skew:                           0.003   Prob(JB):                        0.848\n",
      "Kurtosis:                       3.006   Cond. No.                         1.00\n",
      "==============================================================================\n",
      "\n",
      "Notes:\n",
      "[1] R² is computed without centering (uncentered) since the model does not contain a constant.\n",
      "[2] Standard Errors assume that the covariance matrix of the errors is correctly specified.\n"
     ]
    }
   ],
   "source": [
    "model = sms.OLS(Y_random - Y_random.mean(), D_random - D_random.mean())\n",
    "print(model.fit().summary())"
   ]
  },
  {
   "cell_type": "markdown",
   "metadata": {},
   "source": [
    "## Identification through strong ignorability:\n",
    "\n",
    "Sometimes we don't have the means to conduct a full RCT. Most of the time we only have data available from surveys and administrative records. The root of the estimation bias is solved by randomization, but the lack of randomization is not the cause of the bias itself. We can find other procedures that can lead us to an unbiased estimate even with a biased treatment. Recall from class that we can identify treatment effects through strong ignorability. We call $D_i$ strongly ignorable conditional on a vector $X$ if it follows:\n",
    "\n",
    "- Ignorability: For a given value of $X_i$, $D_i$ is unrelated to the potential outcomes\n",
    "- Positivity: $P(D_i=1|X_i)\\in(0, 1)$. For a given value of $X_i$, there are treated and untreated individuals.\n",
    "\n",
    "The second condition is somewhat trivial but necessary to make sure that at any value of $X_i$ there exists a split, even if it is very unbalanced. The first condition, on the other hand, hearkens back to a topic we have explored before. Recall the partialling out procedure, where, for a variable $V_i$, we would construct $\\tilde{V}_i$ such that\n",
    "\n",
    "$$\n",
    "\\tilde{V}_i=V_i-E[V_i|X_i]\n",
    "$$\n",
    "\n",
    "We refer back to partialling out in this situation because, through it, we are able to \"remove\" the influence of $X$ (in this case, our $\\epsilon_0$ and $\\epsilon_1$ variables) on $D$ and on $Y$. Therefor, we would expect the regression between the variables $\\tilde{Y}$ and $\\tilde{D}$ to give us a better estimate even if the base variables are biased. Note that this is because we can observe $X$."
   ]
  },
  {
   "cell_type": "code",
   "execution_count": 16,
   "metadata": {},
   "outputs": [],
   "source": [
    "from sklearn.linear_model import LogisticRegression, LinearRegression\n",
    "\n",
    "D_model = LogisticRegression()\n",
    "D_model.fit(np.hstack((epsilon0, epsilon1)), D_biased.reshape(-1))\n",
    "D_resid = D_biased - D_model.predict_proba(np.hstack((epsilon0, epsilon1)))[:, [1]]\n",
    "Y_model = LinearRegression()\n",
    "Y_model.fit(np.hstack((epsilon0, epsilon1)), Y_biased.reshape(-1))\n",
    "Y_resid = Y_biased - Y_model.predict(np.hstack((epsilon0, epsilon1))).reshape(-1, 1)"
   ]
  },
  {
   "cell_type": "code",
   "execution_count": 17,
   "metadata": {},
   "outputs": [
    {
     "name": "stdout",
     "output_type": "stream",
     "text": [
      "                                 OLS Regression Results                                \n",
      "=======================================================================================\n",
      "Dep. Variable:                      y   R-squared (uncentered):                   0.174\n",
      "Model:                            OLS   Adj. R-squared (uncentered):              0.174\n",
      "Method:                 Least Squares   F-statistic:                          2.102e+04\n",
      "Date:                Wed, 18 Sep 2024   Prob (F-statistic):                        0.00\n",
      "Time:                        11:01:07   Log-Likelihood:                     -1.0747e+05\n",
      "No. Observations:              100000   AIC:                                  2.149e+05\n",
      "Df Residuals:                   99999   BIC:                                  2.149e+05\n",
      "Df Model:                           1                                                  \n",
      "Covariance Type:            nonrobust                                                  \n",
      "==============================================================================\n",
      "                 coef    std err          t      P>|t|      [0.025      0.975]\n",
      "------------------------------------------------------------------------------\n",
      "x1             0.7945      0.005    144.978      0.000       0.784       0.805\n",
      "==============================================================================\n",
      "Omnibus:                        0.272   Durbin-Watson:                   2.007\n",
      "Prob(Omnibus):                  0.873   Jarque-Bera (JB):                0.262\n",
      "Skew:                           0.001   Prob(JB):                        0.877\n",
      "Kurtosis:                       3.008   Cond. No.                         1.00\n",
      "==============================================================================\n",
      "\n",
      "Notes:\n",
      "[1] R² is computed without centering (uncentered) since the model does not contain a constant.\n",
      "[2] Standard Errors assume that the covariance matrix of the errors is correctly specified.\n"
     ]
    }
   ],
   "source": [
    "model = sms.OLS(Y_resid, D_resid)\n",
    "print(model.fit().summary())"
   ]
  }
 ],
 "metadata": {
  "kernelspec": {
   "display_name": ".venv",
   "language": "python",
   "name": "python3"
  },
  "language_info": {
   "codemirror_mode": {
    "name": "ipython",
    "version": 3
   },
   "file_extension": ".py",
   "mimetype": "text/x-python",
   "name": "python",
   "nbconvert_exporter": "python",
   "pygments_lexer": "ipython3",
   "version": "3.11.5"
  }
 },
 "nbformat": 4,
 "nbformat_minor": 2
}

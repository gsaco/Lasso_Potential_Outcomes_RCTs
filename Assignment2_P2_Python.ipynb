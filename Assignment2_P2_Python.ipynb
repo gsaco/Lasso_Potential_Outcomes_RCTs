{
 "cells": [
  {
   "cell_type": "code",
   "execution_count": 18,
   "id": "7fb39ebb-c666-4a19-9127-b24cdf2198c4",
   "metadata": {},
   "outputs": [],
   "source": [
    "import pandas as pd\n",
    "import numpy as np\n",
    "import os\n",
    "import matplotlib.pyplot as plt\n",
    "from sklearn.model_selection import train_test_split\n",
    "from sklearn.linear_model import LinearRegression, lasso_path\n",
    "from sklearn.metrics import r2_score\n",
    "import patsy\n",
    "from sklearn.preprocessing import StandardScaler"
   ]
  },
  {
   "cell_type": "code",
   "execution_count": 49,
   "id": "194d0b14-f666-4aee-98bd-663018179633",
   "metadata": {},
   "outputs": [
    {
     "data": {
      "text/html": [
       "<div>\n",
       "<style scoped>\n",
       "    .dataframe tbody tr th:only-of-type {\n",
       "        vertical-align: middle;\n",
       "    }\n",
       "\n",
       "    .dataframe tbody tr th {\n",
       "        vertical-align: top;\n",
       "    }\n",
       "\n",
       "    .dataframe thead th {\n",
       "        text-align: right;\n",
       "    }\n",
       "</style>\n",
       "<table border=\"1\" class=\"dataframe\">\n",
       "  <thead>\n",
       "    <tr style=\"text-align: right;\">\n",
       "      <th></th>\n",
       "      <th>STATCD</th>\n",
       "      <th>DISTCD</th>\n",
       "      <th>STATNAME</th>\n",
       "      <th>DISTNAME</th>\n",
       "      <th>DISTRICTS</th>\n",
       "      <th>BLOCKS</th>\n",
       "      <th>VILLAGES</th>\n",
       "      <th>TOTPOPULAT</th>\n",
       "      <th>P_URB_POP</th>\n",
       "      <th>POPULATION_0_6</th>\n",
       "      <th>...</th>\n",
       "      <th>CLS5</th>\n",
       "      <th>CLS6</th>\n",
       "      <th>CLS7</th>\n",
       "      <th>TCH1</th>\n",
       "      <th>TCH2</th>\n",
       "      <th>TCH3</th>\n",
       "      <th>TCH4</th>\n",
       "      <th>TCH5</th>\n",
       "      <th>TCH6</th>\n",
       "      <th>TCH7</th>\n",
       "    </tr>\n",
       "  </thead>\n",
       "  <tbody>\n",
       "    <tr>\n",
       "      <th>0</th>\n",
       "      <td>1</td>\n",
       "      <td>101</td>\n",
       "      <td>JAMMU &amp; KASHMIR</td>\n",
       "      <td>KUPWARA</td>\n",
       "      <td>1</td>\n",
       "      <td>13</td>\n",
       "      <td>391</td>\n",
       "      <td>875564.0</td>\n",
       "      <td>11.33</td>\n",
       "      <td>197001.90</td>\n",
       "      <td>...</td>\n",
       "      <td>23</td>\n",
       "      <td>852</td>\n",
       "      <td>239</td>\n",
       "      <td>2708</td>\n",
       "      <td>5205</td>\n",
       "      <td>43</td>\n",
       "      <td>70</td>\n",
       "      <td>28</td>\n",
       "      <td>1065</td>\n",
       "      <td>638</td>\n",
       "    </tr>\n",
       "    <tr>\n",
       "      <th>1</th>\n",
       "      <td>1</td>\n",
       "      <td>102</td>\n",
       "      <td>JAMMU &amp; KASHMIR</td>\n",
       "      <td>BARAMULA</td>\n",
       "      <td>1</td>\n",
       "      <td>18</td>\n",
       "      <td>678</td>\n",
       "      <td>1015503.0</td>\n",
       "      <td>17.19</td>\n",
       "      <td>161871.18</td>\n",
       "      <td>...</td>\n",
       "      <td>30</td>\n",
       "      <td>1665</td>\n",
       "      <td>360</td>\n",
       "      <td>2937</td>\n",
       "      <td>5873</td>\n",
       "      <td>236</td>\n",
       "      <td>60</td>\n",
       "      <td>105</td>\n",
       "      <td>2533</td>\n",
       "      <td>964</td>\n",
       "    </tr>\n",
       "    <tr>\n",
       "      <th>2</th>\n",
       "      <td>1</td>\n",
       "      <td>103</td>\n",
       "      <td>JAMMU &amp; KASHMIR</td>\n",
       "      <td>SRINAGAR</td>\n",
       "      <td>1</td>\n",
       "      <td>8</td>\n",
       "      <td>94</td>\n",
       "      <td>1269751.0</td>\n",
       "      <td>98.73</td>\n",
       "      <td>155798.45</td>\n",
       "      <td>...</td>\n",
       "      <td>0</td>\n",
       "      <td>2873</td>\n",
       "      <td>40</td>\n",
       "      <td>828</td>\n",
       "      <td>3647</td>\n",
       "      <td>1159</td>\n",
       "      <td>14</td>\n",
       "      <td>0</td>\n",
       "      <td>4757</td>\n",
       "      <td>129</td>\n",
       "    </tr>\n",
       "    <tr>\n",
       "      <th>3</th>\n",
       "      <td>1</td>\n",
       "      <td>104</td>\n",
       "      <td>JAMMU &amp; KASHMIR</td>\n",
       "      <td>BADGAM</td>\n",
       "      <td>1</td>\n",
       "      <td>13</td>\n",
       "      <td>523</td>\n",
       "      <td>735753.0</td>\n",
       "      <td>11.74</td>\n",
       "      <td>150755.79</td>\n",
       "      <td>...</td>\n",
       "      <td>8</td>\n",
       "      <td>1035</td>\n",
       "      <td>325</td>\n",
       "      <td>1878</td>\n",
       "      <td>3892</td>\n",
       "      <td>250</td>\n",
       "      <td>68</td>\n",
       "      <td>19</td>\n",
       "      <td>1493</td>\n",
       "      <td>716</td>\n",
       "    </tr>\n",
       "    <tr>\n",
       "      <th>4</th>\n",
       "      <td>1</td>\n",
       "      <td>105</td>\n",
       "      <td>JAMMU &amp; KASHMIR</td>\n",
       "      <td>PULWAMA</td>\n",
       "      <td>1</td>\n",
       "      <td>8</td>\n",
       "      <td>359</td>\n",
       "      <td>570060.0</td>\n",
       "      <td>13.80</td>\n",
       "      <td>97651.28</td>\n",
       "      <td>...</td>\n",
       "      <td>5</td>\n",
       "      <td>1101</td>\n",
       "      <td>209</td>\n",
       "      <td>1336</td>\n",
       "      <td>2682</td>\n",
       "      <td>113</td>\n",
       "      <td>90</td>\n",
       "      <td>38</td>\n",
       "      <td>1414</td>\n",
       "      <td>506</td>\n",
       "    </tr>\n",
       "  </tbody>\n",
       "</table>\n",
       "<p>5 rows × 100 columns</p>\n",
       "</div>"
      ],
      "text/plain": [
       "   STATCD  DISTCD         STATNAME  DISTNAME  DISTRICTS  BLOCKS  VILLAGES  \\\n",
       "0       1     101  JAMMU & KASHMIR   KUPWARA          1      13       391   \n",
       "1       1     102  JAMMU & KASHMIR  BARAMULA          1      18       678   \n",
       "2       1     103  JAMMU & KASHMIR  SRINAGAR          1       8        94   \n",
       "3       1     104  JAMMU & KASHMIR    BADGAM          1      13       523   \n",
       "4       1     105  JAMMU & KASHMIR   PULWAMA          1       8       359   \n",
       "\n",
       "   TOTPOPULAT  P_URB_POP  POPULATION_0_6  ...  CLS5  CLS6  CLS7  TCH1  TCH2  \\\n",
       "0    875564.0      11.33       197001.90  ...    23   852   239  2708  5205   \n",
       "1   1015503.0      17.19       161871.18  ...    30  1665   360  2937  5873   \n",
       "2   1269751.0      98.73       155798.45  ...     0  2873    40   828  3647   \n",
       "3    735753.0      11.74       150755.79  ...     8  1035   325  1878  3892   \n",
       "4    570060.0      13.80        97651.28  ...     5  1101   209  1336  2682   \n",
       "\n",
       "   TCH3  TCH4  TCH5  TCH6  TCH7  \n",
       "0    43    70    28  1065   638  \n",
       "1   236    60   105  2533   964  \n",
       "2  1159    14     0  4757   129  \n",
       "3   250    68    19  1493   716  \n",
       "4   113    90    38  1414   506  \n",
       "\n",
       "[5 rows x 100 columns]"
      ]
     },
     "execution_count": 49,
     "metadata": {},
     "output_type": "execute_result"
    }
   ],
   "source": [
    "df = pd.read_excel(\"C:/Users/Matias/OneDrive/Documentos/jupyter/CausalAI-Course/data/Districtwise_literacy_rates.xlsx\")\n",
    "df.head()"
   ]
  },
  {
   "cell_type": "code",
   "execution_count": 50,
   "id": "d71728d9-d5d4-40ea-ab92-b67cb57e968c",
   "metadata": {},
   "outputs": [
    {
     "data": {
      "text/plain": [
       "(680, 100)"
      ]
     },
     "execution_count": 50,
     "metadata": {},
     "output_type": "execute_result"
    }
   ],
   "source": [
    "df.shape"
   ]
  },
  {
   "cell_type": "code",
   "execution_count": 51,
   "id": "ae7d89f0-4264-4af5-a1a3-78d96c2d9704",
   "metadata": {},
   "outputs": [],
   "source": [
    "df = df.dropna().reset_index(drop=True)"
   ]
  },
  {
   "cell_type": "code",
   "execution_count": 52,
   "id": "b143923b-72d3-4a3a-af72-65638e457c6f",
   "metadata": {},
   "outputs": [
    {
     "data": {
      "text/plain": [
       "(625, 100)"
      ]
     },
     "execution_count": 52,
     "metadata": {},
     "output_type": "execute_result"
    }
   ],
   "source": [
    "df.shape"
   ]
  },
  {
   "cell_type": "code",
   "execution_count": 24,
   "id": "dde31e88-5cdb-4fa2-b104-5ebd412c4c9f",
   "metadata": {},
   "outputs": [
    {
     "data": {
      "image/png": "[encoded data removed]",
      "text/plain": [
       "<Figure size 1200x500 with 2 Axes>"
      ]
     },
     "metadata": {},
     "output_type": "display_data"
    }
   ],
   "source": [
    "plt.figure(figsize=(12,5))\n",
    "\n",
    "plt.subplot(1,2,1)\n",
    "plt.hist(df[\"FEMALE_LIT\"], bins=20, color=\"pink\", edgecolor=\"black\")\n",
    "plt.title(\"Distribución para mujeres\")\n",
    "plt.xlabel(\"Tasa (%)\")\n",
    "plt.ylabel(\"Frecuencia\")\n",
    "\n",
    "plt.subplot(1,2,2)\n",
    "plt.hist(df[\"MALE_LIT\"], bins=20, color=\"skyblue\", edgecolor=\"black\")\n",
    "plt.title(\"Distribución para hombres\")\n",
    "plt.xlabel(\"Tasa (%)\")\n",
    "\n",
    "plt.tight_layout()\n",
    "plt.show()"
   ]
  },
  {
   "cell_type": "code",
   "execution_count": 26,
   "id": "e26208a4-94a7-46c9-8cee-22ab25e408ab",
   "metadata": {},
   "outputs": [],
   "source": [
    "y = df[\"FEMALE_LIT\"]"
   ]
  },
  {
   "cell_type": "code",
   "execution_count": 89,
   "id": "c6459613-78ac-4a7b-93b7-39500fc17726",
   "metadata": {},
   "outputs": [
    {
     "name": "stdout",
     "output_type": "stream",
     "text": [
      "Para modelo low debemos usar pocas pero explicativas\n"
     ]
    }
   ],
   "source": [
    "print(\"Para modelo low debemos usar pocas pero explicativas\")\n",
    "\n",
    "X_modelo_low = df[[\"MALE_LIT\", \"SEXRATIO\", \"P_URB_POP\", \"GROWTHRATE\"]]\n",
    "#X_modelo_low = df[[\"P_URB_POP\", \"SEXRATIO\", \"TOTPOPULAT\", \"SCHTOT\", \"OVERALL_LI\"]]\n",
    "X_modelo_train, X_modelo_test, y_modelo_train, y_modelo_test = train_test_split(X_modelo_low, y, test_size=0.3, random_state=123)\n",
    "\n",
    "modelo_low = LinearRegression()\n",
    "modelo_low.fit(X_modelo_train, y_modelo_train)\n",
    "\n",
    "y_pred_train = modelo_low.predict(X_modelo_train)\n",
    "y_pred_test = modelo_low.predict(X_modelo_test)"
   ]
  },
  {
   "cell_type": "code",
   "execution_count": 90,
   "id": "8478052d-c9e2-43a2-a83a-cb3ed0e16f2d",
   "metadata": {},
   "outputs": [
    {
     "name": "stdout",
     "output_type": "stream",
     "text": [
      "Modelo low de train: 0.7675817888520174\n",
      "Modelo high de test: 0.7989459568291432\n"
     ]
    }
   ],
   "source": [
    "print(\"Modelo low de train:\", r2_score(y_modelo_train, y_pred_train))\n",
    "print(\"Modelo high de test:\", r2_score(y_modelo_test, y_pred_test))"
   ]
  },
  {
   "cell_type": "code",
   "execution_count": 37,
   "id": "03bc70ca-8a3a-4172-ab83-99b4e6e9b680",
   "metadata": {},
   "outputs": [
    {
     "name": "stdout",
     "output_type": "stream",
     "text": [
      "Modelo low de train: 0.7563657571413333\n",
      "Modelo low de test: 0.7879417225196769\n"
     ]
    }
   ],
   "source": [
    "print(\"Opción 2\")\n",
    "\n",
    "X_modelo_low = df[[\"MALE_LIT\", \"SCHTOT\", \"SCHTOT\", \"P_SC_POP\"]]\n",
    "X_modelo_train, X_modelo_test, y_modelo_train, y_modelo_test = train_test_split(X_modelo_low, y, test_size=0.3, random_state=123)\n",
    "\n",
    "modelo_low = LinearRegression()\n",
    "modelo_low.fit(X_modelo_train, y_modelo_train)\n",
    "\n",
    "y_pred_train = modelo_low.predict(X_modelo_train)\n",
    "y_pred_test = modelo_low.predict(X_modelo_test)\n",
    "\n",
    "print(\"Modelo low de train:\", r2_score(y_modelo_train, y_pred_train))\n",
    "print(\"Modelo low de test:\", r2_score(y_modelo_test, y_pred_test))"
   ]
  },
  {
   "cell_type": "code",
   "execution_count": 39,
   "id": "5309b377-88f8-4322-a265-e2663feddcfd",
   "metadata": {},
   "outputs": [],
   "source": [
    "formula = \"FEMALE_LIT ~ (MALE_LIT + SEXRATIO + P_URB_POP + GROWTHRATE + TOTPOPULAT)**2 + I(MALE_LIT**2) + I(SEXRATIO**2) + I(P_URB_POP**2)\""
   ]
  },
  {
   "cell_type": "code",
   "execution_count": 40,
   "id": "fe07fd59-deef-41fa-8965-efa45f5533aa",
   "metadata": {},
   "outputs": [],
   "source": [
    "y_modelo_high, X_modelo_high = patsy.dmatrices(formula, df, return_type=\"dataframe\")\n",
    "\n",
    "X_modelo_high_train, X_modelo_high_test, y_modelo_high_train, y_modelo_high_test = train_test_split(X_modelo_high, y_modelo_high, test_size=0.3, random_state=123)\n",
    "\n",
    "modelo_high = LinearRegression()\n",
    "modelo_high.fit(X_modelo_high_train, y_modelo_high_train)\n",
    "\n",
    "y_high_pred_train = modelo_high.predict(X_modelo_high_train)\n",
    "y_high_pred_test = modelo_high.predict(X_modelo_high_test)"
   ]
  },
  {
   "cell_type": "code",
   "execution_count": 41,
   "id": "990addb9-f3ef-44a0-b450-e2aa73366b4c",
   "metadata": {},
   "outputs": [
    {
     "name": "stdout",
     "output_type": "stream",
     "text": [
      "Modelo high de train: 0.801620229707998\n",
      "Modelo high de test: 0.8142666439985644\n"
     ]
    }
   ],
   "source": [
    "print(\"Modelo high de train:\", r2_score(y_modelo_high_train, y_high_pred_train))\n",
    "print(\"Modelo high de test:\", r2_score(y_modelo_high_test, y_high_pred_test))"
   ]
  },
  {
   "cell_type": "code",
   "execution_count": 54,
   "id": "49c2fd29-3fd5-4e1e-ac91-453a47f8bc22",
   "metadata": {},
   "outputs": [],
   "source": [
    "formula = (\n",
    "    \"FEMALE_LIT ~ (MALE_LIT + SEXRATIO + P_URB_POP + GROWTHRATE + TOTPOPULAT)**2 + \"\n",
    "    \"I(MALE_LIT**2) + I(SEXRATIO**2) + I(P_URB_POP**2)\")"
   ]
  },
  {
   "cell_type": "code",
   "execution_count": 71,
   "id": "f8fa994a-e6c3-48ce-9dff-f7a5c9b593b6",
   "metadata": {},
   "outputs": [],
   "source": [
    "import numpy as np\n",
    "import pandas as pd\n",
    "import matplotlib.pyplot as plt\n",
    "from patsy import dmatrices\n",
    "from sklearn.linear_model import Lasso"
   ]
  },
  {
   "cell_type": "code",
   "execution_count": 60,
   "id": "4aed04c9-13bc-4ae7-bef3-37848ba35a0d",
   "metadata": {},
   "outputs": [
    {
     "data": {
      "text/html": [
       "<div>\n",
       "<style scoped>\n",
       "    .dataframe tbody tr th:only-of-type {\n",
       "        vertical-align: middle;\n",
       "    }\n",
       "\n",
       "    .dataframe tbody tr th {\n",
       "        vertical-align: top;\n",
       "    }\n",
       "\n",
       "    .dataframe thead th {\n",
       "        text-align: right;\n",
       "    }\n",
       "</style>\n",
       "<table border=\"1\" class=\"dataframe\">\n",
       "  <thead>\n",
       "    <tr style=\"text-align: right;\">\n",
       "      <th></th>\n",
       "      <th>Intercept</th>\n",
       "      <th>MALE_LIT</th>\n",
       "      <th>SEXRATIO</th>\n",
       "      <th>P_URB_POP</th>\n",
       "      <th>GROWTHRATE</th>\n",
       "      <th>TOTPOPULAT</th>\n",
       "      <th>MALE_LIT:SEXRATIO</th>\n",
       "      <th>MALE_LIT:P_URB_POP</th>\n",
       "      <th>MALE_LIT:GROWTHRATE</th>\n",
       "      <th>MALE_LIT:TOTPOPULAT</th>\n",
       "      <th>SEXRATIO:P_URB_POP</th>\n",
       "      <th>SEXRATIO:GROWTHRATE</th>\n",
       "      <th>SEXRATIO:TOTPOPULAT</th>\n",
       "      <th>P_URB_POP:GROWTHRATE</th>\n",
       "      <th>P_URB_POP:TOTPOPULAT</th>\n",
       "      <th>GROWTHRATE:TOTPOPULAT</th>\n",
       "      <th>I(MALE_LIT ** 2)</th>\n",
       "      <th>I(SEXRATIO ** 2)</th>\n",
       "      <th>I(P_URB_POP ** 2)</th>\n",
       "    </tr>\n",
       "  </thead>\n",
       "  <tbody>\n",
       "    <tr>\n",
       "      <th>0</th>\n",
       "      <td>1.0</td>\n",
       "      <td>77.10</td>\n",
       "      <td>843.0</td>\n",
       "      <td>11.33</td>\n",
       "      <td>34.62</td>\n",
       "      <td>875564.0</td>\n",
       "      <td>64995.30</td>\n",
       "      <td>873.5430</td>\n",
       "      <td>2669.2020</td>\n",
       "      <td>67505984.40</td>\n",
       "      <td>9551.19</td>\n",
       "      <td>29184.66</td>\n",
       "      <td>7.381005e+08</td>\n",
       "      <td>392.2446</td>\n",
       "      <td>9.920140e+06</td>\n",
       "      <td>30312025.68</td>\n",
       "      <td>5944.4100</td>\n",
       "      <td>710649.0</td>\n",
       "      <td>128.3689</td>\n",
       "    </tr>\n",
       "    <tr>\n",
       "      <th>1</th>\n",
       "      <td>1.0</td>\n",
       "      <td>77.35</td>\n",
       "      <td>873.0</td>\n",
       "      <td>17.19</td>\n",
       "      <td>20.34</td>\n",
       "      <td>1015503.0</td>\n",
       "      <td>67526.55</td>\n",
       "      <td>1329.6465</td>\n",
       "      <td>1573.2990</td>\n",
       "      <td>78549157.05</td>\n",
       "      <td>15006.87</td>\n",
       "      <td>17756.82</td>\n",
       "      <td>8.865341e+08</td>\n",
       "      <td>349.6446</td>\n",
       "      <td>1.745650e+07</td>\n",
       "      <td>20655331.02</td>\n",
       "      <td>5983.0225</td>\n",
       "      <td>762129.0</td>\n",
       "      <td>295.4961</td>\n",
       "    </tr>\n",
       "    <tr>\n",
       "      <th>2</th>\n",
       "      <td>1.0</td>\n",
       "      <td>77.95</td>\n",
       "      <td>879.0</td>\n",
       "      <td>98.73</td>\n",
       "      <td>23.56</td>\n",
       "      <td>1269751.0</td>\n",
       "      <td>68518.05</td>\n",
       "      <td>7696.0035</td>\n",
       "      <td>1836.5020</td>\n",
       "      <td>98977090.45</td>\n",
       "      <td>86783.67</td>\n",
       "      <td>20709.24</td>\n",
       "      <td>1.116111e+09</td>\n",
       "      <td>2326.0788</td>\n",
       "      <td>1.253625e+08</td>\n",
       "      <td>29915333.56</td>\n",
       "      <td>6076.2025</td>\n",
       "      <td>772641.0</td>\n",
       "      <td>9747.6129</td>\n",
       "    </tr>\n",
       "    <tr>\n",
       "      <th>3</th>\n",
       "      <td>1.0</td>\n",
       "      <td>68.56</td>\n",
       "      <td>883.0</td>\n",
       "      <td>11.74</td>\n",
       "      <td>21.18</td>\n",
       "      <td>735753.0</td>\n",
       "      <td>60538.48</td>\n",
       "      <td>804.8944</td>\n",
       "      <td>1452.1008</td>\n",
       "      <td>50443225.68</td>\n",
       "      <td>10366.42</td>\n",
       "      <td>18701.94</td>\n",
       "      <td>6.496699e+08</td>\n",
       "      <td>248.6532</td>\n",
       "      <td>8.637740e+06</td>\n",
       "      <td>15583248.54</td>\n",
       "      <td>4700.4736</td>\n",
       "      <td>779689.0</td>\n",
       "      <td>137.8276</td>\n",
       "    </tr>\n",
       "    <tr>\n",
       "      <th>4</th>\n",
       "      <td>1.0</td>\n",
       "      <td>75.41</td>\n",
       "      <td>913.0</td>\n",
       "      <td>13.80</td>\n",
       "      <td>29.18</td>\n",
       "      <td>570060.0</td>\n",
       "      <td>68849.33</td>\n",
       "      <td>1040.6580</td>\n",
       "      <td>2200.4638</td>\n",
       "      <td>42988224.60</td>\n",
       "      <td>12599.40</td>\n",
       "      <td>26641.34</td>\n",
       "      <td>5.204648e+08</td>\n",
       "      <td>402.6840</td>\n",
       "      <td>7.866828e+06</td>\n",
       "      <td>16634350.80</td>\n",
       "      <td>5686.6681</td>\n",
       "      <td>833569.0</td>\n",
       "      <td>190.4400</td>\n",
       "    </tr>\n",
       "  </tbody>\n",
       "</table>\n",
       "</div>"
      ],
      "text/plain": [
       "   Intercept  MALE_LIT  SEXRATIO  P_URB_POP  GROWTHRATE  TOTPOPULAT  \\\n",
       "0        1.0     77.10     843.0      11.33       34.62    875564.0   \n",
       "1        1.0     77.35     873.0      17.19       20.34   1015503.0   \n",
       "2        1.0     77.95     879.0      98.73       23.56   1269751.0   \n",
       "3        1.0     68.56     883.0      11.74       21.18    735753.0   \n",
       "4        1.0     75.41     913.0      13.80       29.18    570060.0   \n",
       "\n",
       "   MALE_LIT:SEXRATIO  MALE_LIT:P_URB_POP  MALE_LIT:GROWTHRATE  \\\n",
       "0           64995.30            873.5430            2669.2020   \n",
       "1           67526.55           1329.6465            1573.2990   \n",
       "2           68518.05           7696.0035            1836.5020   \n",
       "3           60538.48            804.8944            1452.1008   \n",
       "4           68849.33           1040.6580            2200.4638   \n",
       "\n",
       "   MALE_LIT:TOTPOPULAT  SEXRATIO:P_URB_POP  SEXRATIO:GROWTHRATE  \\\n",
       "0          67505984.40             9551.19             29184.66   \n",
       "1          78549157.05            15006.87             17756.82   \n",
       "2          98977090.45            86783.67             20709.24   \n",
       "3          50443225.68            10366.42             18701.94   \n",
       "4          42988224.60            12599.40             26641.34   \n",
       "\n",
       "   SEXRATIO:TOTPOPULAT  P_URB_POP:GROWTHRATE  P_URB_POP:TOTPOPULAT  \\\n",
       "0         7.381005e+08              392.2446          9.920140e+06   \n",
       "1         8.865341e+08              349.6446          1.745650e+07   \n",
       "2         1.116111e+09             2326.0788          1.253625e+08   \n",
       "3         6.496699e+08              248.6532          8.637740e+06   \n",
       "4         5.204648e+08              402.6840          7.866828e+06   \n",
       "\n",
       "   GROWTHRATE:TOTPOPULAT  I(MALE_LIT ** 2)  I(SEXRATIO ** 2)  \\\n",
       "0            30312025.68         5944.4100          710649.0   \n",
       "1            20655331.02         5983.0225          762129.0   \n",
       "2            29915333.56         6076.2025          772641.0   \n",
       "3            15583248.54         4700.4736          779689.0   \n",
       "4            16634350.80         5686.6681          833569.0   \n",
       "\n",
       "   I(P_URB_POP ** 2)  \n",
       "0           128.3689  \n",
       "1           295.4961  \n",
       "2          9747.6129  \n",
       "3           137.8276  \n",
       "4           190.4400  "
      ]
     },
     "execution_count": 60,
     "metadata": {},
     "output_type": "execute_result"
    }
   ],
   "source": [
    "y_design, X_design = patsy.dmatrices(formula, df, return_type=\"dataframe\")\n",
    "\n",
    "X_design.head()"
   ]
  },
  {
   "cell_type": "code",
   "execution_count": 61,
   "id": "3c4e6fd7-0cb9-4fab-b6cb-8a0858a1838d",
   "metadata": {},
   "outputs": [],
   "source": [
    "X_design = X_design.loc[:, X_design.var(axis=0) > 0]"
   ]
  },
  {
   "cell_type": "code",
   "execution_count": 65,
   "id": "23051cd0-5222-4212-836e-346b8877890b",
   "metadata": {},
   "outputs": [],
   "source": [
    "scaler = StandardScaler() \n",
    "Xs = scaler.fit_transform(X_design)"
   ]
  },
  {
   "cell_type": "code",
   "execution_count": 68,
   "id": "2b0ea343-6eb0-41dd-beb8-ceb460ffba18",
   "metadata": {},
   "outputs": [],
   "source": [
    "y = y_design.iloc[:, 0].values  \n",
    "X = X_design.values "
   ]
  },
  {
   "cell_type": "code",
   "execution_count": 77,
   "id": "45e0cb78-4136-46ed-a57e-e9b8e1bdf6fe",
   "metadata": {},
   "outputs": [],
   "source": [
    "lambdas = np.logspace(-3, 4, 100)"
   ]
  },
  {
   "cell_type": "code",
   "execution_count": 81,
   "id": "bd4537f8-8f34-4a7a-8611-f0efd6c427bc",
   "metadata": {},
   "outputs": [
    {
     "name": "stdout",
     "output_type": "stream",
     "text": [
      "No convergía, por eso lo estandaricé\n"
     ]
    }
   ],
   "source": [
    "print(\"No convergía, por eso lo estandaricé\")\n",
    "\n",
    "from sklearn.preprocessing import StandardScaler\n",
    "\n",
    "scaler = StandardScaler()\n",
    "X_scaled = scaler.fit_transform(X)"
   ]
  },
  {
   "cell_type": "code",
   "execution_count": 83,
   "id": "d1e92f4f-6f1f-49e1-b287-9c1f2a0973ed",
   "metadata": {},
   "outputs": [],
   "source": [
    "nonzero_counts = []\n",
    "\n",
    "for alpha in lambdas:\n",
    "    model = Lasso(alpha=alpha, max_iter=20000, tol=0.01)\n",
    "    model.fit(X_scaled, y)\n",
    "    nonzero_counts.append(np.sum(model.coef_ != 0))\n",
    "\n",
    "print(\"Sigue sin converger, tuve que darle un max de iteraciones\")"
   ]
  },
  {
   "cell_type": "code",
   "execution_count": 84,
   "id": "5095c8b4-0891-4d9d-bca5-296955b9d5e5",
   "metadata": {},
   "outputs": [
    {
     "data": {
      "image/png": "[encoded data removed]",
      "text/plain": [
       "<Figure size 800x500 with 1 Axes>"
      ]
     },
     "metadata": {},
     "output_type": "display_data"
    }
   ],
   "source": [
    "plt.figure(figsize=(8,5))\n",
    "plt.plot(lambdas, nonzero_counts, marker=\"o\")\n",
    "plt.xscale(\"log\")\n",
    "plt.xlabel(\"Lambda en escala log\")\n",
    "plt.ylabel(\"Número de coeficientes ≠ 0\")\n",
    "plt.title(\"Trayectorias de Lasso: número de variables seleccionadas lamba\")\n",
    "plt.grid(True)\n",
    "plt.show()"
   ]
  },
  {
   "cell_type": "code",
   "execution_count": null,
   "id": "f0b83133-6a9f-49fd-9954-d4ef38e7f65a",
   "metadata": {},
   "outputs": [],
   "source": []
  }
 ],
 "metadata": {
  "kernelspec": {
   "display_name": "Python [conda env:base] *",
   "language": "python",
   "name": "conda-base-py"
  },
  "language_info": {
   "codemirror_mode": {
    "name": "ipython",
    "version": 3
   },
   "file_extension": ".py",
   "mimetype": "text/x-python",
   "name": "python",
   "nbconvert_exporter": "python",
   "pygments_lexer": "ipython3",
   "version": "3.13.5"
  }
 },
 "nbformat": 4,
 "nbformat_minor": 5
}

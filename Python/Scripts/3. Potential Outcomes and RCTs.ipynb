{
 "cells": [
  {
   "cell_type": "markdown",
   "id": "55e0de99-9cf4-47f3-bccd-149b0fd0a64c",
   "metadata": {
    "execution": {
     "iopub.execute_input": "2025-09-17T05:16:04.455366Z",
     "iopub.status.busy": "2025-09-17T05:16:04.455145Z",
     "iopub.status.idle": "2025-09-17T05:16:05.460416Z",
     "shell.execute_reply": "2025-09-17T05:16:05.459815Z",
     "shell.execute_reply.started": "2025-09-17T05:16:04.455352Z"
    }
   },
   "source": [
    "# 1) Data Simulation (3 points)\n"
   ]
  },
  {
   "cell_type": "code",
   "execution_count": 1,
   "id": "d1037e32-eb22-45ec-8e09-5f633ac0e5f6",
   "metadata": {
    "execution": {
     "iopub.execute_input": "2025-09-19T04:43:20.526948Z",
     "iopub.status.busy": "2025-09-19T04:43:20.526728Z",
     "iopub.status.idle": "2025-09-19T04:43:21.138220Z",
     "shell.execute_reply": "2025-09-19T04:43:21.137883Z",
     "shell.execute_reply.started": "2025-09-19T04:43:20.526934Z"
    }
   },
   "outputs": [
    {
     "name": "stdout",
     "output_type": "stream",
     "text": [
      "== Group means ==\n",
      "            X1     X2     X3     X4\n",
      "D                                  \n",
      "Control  0.039  1.996  0.380 -0.005\n",
      "Treated  0.005  1.993  0.388  0.012\n",
      "\n",
      "== Balance by Welch t-test ==\n",
      "  Covariate  Treated_Mean  Control_Mean  Difference  t_stat  p_value\n",
      "0        X1        0.0050        0.0391     -0.0341 -0.5359   0.5921\n",
      "1        X2        1.9934        1.9965     -0.0031 -0.0472   0.9624\n",
      "2        X3        0.3884        0.3795      0.0089  0.2900   0.7719\n",
      "3        X4        0.0120       -0.0047      0.0166  0.4651   0.6419\n",
      "\n",
      "Files saved to: C:\\Users\\User\\Desktop\\Lasso_Potential_Outcomes_RCTs\\Python\\Output\n"
     ]
    }
   ],
   "source": [
    "# (2 pts) Simulate n=1000 with X1..X4, D~Bernoulli(0.5), epsilon~N(0,1)\n",
    "import os\n",
    "import numpy as np\n",
    "import pandas as pd\n",
    "from scipy import stats\n",
    "\n",
    "rng = np.random.default_rng(123)\n",
    "n = 1000\n",
    "\n",
    "# Covariates: mix of continuous/binary\n",
    "x1 = rng.normal(0, 1, n)              # continuous\n",
    "x2 = rng.normal(2, 1, n)              # continuous\n",
    "x3 = rng.binomial(1, 0.4, n)          # binary\n",
    "x4 = rng.uniform(-1, 1, n)            # continuous\n",
    "\n",
    "# Treatment assignment\n",
    "D  = rng.binomial(1, 0.5, n)\n",
    "\n",
    "# Error and outcome: Y = 2D + 0.5X1 − 0.3X2 + 0.2X3 + ε, ε~N(0,1)\n",
    "eps = rng.normal(0, 1, n)\n",
    "Y = 2*D + 0.5*x1 - 0.3*x2 + 0.2*x3 + eps\n",
    "\n",
    "# Build DataFrame\n",
    "df = pd.DataFrame({\"Y\": Y, \"D\": D, \"X1\": x1, \"X2\": x2, \"X3\": x3, \"X4\": x4})\n",
    "\n",
    "# Sanity check: no missing values\n",
    "assert df.isna().sum().sum() == 0, \"Missing values found in DataFrame\"\n",
    "\n",
    "# ------------------------------------------------------------\n",
    "# (1 pt) Balance check: compare means of X1..X4 between D=1 and D=0 using Welch t-test\n",
    "covs = [\"X1\", \"X2\", \"X3\", \"X4\"]\n",
    "\n",
    "# Group means\n",
    "group_means = df.groupby(\"D\")[covs].mean().rename(index={0: \"Control\", 1: \"Treated\"})\n",
    "\n",
    "# Welch t-tests and summary table\n",
    "rows = []\n",
    "for c in covs:\n",
    "    a = df.loc[df[\"D\"] == 1, c]\n",
    "    b = df.loc[df[\"D\"] == 0, c]\n",
    "    t_stat, p_val = stats.ttest_ind(a, b, equal_var=False)\n",
    "    rows.append({\n",
    "        \"Covariate\": c,\n",
    "        \"Treated_Mean\": a.mean(),\n",
    "        \"Control_Mean\": b.mean(),\n",
    "        \"Difference\": a.mean() - b.mean(),\n",
    "        \"t_stat\": t_stat,\n",
    "        \"p_value\": p_val\n",
    "    })\n",
    "balance = pd.DataFrame(rows)\n",
    "\n",
    "# Outputs\n",
    "print(\"== Group means ==\")\n",
    "print(group_means.round(3))\n",
    "print(\"\\n== Balance by Welch t-test ==\")\n",
    "print(balance.round(4))\n",
    "\n",
    "# ------------------------------------------------------------\n",
    "# Export DataFrame and tables to Output folder\n",
    "out_dir = r\"C:\\Users\\User\\Desktop\\Lasso_Potential_Outcomes_RCTs\\Python\\Output\"\n",
    "os.makedirs(out_dir, exist_ok=True)\n",
    "\n",
    "df.to_csv(os.path.join(out_dir, \"simulated_data.csv\"), index=False)\n",
    "group_means.round(3).to_csv(os.path.join(out_dir, \"balance_group_means.csv\"))\n",
    "balance.round(4).to_csv(os.path.join(out_dir, \"balance_ttest_welch.csv\"), index=False)\n",
    "\n",
    "print(f\"\\nFiles saved to: {out_dir}\")\n"
   ]
  },
  {
   "cell_type": "markdown",
   "id": "ecf99ab0-60c6-418a-8c8f-61ea56a827a3",
   "metadata": {
    "execution": {
     "iopub.execute_input": "2025-09-17T05:17:41.021916Z",
     "iopub.status.busy": "2025-09-17T05:17:41.021734Z",
     "iopub.status.idle": "2025-09-17T05:17:41.763109Z",
     "shell.execute_reply": "2025-09-17T05:17:41.761465Z",
     "shell.execute_reply.started": "2025-09-17T05:17:41.021904Z"
    }
   },
   "source": [
    "# 2) Estimating the Average Treatment Effect (3 points)"
   ]
  },
  {
   "cell_type": "code",
   "execution_count": 2,
   "id": "d1d5603b-efc5-4c28-bcb9-d8c8332cb94b",
   "metadata": {
    "execution": {
     "iopub.execute_input": "2025-09-19T04:45:15.645682Z",
     "iopub.status.busy": "2025-09-19T04:45:15.645427Z",
     "iopub.status.idle": "2025-09-19T04:45:16.369643Z",
     "shell.execute_reply": "2025-09-19T04:45:16.369203Z",
     "shell.execute_reply.started": "2025-09-19T04:45:15.645666Z"
    }
   },
   "outputs": [
    {
     "name": "stdout",
     "output_type": "stream",
     "text": [
      "== 3.2.1 Simple ATE: Y ~ D ==\n",
      "ATE (coef D): 2.0527  SE: 0.0712  95% CI: [1.9131, 2.1924]  p=1.521e-182\n",
      "\n",
      "== 3.2.2 ATE with controls: Y ~ D + X1 + X2 + X3 + X4 ==\n",
      "ATE (coef D): 2.0633  SE: 0.0625  95% CI: [1.9409, 2.1857]  p=2.562e-239\n",
      "\n",
      "== 3.2.3 Comparison of estimates ==\n",
      "Change in ATE (controls - simple): 0.0106\n",
      "Change in SE: -0.0088   SE ratio (ctrl/simple): 0.877\n",
      "Note: In a well-balanced RCT, the ATE should remain close and the SEs usually decrease when adding controls predictive of Y.\n"
     ]
    }
   ],
   "source": [
    "# Requires 'df' from Step 3.1: columns Y, D, X1..X4.\n",
    "# If it does not exist, re-create with the same seed for reproducibility.\n",
    "import numpy as np, pandas as pd\n",
    "import statsmodels.api as sm\n",
    "\n",
    "if 'df' not in globals():\n",
    "    rng = np.random.default_rng(123); n=1000\n",
    "    x1 = rng.normal(0,1,n); x2 = rng.normal(2,1,n); x3 = rng.binomial(1,0.4,n); x4 = rng.uniform(-1,1,n)\n",
    "    D  = rng.binomial(1,0.5,n); eps = rng.normal(0,1,n)\n",
    "    Y = 2*D + 0.5*x1 - 0.3*x2 + 0.2*x3 + eps\n",
    "    df = pd.DataFrame({\"Y\":Y,\"D\":D,\"X1\":x1,\"X2\":x2,\"X3\":x3,\"X4\":x4})\n",
    "\n",
    "def fit_ols(y, X, robust=True):\n",
    "    Xc = sm.add_constant(X, has_constant='add')\n",
    "    model = sm.OLS(y, Xc).fit(cov_type='HC1' if robust else 'nonrobust')\n",
    "    return model\n",
    "\n",
    "# (1 pt) Simple ATE: Y ~ D\n",
    "m_simple = fit_ols(df['Y'], df[['D']], robust=True)\n",
    "ate_simple = m_simple.params['D']\n",
    "se_simple  = m_simple.bse['D']\n",
    "ci_simple  = m_simple.conf_int().loc['D'].tolist()\n",
    "p_simple   = m_simple.pvalues['D']\n",
    "\n",
    "print(\"== 3.2.1 Simple ATE: Y ~ D ==\")\n",
    "print(f\"ATE (coef D): {ate_simple:.4f}  SE: {se_simple:.4f}  95% CI: [{ci_simple[0]:.4f}, {ci_simple[1]:.4f}]  p={p_simple:.4g}\")\n",
    "\n",
    "# (1 pt) ATE with controls: Y ~ D + X1 + X2 + X3 + X4\n",
    "m_ctrl = fit_ols(df['Y'], df[['D','X1','X2','X3','X4']], robust=True)\n",
    "ate_ctrl = m_ctrl.params['D']\n",
    "se_ctrl  = m_ctrl.bse['D']\n",
    "ci_ctrl  = m_ctrl.conf_int().loc['D'].tolist()\n",
    "p_ctrl   = m_ctrl.pvalues['D']\n",
    "\n",
    "print(\"\\n== 3.2.2 ATE with controls: Y ~ D + X1 + X2 + X3 + X4 ==\")\n",
    "print(f\"ATE (coef D): {ate_ctrl:.4f}  SE: {se_ctrl:.4f}  95% CI: [{ci_ctrl[0]:.4f}, {ci_ctrl[1]:.4f}]  p={p_ctrl:.4g}\")\n",
    "\n",
    "# (1 pt) 3.2.3 Comparison: does the ATE change? what happens with the SE?\n",
    "delta_ate = ate_ctrl - ate_simple\n",
    "se_change = se_ctrl - se_simple\n",
    "ratio_se  = se_ctrl / se_simple if se_simple!=0 else np.nan\n",
    "\n",
    "print(\"\\n== 3.2.3 Comparison of estimates ==\")\n",
    "print(f\"Change in ATE (controls - simple): {delta_ate:.4f}\")\n",
    "print(f\"Change in SE: {se_change:.4f}   SE ratio (ctrl/simple): {ratio_se:.3f}\")\n",
    "print(\"Note: In a well-balanced RCT, the ATE should remain close and the SEs usually decrease when adding controls predictive of Y.\")\n"
   ]
  },
  {
   "cell_type": "markdown",
   "id": "ca1507cb-e190-4dc5-8149-fcada7fa8be4",
   "metadata": {
    "execution": {
     "iopub.execute_input": "2025-09-19T04:45:23.124575Z",
     "iopub.status.busy": "2025-09-19T04:45:23.124388Z",
     "iopub.status.idle": "2025-09-19T04:45:23.214951Z",
     "shell.execute_reply": "2025-09-19T04:45:23.214267Z",
     "shell.execute_reply.started": "2025-09-19T04:45:23.124562Z"
    }
   },
   "source": [
    "# 3) Lasso and Variable Selection (3 points)"
   ]
  },
  {
   "cell_type": "code",
   "execution_count": 5,
   "id": "f4c7f10c-44e7-4307-9df7-60623c96b3ae",
   "metadata": {
    "execution": {
     "iopub.execute_input": "2025-09-19T04:49:19.757357Z",
     "iopub.status.busy": "2025-09-19T04:49:19.757135Z",
     "iopub.status.idle": "2025-09-19T04:49:19.823821Z",
     "shell.execute_reply": "2025-09-19T04:49:19.823412Z",
     "shell.execute_reply.started": "2025-09-19T04:49:19.757345Z"
    }
   },
   "outputs": [
    {
     "name": "stdout",
     "output_type": "stream",
     "text": [
      "== 3.3.1 LASSO SELECTION ==\n",
      "Optimal alpha (λ): 0.0007311184038558634\n",
      "Estimated coefficients:\n",
      "X1    0.4201\n",
      "X2   -0.3031\n",
      "X3    0.2599\n",
      "X4    0.1007\n",
      "dtype: float64\n",
      "Selected covariates at λ_min: ['X1', 'X2', 'X3', 'X4']\n",
      "\n",
      "== 3.3.2 ATE with covariates selected by LASSO ==\n",
      "ATE (coef D): 2.0633  SE: 0.0625  95% CI: [1.9409, 2.1857]\n",
      "\n",
      "== 3.3.3 Comparison ==\n",
      "Simple ATE (3.2.1): 2.0527\n",
      "ATE with all controls (3.2.2): 2.0633\n",
      "ATE with controls selected by LASSO (3.3.2): 2.0633\n",
      "Comment: The ATE should be stable because the treatment was randomly assigned.\n",
      "Using LASSO can reduce noise, improve precision, and select only the most relevant covariates.\n"
     ]
    }
   ],
   "source": [
    "# Equivalent to cv.glmnet in R using LassoCV from scikit-learn\n",
    "import numpy as np, pandas as pd\n",
    "from sklearn.linear_model import LassoCV\n",
    "import statsmodels.api as sm\n",
    "\n",
    "# ------------------------------------------------------------\n",
    "# (1 pt) Fit LASSO of Y ~ X1..X4, EXCLUDING D\n",
    "X = df[['X1','X2','X3','X4']].to_numpy()\n",
    "y = df['Y'].to_numpy()\n",
    "\n",
    "# Cross-validation (10 folds by default). Standardization handled internally.\n",
    "lasso = LassoCV(cv=10, random_state=123).fit(X, y)\n",
    "\n",
    "coef = pd.Series(lasso.coef_, index=['X1','X2','X3','X4'])\n",
    "selected = coef[coef != 0].index.tolist()\n",
    "\n",
    "print(\"== 3.3.1 LASSO SELECTION ==\")\n",
    "print(\"Optimal alpha (λ):\", lasso.alpha_)\n",
    "print(\"Estimated coefficients:\")\n",
    "print(coef.round(4))\n",
    "print(\"Selected covariates at λ_min:\", selected)\n",
    "\n",
    "# ------------------------------------------------------------\n",
    "# (1 pt) Re-estimate ATE with covariates selected by LASSO\n",
    "if selected:\n",
    "    X_sel = df[['D'] + selected]\n",
    "else:\n",
    "    X_sel = df[['D']]\n",
    "\n",
    "Xc = sm.add_constant(X_sel, has_constant='add')\n",
    "m_lasso = sm.OLS(df['Y'], Xc).fit(cov_type='HC1')\n",
    "ate_lasso = m_lasso.params['D']\n",
    "se_lasso  = m_lasso.bse['D']\n",
    "ci_lasso  = m_lasso.conf_int().loc['D'].tolist()\n",
    "\n",
    "print(\"\\n== 3.3.2 ATE with covariates selected by LASSO ==\")\n",
    "print(f\"ATE (coef D): {ate_lasso:.4f}  SE: {se_lasso:.4f}  95% CI: [{ci_lasso[0]:.4f}, {ci_lasso[1]:.4f}]\")\n",
    "\n",
    "# ------------------------------------------------------------\n",
    "# (1 pt) Comparison with 3.2\n",
    "# (assuming m_simple and m_ctrl were already estimated)\n",
    "print(\"\\n== 3.3.3 Comparison ==\")\n",
    "print(f\"Simple ATE (3.2.1): {m_simple.params['D']:.4f}\")\n",
    "print(f\"ATE with all controls (3.2.2): {m_ctrl.params['D']:.4f}\")\n",
    "print(f\"ATE with controls selected by LASSO (3.3.2): {ate_lasso:.4f}\")\n",
    "print(\"Comment: The ATE should be stable because the treatment was randomly assigned.\")\n",
    "print(\"Using LASSO can reduce noise, improve precision, and select only the most relevant covariates.\")\n"
   ]
  }
 ],
 "metadata": {
  "kernelspec": {
   "display_name": "Python [conda env:base] *",
   "language": "python",
   "name": "conda-base-py"
  },
  "language_info": {
   "codemirror_mode": {
    "name": "ipython",
    "version": 3
   },
   "file_extension": ".py",
   "mimetype": "text/x-python",
   "name": "python",
   "nbconvert_exporter": "python",
   "pygments_lexer": "ipython3",
   "version": "3.13.5"
  }
 },
 "nbformat": 4,
 "nbformat_minor": 5
}

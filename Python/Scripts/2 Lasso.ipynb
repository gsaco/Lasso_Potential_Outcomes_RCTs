{
 "cells": [
  {
   "cell_type": "code",
   "execution_count": 17,
   "id": "7566a91e-d789-4215-8876-ab90db01b84f",
   "metadata": {
    "execution": {
     "iopub.execute_input": "2025-09-19T04:38:52.867320Z",
     "iopub.status.busy": "2025-09-19T04:38:52.867144Z",
     "iopub.status.idle": "2025-09-19T04:38:52.871180Z",
     "shell.execute_reply": "2025-09-19T04:38:52.870654Z",
     "shell.execute_reply.started": "2025-09-19T04:38:52.867308Z"
    }
   },
   "outputs": [],
   "source": [
    "import numpy as np\n",
    "import pandas as pd\n",
    "import matplotlib.pyplot as plt\n",
    "\n",
    "from sklearn.model_selection import train_test_split\n",
    "from sklearn.preprocessing import StandardScaler, PolynomialFeatures\n",
    "from sklearn.linear_model import LinearRegression\n",
    "from sklearn.metrics import r2_score\n",
    "from sklearn.linear_model import lasso_path\n"
   ]
  },
  {
   "cell_type": "markdown",
   "id": "a5746854-0341-468d-b595-279b3e5c605c",
   "metadata": {},
   "source": [
    "# 1) Open Dataframe without Missings (0.25 points) "
   ]
  },
  {
   "cell_type": "code",
   "execution_count": 18,
   "id": "a1534e48-2da4-4d2c-bba1-57b2b83e962c",
   "metadata": {
    "execution": {
     "iopub.execute_input": "2025-09-19T04:38:54.133174Z",
     "iopub.status.busy": "2025-09-19T04:38:54.132993Z",
     "iopub.status.idle": "2025-09-19T04:38:54.744609Z",
     "shell.execute_reply": "2025-09-19T04:38:54.744155Z",
     "shell.execute_reply.started": "2025-09-19T04:38:54.133162Z"
    }
   },
   "outputs": [
    {
     "data": {
      "text/plain": [
       "(625, 100)"
      ]
     },
     "execution_count": 18,
     "metadata": {},
     "output_type": "execute_result"
    }
   ],
   "source": [
    "# Your path\n",
    "xlsx_path = r\"C:\\Users\\User\\Desktop\\CausalAI-Course\\data\\Districtwise_literacy_rates.xlsx\"\n",
    "\n",
    "\"\"\"\n",
    "Load Excel and drop rows with any missing values.\n",
    "\n",
    "Parameters\n",
    "----------\n",
    "xlsx_path : str\n",
    "    Absolute path to the Excel file.\n",
    "\n",
    "Returns\n",
    "-------\n",
    "df : pd.DataFrame\n",
    "    Cleaned dataset with no NAs.\n",
    "\"\"\"\n",
    "def load_and_clean(xlsx_path: str) -> pd.DataFrame:\n",
    "    df = pd.read_excel(xlsx_path)\n",
    "    df = df.dropna(axis=0, how=\"any\")\n",
    "    return df\n",
    "\n",
    "df = load_and_clean(xlsx_path)\n",
    "df.shape\n"
   ]
  },
  {
   "cell_type": "markdown",
   "id": "e4458999-b23e-4f01-9aa9-5db5f3225f25",
   "metadata": {},
   "source": [
    "# 2) Histogram of the female and male literacy rate (1 points)\n"
   ]
  },
  {
   "cell_type": "code",
   "execution_count": 19,
   "id": "5fc9209e-cffd-4522-817f-08ffda8a95c0",
   "metadata": {
    "execution": {
     "iopub.execute_input": "2025-09-19T04:38:55.958221Z",
     "iopub.status.busy": "2025-09-19T04:38:55.958037Z",
     "iopub.status.idle": "2025-09-19T04:38:56.331689Z",
     "shell.execute_reply": "2025-09-19T04:38:56.331236Z",
     "shell.execute_reply.started": "2025-09-19T04:38:55.958208Z"
    }
   },
   "outputs": [
    {
     "name": "stdout",
     "output_type": "stream",
     "text": [
      "Histograms exported to: C:\\Users\\User\\Desktop\\Lasso_Potential_Outcomes_RCTs\\Python\\Output\\literacy_histograms.png\n"
     ]
    }
   ],
   "source": [
    "import os\n",
    "import matplotlib.pyplot as plt\n",
    "import pandas as pd\n",
    "\n",
    "\"\"\"\n",
    "Plot and export histograms for female and male literacy rates.\n",
    "\n",
    "Parameters\n",
    "----------\n",
    "df : pd.DataFrame\n",
    "    Must contain 'FEMALE_LIT' and 'MALE_LIT'.\n",
    "\n",
    "Returns\n",
    "-------\n",
    "None\n",
    "\"\"\"\n",
    "def plot_histograms(df: pd.DataFrame) -> None:\n",
    "    # Define output directory\n",
    "    out_dir = r\"C:\\Users\\User\\Desktop\\Lasso_Potential_Outcomes_RCTs\\Python\\Output\"\n",
    "    os.makedirs(out_dir, exist_ok=True)\n",
    "\n",
    "    # Plot\n",
    "    fig, ax = plt.subplots(1, 2, figsize=(10, 4))\n",
    "    ax[0].hist(df[\"FEMALE_LIT\"], bins=20, alpha=0.7, color=\"pink\")\n",
    "    ax[0].set_title(\"Female Literacy Distribution\")\n",
    "    ax[0].set_xlabel(\"FEMALE_LIT\"); ax[0].set_ylabel(\"Count\")\n",
    "\n",
    "    ax[1].hist(df[\"MALE_LIT\"], bins=20, alpha=0.7, color=\"skyblue\")\n",
    "    ax[1].set_title(\"Male Literacy Distribution\")\n",
    "    ax[1].set_xlabel(\"MALE_LIT\"); ax[1].set_ylabel(\"Count\")\n",
    "\n",
    "    plt.tight_layout()\n",
    "\n",
    "    # Save the figure\n",
    "    out_path = os.path.join(out_dir, \"literacy_histograms.png\")\n",
    "    fig.savefig(out_path, dpi=300)\n",
    "    plt.close(fig)\n",
    "\n",
    "    print(f\"Histograms exported to: {out_path}\")\n",
    "\n",
    "\n",
    "# Usage\n",
    "plot_histograms(df)\n"
   ]
  },
  {
   "cell_type": "markdown",
   "id": "4acca115-ccd0-45e3-89d6-41af9926425e",
   "metadata": {},
   "source": [
    "### Comentario sobre las distribuciones de alfabetización\n",
    "\n",
    "- **Alfabetización femenina (FEMALE_LIT):**  \n",
    "  La distribución se concentra principalmente entre **50% y 80%**, con un pico en torno a **60–65%**. Presenta mayor dispersión y existen distritos con niveles relativamente bajos.\n",
    "\n",
    "- **Alfabetización masculina (MALE_LIT):**  \n",
    "  La distribución está desplazada hacia la derecha, concentrándose entre **70% y 90%**. La mayoría de los distritos muestran niveles altos y la dispersión es menor en comparación con las mujeres.\n",
    "\n",
    "- **Conclusión:**  \n",
    "  Se observa una **brecha sistemática de género**: la alfabetización masculina tiende a ser **mayor y más homogénea** que la femenina.\n"
   ]
  },
  {
   "cell_type": "markdown",
   "id": "8cdb9109-8953-4a95-83ef-730c778ff354",
   "metadata": {
    "execution": {
     "iopub.execute_input": "2025-09-19T04:34:39.530654Z",
     "iopub.status.busy": "2025-09-19T04:34:39.530455Z",
     "iopub.status.idle": "2025-09-19T04:34:39.533119Z",
     "shell.execute_reply": "2025-09-19T04:34:39.532708Z",
     "shell.execute_reply.started": "2025-09-19T04:34:39.530640Z"
    }
   },
   "source": [
    "# 3. low-dimensional specification and  $R^2$ (2 points)"
   ]
  },
  {
   "cell_type": "code",
   "execution_count": 20,
   "id": "97b3c305-1497-4f07-95a2-ab511701ae15",
   "metadata": {
    "execution": {
     "iopub.execute_input": "2025-09-19T04:39:04.027264Z",
     "iopub.status.busy": "2025-09-19T04:39:04.027075Z",
     "iopub.status.idle": "2025-09-19T04:39:04.034111Z",
     "shell.execute_reply": "2025-09-19T04:39:04.033634Z",
     "shell.execute_reply.started": "2025-09-19T04:39:04.027252Z"
    }
   },
   "outputs": [
    {
     "name": "stdout",
     "output_type": "stream",
     "text": [
      "Low-dimensional specification, R² (test set) = 0.277\n"
     ]
    }
   ],
   "source": [
    "# Predictors chosen for the simple model\n",
    "LOW_PRED = [\"TOTPOPULAT\", \"P_URB_POP\", \"SEXRATIO\"]\n",
    "\n",
    "\"\"\"\n",
    "Train/test split. Fit OLS with few predictors. Report test R^2.\n",
    "\n",
    "R^2_test = 1 - SSR/SST, with SSR = Σ(y - ŷ)^2 on test.\n",
    "\n",
    "Parameters\n",
    "----------\n",
    "df : pd.DataFrame\n",
    "    Clean dataset.\n",
    "y_col : str\n",
    "    Target column name.\n",
    "pred_cols : list[str]\n",
    "    Selected predictors.\n",
    "\n",
    "Returns\n",
    "-------\n",
    "r2_test : float\n",
    "    Out-of-sample R^2 on the test set.\n",
    "model : sklearn.linear_model.LinearRegression\n",
    "    Trained linear model.\n",
    "X_test, y_test, y_pred : arrays\n",
    "    Holdout design, truth, and predictions.\n",
    "\"\"\"\n",
    "def low_dim_r2(df, y_col=\"FEMALE_LIT\", pred_cols=LOW_PRED):\n",
    "    X = df[pred_cols].to_numpy(dtype=float)\n",
    "    y = df[y_col].to_numpy(dtype=float)\n",
    "\n",
    "    X_tr, X_te, y_tr, y_te = train_test_split(X, y, test_size=0.3, random_state=123)\n",
    "\n",
    "    # Standardize features for stability in flexible steps later\n",
    "    scaler = StandardScaler().fit(X_tr)\n",
    "    X_tr_s = scaler.transform(X_tr)\n",
    "    X_te_s = scaler.transform(X_te)\n",
    "\n",
    "    ols = LinearRegression().fit(X_tr_s, y_tr)\n",
    "    y_hat = ols.predict(X_te_s)\n",
    "    return r2_score(y_te, y_hat), ols, (X_te_s, y_te, y_hat), scaler\n",
    "\n",
    "r2_low, ols_low, (Xte_low, yte_low, yhat_low), scaler_low = low_dim_r2(df)\n",
    "print(f\"Low-dimensional specification, R² (test set) = {r2_low:.3f}\")\n"
   ]
  },
  {
   "cell_type": "markdown",
   "id": "6f3a3670-5391-424f-87b2-e66e2e66ffa8",
   "metadata": {},
   "source": [
    "# 4. High-dimensional (flexible) (2 points)"
   ]
  },
  {
   "cell_type": "code",
   "execution_count": 21,
   "id": "810632b6-2cbf-4337-a5be-ca886b97e163",
   "metadata": {
    "execution": {
     "iopub.execute_input": "2025-09-19T04:39:06.265274Z",
     "iopub.status.busy": "2025-09-19T04:39:06.265096Z",
     "iopub.status.idle": "2025-09-19T04:39:06.277236Z",
     "shell.execute_reply": "2025-09-19T04:39:06.276749Z",
     "shell.execute_reply.started": "2025-09-19T04:39:06.265261Z"
    }
   },
   "outputs": [
    {
     "name": "stdout",
     "output_type": "stream",
     "text": [
      "High-dimensional (flexible) specification, Test R^2: 0.414\n"
     ]
    }
   ],
   "source": [
    "HD_PRED = [\"TOTPOPULAT\", \"P_URB_POP\", \"SEXRATIO\", \"AREA_SQKM\", \"GROWTHRATE\"]\n",
    "\n",
    "\"\"\"\n",
    "Build a flexible design: main effects + all 2-way interactions + squares.\n",
    "Fit OLS on train. Compute test R^2.\n",
    "\n",
    "Design = PolyFeatures(degree=2, include_bias=False, interaction_only=False)\n",
    "\n",
    "Parameters\n",
    "----------\n",
    "df : pd.DataFrame\n",
    "y_col : str\n",
    "pred_cols : list[str]\n",
    "\n",
    "Returns\n",
    "-------\n",
    "r2_test : float\n",
    "\"\"\"\n",
    "def high_dim_r2(df, y_col=\"FEMALE_LIT\", pred_cols=HD_PRED):\n",
    "    X = df[pred_cols].to_numpy(dtype=float)\n",
    "    y = df[y_col].to_numpy(dtype=float)\n",
    "\n",
    "    X_tr, X_te, y_tr, y_te = train_test_split(X, y, test_size=0.3, random_state=123)\n",
    "\n",
    "    poly = PolynomialFeatures(degree=2, include_bias=False)  # mains + squares + pairwise interactions\n",
    "    X_tr_poly = poly.fit_transform(X_tr)\n",
    "    X_te_poly = poly.transform(X_te)\n",
    "\n",
    "    scaler = StandardScaler().fit(X_tr_poly)\n",
    "    X_tr_s = scaler.transform(X_tr_poly)\n",
    "    X_te_s = scaler.transform(X_te_poly)\n",
    "\n",
    "    ols = LinearRegression().fit(X_tr_s, y_tr)\n",
    "    y_hat = ols.predict(X_te_s)\n",
    "    return r2_score(y_te, y_hat)\n",
    "\n",
    "r2_high = high_dim_r2(df)\n",
    "print(f\"High-dimensional (flexible) specification, Test R^2: {r2_high:.3f}\")\n"
   ]
  },
  {
   "cell_type": "markdown",
   "id": "50c1371c-bf3f-4bed-9ddf-3f06a2e03753",
   "metadata": {},
   "source": [
    "# 5) For λ ∈ [10,000, 0.001] (2.75 points)"
   ]
  },
  {
   "cell_type": "code",
   "execution_count": 22,
   "id": "c88d2e3c-257a-43d1-acb7-022279d8caa7",
   "metadata": {
    "execution": {
     "iopub.execute_input": "2025-09-19T04:40:06.171398Z",
     "iopub.status.busy": "2025-09-19T04:40:06.171218Z",
     "iopub.status.idle": "2025-09-19T04:40:06.425191Z",
     "shell.execute_reply": "2025-09-19T04:40:06.424812Z",
     "shell.execute_reply.started": "2025-09-19T04:40:06.171385Z"
    }
   },
   "outputs": [
    {
     "name": "stdout",
     "output_type": "stream",
     "text": [
      "Plot saved to: C:\\Users\\User\\Desktop\\Lasso_Potential_Outcomes_RCTs\\Python\\Output\\lasso_nnz_path.png\n"
     ]
    }
   ],
   "source": [
    "import os\n",
    "from sklearn.preprocessing import StandardScaler\n",
    "from sklearn.linear_model import lasso_path\n",
    "import numpy as np\n",
    "import matplotlib.pyplot as plt\n",
    "\n",
    "def lasso_nnz_path(df, y_col=\"FEMALE_LIT\",\n",
    "                   pred_cols=(\"TOTPOPULAT\",\"P_URB_POP\",\"SEXRATIO\",\"AREA_SQKM\",\"GROWTHRATE\"),\n",
    "                   lmin=1e-3, lmax=1e4,\n",
    "                   out_dir=r\"C:\\Users\\User\\Desktop\\Lasso_Potential_Outcomes_RCTs\\Python\\Output\",\n",
    "                   fname=\"lasso_nnz_path.png\"):\n",
    "    X = df[list(pred_cols)].to_numpy(dtype=float)\n",
    "    y = df[y_col].to_numpy(dtype=float)\n",
    "\n",
    "    # standardize X and center y (intercept absorbed)\n",
    "    X = StandardScaler(with_mean=True, with_std=True).fit_transform(X)\n",
    "    y = y - y.mean()\n",
    "\n",
    "    # grid of lambdas: 10,000 → 0.001, descending\n",
    "    alphas = np.logspace(np.log10(lmax), np.log10(lmin), num=200)[::-1]\n",
    "\n",
    "    # lasso_path has no fit_intercept\n",
    "    alphas_out, coefs, _ = lasso_path(X, y, alphas=alphas)\n",
    "\n",
    "    nnz = (coefs != 0).sum(axis=0)\n",
    "\n",
    "    # plot\n",
    "    plt.figure(figsize=(6,5))\n",
    "    plt.plot(np.log(alphas_out), nnz, lw=1.5)\n",
    "    plt.xlabel(\"log(lambda)\")\n",
    "    plt.ylabel(\"Nonzero coefficients\")\n",
    "    plt.title(\"Lasso path: # nonzero coefficients\")\n",
    "    plt.grid(True, alpha=0.3)\n",
    "\n",
    "    # ensure output directory exists\n",
    "    os.makedirs(out_dir, exist_ok=True)\n",
    "    out_path = os.path.join(out_dir, fname)\n",
    "\n",
    "    # save plot\n",
    "    plt.savefig(out_path, dpi=300, bbox_inches=\"tight\")\n",
    "    plt.close()\n",
    "\n",
    "    print(f\"Plot saved to: {out_path}\")\n",
    "    return alphas_out, nnz\n",
    "\n",
    "\n",
    "# Usage\n",
    "alphas_out, nnz = lasso_nnz_path(df)\n"
   ]
  },
  {
   "cell_type": "markdown",
   "id": "f2af655c-b156-4267-bd9e-008cf18e085e",
   "metadata": {},
   "source": [
    "### Comentario sobre el camino del Lasso\n",
    "\n",
    "- **Valores grandes de λ (penalización alta):**  \n",
    "  Todos los coeficientes se reducen a **cero**, lo que implica que el modelo no utiliza ninguna variable explicativa.\n",
    "\n",
    "- **Valores intermedios de λ:**  \n",
    "  A medida que la penalización disminuye, **aparecen gradualmente más coeficientes distintos de cero**. El número de variables seleccionadas crece de forma escalonada.\n",
    "\n",
    "- **Valores pequeños de λ (penalización baja):**  \n",
    "  El modelo mantiene hasta **5 predictores activos**, reflejando una mayor flexibilidad pero también un mayor riesgo de sobreajuste.\n",
    "\n",
    "- **Conclusión:**  \n",
    "  El gráfico ilustra la **propiedad de selección de variables del Lasso**: con penalización fuerte se eliminan variables irrelevantes, y con penalización débil se incluyen más predictores.\n"
   ]
  },
  {
   "cell_type": "code",
   "execution_count": null,
   "id": "26a35fec-4e53-4647-8cf4-ff41a50c967c",
   "metadata": {},
   "outputs": [],
   "source": []
  }
 ],
 "metadata": {
  "kernelspec": {
   "display_name": "Python [conda env:base] *",
   "language": "python",
   "name": "conda-base-py"
  },
  "language_info": {
   "codemirror_mode": {
    "name": "ipython",
    "version": 3
   },
   "file_extension": ".py",
   "mimetype": "text/x-python",
   "name": "python",
   "nbconvert_exporter": "python",
   "pygments_lexer": "ipython3",
   "version": "3.13.5"
  }
 },
 "nbformat": 4,
 "nbformat_minor": 5
}

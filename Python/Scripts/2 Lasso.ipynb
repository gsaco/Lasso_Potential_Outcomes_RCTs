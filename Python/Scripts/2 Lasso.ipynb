{
 "cells": [
  {
   "cell_type": "code",
   "execution_count": 1,
   "id": "7566a91e-d789-4215-8876-ab90db01b84f",
   "metadata": {
    "execution": {
     "iopub.execute_input": "2025-09-18T00:22:03.489879Z",
     "iopub.status.busy": "2025-09-18T00:22:03.489656Z",
     "iopub.status.idle": "2025-09-18T00:22:05.495336Z",
     "shell.execute_reply": "2025-09-18T00:22:05.494931Z",
     "shell.execute_reply.started": "2025-09-18T00:22:03.489864Z"
    }
   },
   "outputs": [],
   "source": [
    "import numpy as np\n",
    "import pandas as pd\n",
    "import matplotlib.pyplot as plt\n",
    "\n",
    "from sklearn.model_selection import train_test_split\n",
    "from sklearn.preprocessing import StandardScaler, PolynomialFeatures\n",
    "from sklearn.linear_model import LinearRegression\n",
    "from sklearn.metrics import r2_score\n",
    "from sklearn.linear_model import lasso_path\n"
   ]
  },
  {
   "cell_type": "code",
   "execution_count": 2,
   "id": "a1534e48-2da4-4d2c-bba1-57b2b83e962c",
   "metadata": {
    "execution": {
     "iopub.execute_input": "2025-09-18T00:22:10.962235Z",
     "iopub.status.busy": "2025-09-18T00:22:10.961946Z",
     "iopub.status.idle": "2025-09-18T00:22:12.000697Z",
     "shell.execute_reply": "2025-09-18T00:22:12.000224Z",
     "shell.execute_reply.started": "2025-09-18T00:22:10.962151Z"
    }
   },
   "outputs": [
    {
     "data": {
      "text/plain": [
       "(625, 100)"
      ]
     },
     "execution_count": 2,
     "metadata": {},
     "output_type": "execute_result"
    }
   ],
   "source": [
    "# Your path\n",
    "xlsx_path = r\"C:\\Users\\User\\Desktop\\CausalAI-Course\\data\\Districtwise_literacy_rates.xlsx\"\n",
    "\n",
    "\"\"\"\n",
    "Load Excel and drop rows with any missing values.\n",
    "\n",
    "Parameters\n",
    "----------\n",
    "xlsx_path : str\n",
    "    Absolute path to the Excel file.\n",
    "\n",
    "Returns\n",
    "-------\n",
    "df : pd.DataFrame\n",
    "    Cleaned dataset with no NAs.\n",
    "\"\"\"\n",
    "def load_and_clean(xlsx_path: str) -> pd.DataFrame:\n",
    "    df = pd.read_excel(xlsx_path)\n",
    "    df = df.dropna(axis=0, how=\"any\")\n",
    "    return df\n",
    "\n",
    "df = load_and_clean(xlsx_path)\n",
    "df.shape\n"
   ]
  },
  {
   "cell_type": "code",
   "execution_count": 3,
   "id": "5fc9209e-cffd-4522-817f-08ffda8a95c0",
   "metadata": {
    "execution": {
     "iopub.execute_input": "2025-09-18T00:22:19.284510Z",
     "iopub.status.busy": "2025-09-18T00:22:19.284326Z",
     "iopub.status.idle": "2025-09-18T00:22:19.574482Z",
     "shell.execute_reply": "2025-09-18T00:22:19.573785Z",
     "shell.execute_reply.started": "2025-09-18T00:22:19.284498Z"
    }
   },
   "outputs": [
    {
     "data": {
      "image/png": "[encoded data removed]",
      "text/plain": [
       "<Figure size 1000x400 with 2 Axes>"
      ]
     },
     "metadata": {},
     "output_type": "display_data"
    }
   ],
   "source": [
    "\"\"\"\n",
    "Plot histograms for female and male literacy rates.\n",
    "\n",
    "Parameters\n",
    "----------\n",
    "df : pd.DataFrame\n",
    "    Must contain 'FEMALE_LIT' and 'MALE_LIT'.\n",
    "\n",
    "Returns\n",
    "-------\n",
    "None\n",
    "\"\"\"\n",
    "def plot_histograms(df: pd.DataFrame) -> None:\n",
    "    fig, ax = plt.subplots(1, 2, figsize=(10, 4))\n",
    "    ax[0].hist(df[\"FEMALE_LIT\"], bins=20, alpha=0.7)\n",
    "    ax[0].set_title(\"Female Literacy Distribution\")\n",
    "    ax[0].set_xlabel(\"FEMALE_LIT\"); ax[0].set_ylabel(\"Count\")\n",
    "\n",
    "    ax[1].hist(df[\"MALE_LIT\"], bins=20, alpha=0.7)\n",
    "    ax[1].set_title(\"Male Literacy Distribution\")\n",
    "    ax[1].set_xlabel(\"MALE_LIT\"); ax[1].set_ylabel(\"Count\")\n",
    "    plt.tight_layout(); plt.show()\n",
    "\n",
    "plot_histograms(df)\n"
   ]
  },
  {
   "cell_type": "markdown",
   "id": "4acca115-ccd0-45e3-89d6-41af9926425e",
   "metadata": {},
   "source": [
    "### Comentario sobre las distribuciones de alfabetización\n",
    "\n",
    "- **Alfabetización femenina (FEMALE_LIT):**  \n",
    "  La distribución se concentra principalmente entre **50% y 80%**, con un pico en torno a **60–65%**. Presenta mayor dispersión y existen distritos con niveles relativamente bajos.\n",
    "\n",
    "- **Alfabetización masculina (MALE_LIT):**  \n",
    "  La distribución está desplazada hacia la derecha, concentrándose entre **70% y 90%**. La mayoría de los distritos muestran niveles altos y la dispersión es menor en comparación con las mujeres.\n",
    "\n",
    "- **Conclusión:**  \n",
    "  Se observa una **brecha sistemática de género**: la alfabetización masculina tiende a ser **mayor y más homogénea** que la femenina.\n"
   ]
  },
  {
   "cell_type": "code",
   "execution_count": 4,
   "id": "97b3c305-1497-4f07-95a2-ab511701ae15",
   "metadata": {
    "execution": {
     "iopub.execute_input": "2025-09-18T00:22:25.803175Z",
     "iopub.status.busy": "2025-09-18T00:22:25.802978Z",
     "iopub.status.idle": "2025-09-18T00:22:25.831339Z",
     "shell.execute_reply": "2025-09-18T00:22:25.830672Z",
     "shell.execute_reply.started": "2025-09-18T00:22:25.803161Z"
    }
   },
   "outputs": [
    {
     "name": "stdout",
     "output_type": "stream",
     "text": [
      "Low-dimensional spec — Test R^2: 0.277\n"
     ]
    }
   ],
   "source": [
    "# Predictors chosen for the simple model\n",
    "LOW_PRED = [\"TOTPOPULAT\", \"P_URB_POP\", \"SEXRATIO\"]\n",
    "\n",
    "\"\"\"\n",
    "Train/test split. Fit OLS with few predictors. Report test R^2.\n",
    "\n",
    "R^2_test = 1 - SSR/SST, with SSR = Σ(y - ŷ)^2 on test.\n",
    "\n",
    "Parameters\n",
    "----------\n",
    "df : pd.DataFrame\n",
    "    Clean dataset.\n",
    "y_col : str\n",
    "    Target column name.\n",
    "pred_cols : list[str]\n",
    "    Selected predictors.\n",
    "\n",
    "Returns\n",
    "-------\n",
    "r2_test : float\n",
    "    Out-of-sample R^2 on the test set.\n",
    "model : sklearn.linear_model.LinearRegression\n",
    "    Trained linear model.\n",
    "X_test, y_test, y_pred : arrays\n",
    "    Holdout design, truth, and predictions.\n",
    "\"\"\"\n",
    "def low_dim_r2(df, y_col=\"FEMALE_LIT\", pred_cols=LOW_PRED):\n",
    "    X = df[pred_cols].to_numpy(dtype=float)\n",
    "    y = df[y_col].to_numpy(dtype=float)\n",
    "\n",
    "    X_tr, X_te, y_tr, y_te = train_test_split(X, y, test_size=0.3, random_state=123)\n",
    "\n",
    "    # Standardize features for stability in flexible steps later\n",
    "    scaler = StandardScaler().fit(X_tr)\n",
    "    X_tr_s = scaler.transform(X_tr)\n",
    "    X_te_s = scaler.transform(X_te)\n",
    "\n",
    "    ols = LinearRegression().fit(X_tr_s, y_tr)\n",
    "    y_hat = ols.predict(X_te_s)\n",
    "    return r2_score(y_te, y_hat), ols, (X_te_s, y_te, y_hat), scaler\n",
    "\n",
    "r2_low, ols_low, (Xte_low, yte_low, yhat_low), scaler_low = low_dim_r2(df)\n",
    "print(f\"Low-dimensional spec — Test R^2: {r2_low:.3f}\")\n"
   ]
  },
  {
   "cell_type": "code",
   "execution_count": 5,
   "id": "810632b6-2cbf-4337-a5be-ca886b97e163",
   "metadata": {
    "execution": {
     "iopub.execute_input": "2025-09-18T00:22:32.121759Z",
     "iopub.status.busy": "2025-09-18T00:22:32.121578Z",
     "iopub.status.idle": "2025-09-18T00:22:32.135387Z",
     "shell.execute_reply": "2025-09-18T00:22:32.135012Z",
     "shell.execute_reply.started": "2025-09-18T00:22:32.121746Z"
    }
   },
   "outputs": [
    {
     "name": "stdout",
     "output_type": "stream",
     "text": [
      "Flexible spec — Test R^2: 0.414\n"
     ]
    }
   ],
   "source": [
    "HD_PRED = [\"TOTPOPULAT\", \"P_URB_POP\", \"SEXRATIO\", \"AREA_SQKM\", \"GROWTHRATE\"]\n",
    "\n",
    "\"\"\"\n",
    "Build a flexible design: main effects + all 2-way interactions + squares.\n",
    "Fit OLS on train. Compute test R^2.\n",
    "\n",
    "Design = PolyFeatures(degree=2, include_bias=False, interaction_only=False)\n",
    "\n",
    "Parameters\n",
    "----------\n",
    "df : pd.DataFrame\n",
    "y_col : str\n",
    "pred_cols : list[str]\n",
    "\n",
    "Returns\n",
    "-------\n",
    "r2_test : float\n",
    "\"\"\"\n",
    "def high_dim_r2(df, y_col=\"FEMALE_LIT\", pred_cols=HD_PRED):\n",
    "    X = df[pred_cols].to_numpy(dtype=float)\n",
    "    y = df[y_col].to_numpy(dtype=float)\n",
    "\n",
    "    X_tr, X_te, y_tr, y_te = train_test_split(X, y, test_size=0.3, random_state=123)\n",
    "\n",
    "    poly = PolynomialFeatures(degree=2, include_bias=False)  # mains + squares + pairwise interactions\n",
    "    X_tr_poly = poly.fit_transform(X_tr)\n",
    "    X_te_poly = poly.transform(X_te)\n",
    "\n",
    "    scaler = StandardScaler().fit(X_tr_poly)\n",
    "    X_tr_s = scaler.transform(X_tr_poly)\n",
    "    X_te_s = scaler.transform(X_te_poly)\n",
    "\n",
    "    ols = LinearRegression().fit(X_tr_s, y_tr)\n",
    "    y_hat = ols.predict(X_te_s)\n",
    "    return r2_score(y_te, y_hat)\n",
    "\n",
    "r2_high = high_dim_r2(df)\n",
    "print(f\"Flexible spec — Test R^2: {r2_high:.3f}\")\n"
   ]
  },
  {
   "cell_type": "code",
   "execution_count": 7,
   "id": "c88d2e3c-257a-43d1-acb7-022279d8caa7",
   "metadata": {
    "execution": {
     "iopub.execute_input": "2025-09-18T00:27:42.371685Z",
     "iopub.status.busy": "2025-09-18T00:27:42.371449Z",
     "iopub.status.idle": "2025-09-18T00:27:42.376608Z",
     "shell.execute_reply": "2025-09-18T00:27:42.376087Z",
     "shell.execute_reply.started": "2025-09-18T00:27:42.371673Z"
    }
   },
   "outputs": [],
   "source": [
    "from sklearn.preprocessing import StandardScaler\n",
    "from sklearn.linear_model import lasso_path\n",
    "import numpy as np\n",
    "import matplotlib.pyplot as plt\n",
    "\n",
    "def lasso_nnz_path(df, y_col=\"FEMALE_LIT\",\n",
    "                   pred_cols=(\"TOTPOPULAT\",\"P_URB_POP\",\"SEXRATIO\",\"AREA_SQKM\",\"GROWTHRATE\"),\n",
    "                   lmin=1e-3, lmax=1e4):\n",
    "    X = df[list(pred_cols)].to_numpy(dtype=float)\n",
    "    y = df[y_col].to_numpy(dtype=float)\n",
    "\n",
    "    # estandarizar X y centrar y (intercepto absorbido)\n",
    "    X = StandardScaler(with_mean=True, with_std=True).fit_transform(X)\n",
    "    y = y - y.mean()\n",
    "\n",
    "    # grid de lambdas: 10,000 → 0.001 en orden descendente\n",
    "    alphas = np.logspace(np.log10(lmax), np.log10(lmin), num=200)[::-1]\n",
    "\n",
    "    # lasso_path no tiene fit_intercept\n",
    "    alphas_out, coefs, _ = lasso_path(X, y, alphas=alphas)\n",
    "\n",
    "    nnz = (coefs != 0).sum(axis=0)\n",
    "\n",
    "    plt.figure(figsize=(6,5))\n",
    "    plt.plot(np.log(alphas_out), nnz, lw=1.5)\n",
    "    plt.xlabel(\"log(lambda)\"); plt.ylabel(\"Nonzero coefficients\")\n",
    "    plt.title(\"Lasso path: # nonzero coefficients\")\n",
    "    plt.grid(True, alpha=0.3)\n",
    "    plt.show()\n",
    "\n",
    "    return alphas_out, nnz\n"
   ]
  },
  {
   "cell_type": "code",
   "execution_count": 8,
   "id": "0edeebb9-9463-4e72-a65b-937f4448ed0b",
   "metadata": {
    "execution": {
     "iopub.execute_input": "2025-09-18T00:28:01.813896Z",
     "iopub.status.busy": "2025-09-18T00:28:01.813691Z",
     "iopub.status.idle": "2025-09-18T00:28:01.919437Z",
     "shell.execute_reply": "2025-09-18T00:28:01.918621Z",
     "shell.execute_reply.started": "2025-09-18T00:28:01.813883Z"
    }
   },
   "outputs": [
    {
     "data": {
      "image/png": "[encoded data removed]",
      "text/plain": [
       "<Figure size 600x500 with 1 Axes>"
      ]
     },
     "metadata": {},
     "output_type": "display_data"
    }
   ],
   "source": [
    "alphas_out, nnz = lasso_nnz_path(df)\n"
   ]
  },
  {
   "cell_type": "markdown",
   "id": "f2af655c-b156-4267-bd9e-008cf18e085e",
   "metadata": {},
   "source": [
    "### Comentario sobre el camino del Lasso\n",
    "\n",
    "- **Valores grandes de λ (penalización alta):**  \n",
    "  Todos los coeficientes se reducen a **cero**, lo que implica que el modelo no utiliza ninguna variable explicativa.\n",
    "\n",
    "- **Valores intermedios de λ:**  \n",
    "  A medida que la penalización disminuye, **aparecen gradualmente más coeficientes distintos de cero**. El número de variables seleccionadas crece de forma escalonada.\n",
    "\n",
    "- **Valores pequeños de λ (penalización baja):**  \n",
    "  El modelo mantiene hasta **5 predictores activos**, reflejando una mayor flexibilidad pero también un mayor riesgo de sobreajuste.\n",
    "\n",
    "- **Conclusión:**  \n",
    "  El gráfico ilustra la **propiedad de selección de variables del Lasso**: con penalización fuerte se eliminan variables irrelevantes, y con penalización débil se incluyen más predictores.\n"
   ]
  },
  {
   "cell_type": "code",
   "execution_count": null,
   "id": "26a35fec-4e53-4647-8cf4-ff41a50c967c",
   "metadata": {},
   "outputs": [],
   "source": []
  }
 ],
 "metadata": {
  "kernelspec": {
   "display_name": "Python [conda env:base] *",
   "language": "python",
   "name": "conda-base-py"
  },
  "language_info": {
   "codemirror_mode": {
    "name": "ipython",
    "version": 3
   },
   "file_extension": ".py",
   "mimetype": "text/x-python",
   "name": "python",
   "nbconvert_exporter": "python",
   "pygments_lexer": "ipython3",
   "version": "3.13.5"
  }
 },
 "nbformat": 4,
 "nbformat_minor": 5
}

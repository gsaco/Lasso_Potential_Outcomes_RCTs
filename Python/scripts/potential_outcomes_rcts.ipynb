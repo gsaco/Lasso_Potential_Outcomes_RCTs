{
 "cells": [
  {
   "cell_type": "markdown",
   "metadata": {},
   "source": [
    "# 3. Potential Outcomes and RCTs (Python Implementation)\n",
    "\n",
    "This notebook implements analysis of potential outcomes and randomized controlled trials using Python.\n",
    "\n",
    "## Assignment Requirements:\n",
    "1. **Data Simulation (3 points)**: Simulate dataset with covariates, treatment, and outcome\n",
    "2. **Estimating Average Treatment Effect (3 points)**: Simple and controlled regression estimates\n",
    "3. **LASSO and Variable Selection (3 points)**: Use LASSO for covariate selection and ATE estimation"
   ]
  },
  {
   "cell_type": "code",
   "execution_count": 1,
   "metadata": {},
   "outputs": [
    {
     "name": "stdout",
     "output_type": "stream",
     "text": [
      "📦 Libraries loaded successfully\n"
     ]
    }
   ],
   "source": [
    "# Import required libraries\n",
    "import numpy as np\n",
    "import pandas as pd\n",
    "import matplotlib.pyplot as plt\n",
    "import seaborn as sns\n",
    "from sklearn.linear_model import LassoCV, Lasso\n",
    "from sklearn.model_selection import cross_val_score\n",
    "from sklearn.preprocessing import StandardScaler\n",
    "import statsmodels.api as sm\n",
    "from scipy import stats\n",
    "import warnings\n",
    "warnings.filterwarnings('ignore')\n",
    "\n",
    "# Set random seed for reproducibility\n",
    "np.random.seed(123)\n",
    "\n",
    "print(\"📦 Libraries loaded successfully\")"
   ]
  },
  {
   "cell_type": "markdown",
   "metadata": {},
   "source": [
    "## 3.1 Data Simulation (3 points)\n",
    "\n",
    "We simulate a dataset with n = 1000 individuals with:\n",
    "- Covariates X₁, X₂, X₃, X₄ (continuous or binary)\n",
    "- Treatment assignment D ~ Bernoulli(0.5)\n",
    "- Outcome variable: Y = 2D + 0.5X₁ - 0.3X₂ + 0.2X₃ + ε, where ε ~ N(0,1)"
   ]
  },
  {
   "cell_type": "code",
   "execution_count": 2,
   "metadata": {},
   "outputs": [
    {
     "name": "stdout",
     "output_type": "stream",
     "text": [
      "📊 Dataset simulated successfully\n",
      "Sample size: 1000\n",
      "Treatment group size: 514\n",
      "Control group size: 486\n",
      "\n",
      "First 5 rows of the dataset:\n"
     ]
    },
    {
     "data": {
      "application/vnd.microsoft.datawrangler.viewer.v0+json": {
       "columns": [
        {
         "name": "index",
         "rawType": "int64",
         "type": "integer"
        },
        {
         "name": "Y",
         "rawType": "float64",
         "type": "float"
        },
        {
         "name": "D",
         "rawType": "int64",
         "type": "integer"
        },
        {
         "name": "X1",
         "rawType": "float64",
         "type": "float"
        },
        {
         "name": "X2",
         "rawType": "float64",
         "type": "float"
        },
        {
         "name": "X3",
         "rawType": "int64",
         "type": "integer"
        },
        {
         "name": "X4",
         "rawType": "int64",
         "type": "integer"
        }
       ],
       "ref": "cb3cac0b-c789-4607-aa8c-21e9e6c2e679",
       "rows": [
        [
         "0",
         "-0.283005851478348",
         "0",
         "0.9143693966994388",
         "-1.1232411983541781",
         "0",
         "0"
        ],
        [
         "1",
         "2.748367734800603",
         "0",
         "2.997345446583586",
         "0.8513920890416474",
         "0",
         "1"
        ],
        [
         "2",
         "1.751684367698139",
         "1",
         "2.282978498051992",
         "1.0772258138277657",
         "0",
         "1"
        ],
        [
         "3",
         "2.1934689309693143",
         "0",
         "0.4937052860819078",
         "-1.499071123910278",
         "1",
         "1"
        ],
        [
         "4",
         "3.783707517905806",
         "1",
         "1.4213997480314635",
         "0.7123474844054769",
         "0",
         "1"
        ]
       ],
       "shape": {
        "columns": 6,
        "rows": 5
       }
      },
      "text/html": [
       "<div>\n",
       "<style scoped>\n",
       "    .dataframe tbody tr th:only-of-type {\n",
       "        vertical-align: middle;\n",
       "    }\n",
       "\n",
       "    .dataframe tbody tr th {\n",
       "        vertical-align: top;\n",
       "    }\n",
       "\n",
       "    .dataframe thead th {\n",
       "        text-align: right;\n",
       "    }\n",
       "</style>\n",
       "<table border=\"1\" class=\"dataframe\">\n",
       "  <thead>\n",
       "    <tr style=\"text-align: right;\">\n",
       "      <th></th>\n",
       "      <th>Y</th>\n",
       "      <th>D</th>\n",
       "      <th>X1</th>\n",
       "      <th>X2</th>\n",
       "      <th>X3</th>\n",
       "      <th>X4</th>\n",
       "    </tr>\n",
       "  </thead>\n",
       "  <tbody>\n",
       "    <tr>\n",
       "      <th>0</th>\n",
       "      <td>-0.283006</td>\n",
       "      <td>0</td>\n",
       "      <td>0.914369</td>\n",
       "      <td>-1.123241</td>\n",
       "      <td>0</td>\n",
       "      <td>0</td>\n",
       "    </tr>\n",
       "    <tr>\n",
       "      <th>1</th>\n",
       "      <td>2.748368</td>\n",
       "      <td>0</td>\n",
       "      <td>2.997345</td>\n",
       "      <td>0.851392</td>\n",
       "      <td>0</td>\n",
       "      <td>1</td>\n",
       "    </tr>\n",
       "    <tr>\n",
       "      <th>2</th>\n",
       "      <td>1.751684</td>\n",
       "      <td>1</td>\n",
       "      <td>2.282978</td>\n",
       "      <td>1.077226</td>\n",
       "      <td>0</td>\n",
       "      <td>1</td>\n",
       "    </tr>\n",
       "    <tr>\n",
       "      <th>3</th>\n",
       "      <td>2.193469</td>\n",
       "      <td>0</td>\n",
       "      <td>0.493705</td>\n",
       "      <td>-1.499071</td>\n",
       "      <td>1</td>\n",
       "      <td>1</td>\n",
       "    </tr>\n",
       "    <tr>\n",
       "      <th>4</th>\n",
       "      <td>3.783708</td>\n",
       "      <td>1</td>\n",
       "      <td>1.421400</td>\n",
       "      <td>0.712347</td>\n",
       "      <td>0</td>\n",
       "      <td>1</td>\n",
       "    </tr>\n",
       "  </tbody>\n",
       "</table>\n",
       "</div>"
      ],
      "text/plain": [
       "          Y  D        X1        X2  X3  X4\n",
       "0 -0.283006  0  0.914369 -1.123241   0   0\n",
       "1  2.748368  0  2.997345  0.851392   0   1\n",
       "2  1.751684  1  2.282978  1.077226   0   1\n",
       "3  2.193469  0  0.493705 -1.499071   1   1\n",
       "4  3.783708  1  1.421400  0.712347   0   1"
      ]
     },
     "execution_count": 2,
     "metadata": {},
     "output_type": "execute_result"
    }
   ],
   "source": [
    "# Set parameters\n",
    "n = 1000\n",
    "\n",
    "# Generate covariates\n",
    "X1 = np.random.normal(2, 1, n)           # Continuous covariate\n",
    "X2 = np.random.normal(0, 1.5, n)        # Continuous covariate\n",
    "X3 = np.random.binomial(1, 0.3, n)      # Binary covariate\n",
    "X4 = np.random.binomial(1, 0.6, n)      # Binary covariate\n",
    "\n",
    "# Generate treatment assignment\n",
    "D = np.random.binomial(1, 0.5, n)       # Treatment ~ Bernoulli(0.5)\n",
    "\n",
    "# Generate error term\n",
    "epsilon = np.random.normal(0, 1, n)\n",
    "\n",
    "# Generate outcome variable: Y = 2D + 0.5X1 - 0.3X2 + 0.2X3 + ε\n",
    "Y = 2*D + 0.5*X1 - 0.3*X2 + 0.2*X3 + epsilon\n",
    "\n",
    "# Create DataFrame\n",
    "data = pd.DataFrame({\n",
    "    'Y': Y,\n",
    "    'D': D,\n",
    "    'X1': X1,\n",
    "    'X2': X2,\n",
    "    'X3': X3,\n",
    "    'X4': X4\n",
    "})\n",
    "\n",
    "print(\"📊 Dataset simulated successfully\")\n",
    "print(f\"Sample size: {len(data)}\")\n",
    "print(f\"Treatment group size: {sum(data['D'])}\")\n",
    "print(f\"Control group size: {sum(1 - data['D'])}\\n\")\n",
    "\n",
    "# Display first few rows\n",
    "print(\"First 5 rows of the dataset:\")\n",
    "data.head()"
   ]
  },
  {
   "cell_type": "markdown",
   "metadata": {},
   "source": [
    "### Balance Check (1 point)\n",
    "\n",
    "We perform a balance check by comparing the means of X₁, X₂, X₃, X₄ across treatment and control groups."
   ]
  },
  {
   "cell_type": "code",
   "execution_count": 3,
   "metadata": {},
   "outputs": [
    {
     "name": "stdout",
     "output_type": "stream",
     "text": [
      "🔍 Balance Check Results:\n",
      "  Variable  Control_Mean  Treatment_Mean  Difference  p_value\n",
      "0       X1        1.9799          1.9421     -0.0378   0.5510\n",
      "1       X2        0.0119          0.0132      0.0013   0.9887\n",
      "2       X3        0.2984          0.3113      0.0129   0.6575\n",
      "3       X4        0.6399          0.5681     -0.0718   0.0203\n",
      "\n",
      "📈 Balance is good if differences are small and p-values are > 0.05\n"
     ]
    }
   ],
   "source": [
    "# Balance check: compare means across treatment groups\n",
    "control_group = data[data['D'] == 0]\n",
    "treatment_group = data[data['D'] == 1]\n",
    "\n",
    "balance_results = []\n",
    "for var in ['X1', 'X2', 'X3', 'X4']:\n",
    "    control_mean = control_group[var].mean()\n",
    "    treatment_mean = treatment_group[var].mean()\n",
    "    difference = treatment_mean - control_mean\n",
    "    \n",
    "    # Perform t-test\n",
    "    t_stat, p_value = stats.ttest_ind(treatment_group[var], control_group[var])\n",
    "    \n",
    "    balance_results.append({\n",
    "        'Variable': var,\n",
    "        'Control_Mean': control_mean,\n",
    "        'Treatment_Mean': treatment_mean,\n",
    "        'Difference': difference,\n",
    "        'p_value': p_value\n",
    "    })\n",
    "\n",
    "balance_df = pd.DataFrame(balance_results)\n",
    "\n",
    "print(\"🔍 Balance Check Results:\")\n",
    "print(balance_df.round(4))\n",
    "print(\"\\n📈 Balance is good if differences are small and p-values are > 0.05\")"
   ]
  },
  {
   "cell_type": "markdown",
   "metadata": {},
   "source": [
    "## 3.2 Estimating the Average Treatment Effect (3 points)\n",
    "\n",
    "We estimate the Average Treatment Effect (ATE) using two approaches:\n",
    "1. Simple regression: Y ~ D\n",
    "2. Controlled regression: Y ~ D + X₁ + X₂ + X₃ + X₄"
   ]
  },
  {
   "cell_type": "code",
   "execution_count": 4,
   "metadata": {},
   "outputs": [
    {
     "name": "stdout",
     "output_type": "stream",
     "text": [
      "📊 Simple Regression Results (Y ~ D):\n",
      "                            OLS Regression Results                            \n",
      "==============================================================================\n",
      "Dep. Variable:                      Y   R-squared:                       0.432\n",
      "Model:                            OLS   Adj. R-squared:                  0.431\n",
      "Method:                 Least Squares   F-statistic:                     758.7\n",
      "Date:                Sun, 21 Sep 2025   Prob (F-statistic):          1.10e-124\n",
      "Time:                        19:27:40   Log-Likelihood:                -1567.9\n",
      "No. Observations:                1000   AIC:                             3140.\n",
      "Df Residuals:                     998   BIC:                             3150.\n",
      "Df Model:                           1                                         \n",
      "Covariance Type:            nonrobust                                         \n",
      "==============================================================================\n",
      "                 coef    std err          t      P>|t|      [0.025      0.975]\n",
      "------------------------------------------------------------------------------\n",
      "const          1.0502      0.053     19.929      0.000       0.947       1.154\n",
      "D              2.0247      0.074     27.545      0.000       1.880       2.169\n",
      "==============================================================================\n",
      "Omnibus:                        1.657   Durbin-Watson:                   2.026\n",
      "Prob(Omnibus):                  0.437   Jarque-Bera (JB):                1.531\n",
      "Skew:                           0.088   Prob(JB):                        0.465\n",
      "Kurtosis:                       3.078   Cond. No.                         2.65\n",
      "==============================================================================\n",
      "\n",
      "Notes:\n",
      "[1] Standard Errors assume that the covariance matrix of the errors is correctly specified.\n",
      "\n",
      "🎯 Simple ATE estimate: 2.0247\n",
      "📏 Standard Error: 0.0735\n"
     ]
    }
   ],
   "source": [
    "# 1. Simple regression: Y ~ D\n",
    "X_simple = sm.add_constant(data['D'])  # Add constant for intercept\n",
    "simple_model = sm.OLS(data['Y'], X_simple).fit()\n",
    "\n",
    "print(\"📊 Simple Regression Results (Y ~ D):\")\n",
    "print(simple_model.summary())\n",
    "\n",
    "# Extract ATE and standard error\n",
    "simple_ate = simple_model.params['D']\n",
    "simple_se = simple_model.bse['D']\n",
    "\n",
    "print(f\"\\n🎯 Simple ATE estimate: {simple_ate:.4f}\")\n",
    "print(f\"📏 Standard Error: {simple_se:.4f}\")"
   ]
  },
  {
   "cell_type": "code",
   "execution_count": 5,
   "metadata": {},
   "outputs": [
    {
     "name": "stdout",
     "output_type": "stream",
     "text": [
      "📊 Controlled Regression Results (Y ~ D + X1 + X2 + X3 + X4):\n",
      "                            OLS Regression Results                            \n",
      "==============================================================================\n",
      "Dep. Variable:                      Y   R-squared:                       0.596\n",
      "Model:                            OLS   Adj. R-squared:                  0.594\n",
      "Method:                 Least Squares   F-statistic:                     293.1\n",
      "Date:                Sun, 21 Sep 2025   Prob (F-statistic):          1.04e-192\n",
      "Time:                        19:27:40   Log-Likelihood:                -1397.6\n",
      "No. Observations:                1000   AIC:                             2807.\n",
      "Df Residuals:                     994   BIC:                             2837.\n",
      "Df Model:                           5                                         \n",
      "Covariance Type:            nonrobust                                         \n",
      "==============================================================================\n",
      "                 coef    std err          t      P>|t|      [0.025      0.975]\n",
      "------------------------------------------------------------------------------\n",
      "const          0.1329      0.089      1.495      0.135      -0.042       0.307\n",
      "D              2.0456      0.062     32.835      0.000       1.923       2.168\n",
      "X1             0.4131      0.031     13.266      0.000       0.352       0.474\n",
      "X2            -0.3146      0.022    -14.516      0.000      -0.357      -0.272\n",
      "X3             0.1445      0.068      2.136      0.033       0.012       0.277\n",
      "X4             0.0940      0.064      1.473      0.141      -0.031       0.219\n",
      "==============================================================================\n",
      "Omnibus:                        1.772   Durbin-Watson:                   1.978\n",
      "Prob(Omnibus):                  0.412   Jarque-Bera (JB):                1.673\n",
      "Skew:                          -0.018   Prob(JB):                        0.433\n",
      "Kurtosis:                       2.803   Cond. No.                         8.32\n",
      "==============================================================================\n",
      "\n",
      "Notes:\n",
      "[1] Standard Errors assume that the covariance matrix of the errors is correctly specified.\n",
      "\n",
      "🎯 Controlled ATE estimate: 2.0456\n",
      "📏 Standard Error: 0.0623\n"
     ]
    }
   ],
   "source": [
    "# 2. Controlled regression: Y ~ D + X1 + X2 + X3 + X4\n",
    "X_controlled = sm.add_constant(data[['D', 'X1', 'X2', 'X3', 'X4']])\n",
    "controlled_model = sm.OLS(data['Y'], X_controlled).fit()\n",
    "\n",
    "print(\"📊 Controlled Regression Results (Y ~ D + X1 + X2 + X3 + X4):\")\n",
    "print(controlled_model.summary())\n",
    "\n",
    "# Extract ATE and standard error\n",
    "controlled_ate = controlled_model.params['D']\n",
    "controlled_se = controlled_model.bse['D']\n",
    "\n",
    "print(f\"\\n🎯 Controlled ATE estimate: {controlled_ate:.4f}\")\n",
    "print(f\"📏 Standard Error: {controlled_se:.4f}\")"
   ]
  },
  {
   "cell_type": "code",
   "execution_count": 6,
   "metadata": {},
   "outputs": [
    {
     "name": "stdout",
     "output_type": "stream",
     "text": [
      "📋 Comparison of ATE Estimates:\n",
      "                                    Model  ATE_Estimate  Standard_Error  \\\n",
      "0                          Simple (Y ~ D)        2.0247          0.0735   \n",
      "1  Controlled (Y ~ D + X1 + X2 + X3 + X4)        2.0456          0.0623   \n",
      "\n",
      "   R_Squared  \n",
      "0     0.4319  \n",
      "1     0.5959  \n",
      "\n",
      "🔍 Analysis:\n",
      "• ATE change: 0.0209\n",
      "• Standard error change: -0.0112\n",
      "• The true ATE is 2.0 (from our data generating process)\n",
      "• Controlling for covariates should improve precision and reduce bias\n"
     ]
    }
   ],
   "source": [
    "# Compare the two estimates\n",
    "comparison = pd.DataFrame({\n",
    "    'Model': ['Simple (Y ~ D)', 'Controlled (Y ~ D + X1 + X2 + X3 + X4)'],\n",
    "    'ATE_Estimate': [simple_ate, controlled_ate],\n",
    "    'Standard_Error': [simple_se, controlled_se],\n",
    "    'R_Squared': [simple_model.rsquared, controlled_model.rsquared]\n",
    "})\n",
    "\n",
    "print(\"📋 Comparison of ATE Estimates:\")\n",
    "print(comparison.round(4))\n",
    "\n",
    "print(\"\\n🔍 Analysis:\")\n",
    "print(f\"• ATE change: {controlled_ate - simple_ate:.4f}\")\n",
    "print(f\"• Standard error change: {controlled_se - simple_se:.4f}\")\n",
    "print(\"• The true ATE is 2.0 (from our data generating process)\")\n",
    "print(\"• Controlling for covariates should improve precision and reduce bias\")"
   ]
  },
  {
   "cell_type": "markdown",
   "metadata": {},
   "source": [
    "## 3.3 LASSO and Variable Selection (3 points)\n",
    "\n",
    "We use LASSO to select covariates and then re-estimate the ATE with only the selected variables."
   ]
  },
  {
   "cell_type": "code",
   "execution_count": 7,
   "metadata": {},
   "outputs": [
    {
     "data": {
      "image/png": "[encoded data removed]",
      "text/plain": [
       "<Figure size 1000x600 with 2 Axes>"
      ]
     },
     "metadata": {},
     "output_type": "display_data"
    },
    {
     "name": "stdout",
     "output_type": "stream",
     "text": [
      "🎯 Optimal alpha (λ): 0.008084\n"
     ]
    }
   ],
   "source": [
    "# Prepare data for LASSO (excluding treatment D)\n",
    "X_matrix = data[['X1', 'X2', 'X3', 'X4']].values\n",
    "Y_vector = data['Y'].values\n",
    "\n",
    "# Standardize features for LASSO\n",
    "scaler = StandardScaler()\n",
    "X_scaled = scaler.fit_transform(X_matrix)\n",
    "\n",
    "# Fit LASSO model using cross-validation\n",
    "lasso_cv = LassoCV(cv=10, random_state=123, max_iter=10000)\n",
    "lasso_cv.fit(X_scaled, Y_vector)\n",
    "\n",
    "# Plot cross-validation results\n",
    "plt.figure(figsize=(10, 6))\n",
    "plt.subplot(1, 2, 1)\n",
    "plt.plot(lasso_cv.alphas_, lasso_cv.mse_path_.mean(axis=1))\n",
    "plt.axvline(lasso_cv.alpha_, color='red', linestyle='--', label=f'Optimal α = {lasso_cv.alpha_:.4f}')\n",
    "plt.xlabel('Alpha (λ)')\n",
    "plt.ylabel('Mean Squared Error')\n",
    "plt.title('LASSO Cross-Validation')\n",
    "plt.xscale('log')\n",
    "plt.legend()\n",
    "\n",
    "# Plot coefficient path\n",
    "plt.subplot(1, 2, 2)\n",
    "alphas = np.logspace(-4, 1, 100)\n",
    "coefs = []\n",
    "for alpha in alphas:\n",
    "    lasso = Lasso(alpha=alpha, max_iter=10000)\n",
    "    lasso.fit(X_scaled, Y_vector)\n",
    "    coefs.append(lasso.coef_)\n",
    "\n",
    "coefs = np.array(coefs)\n",
    "for i in range(4):\n",
    "    plt.plot(alphas, coefs[:, i], label=f'X{i+1}')\n",
    "plt.axvline(lasso_cv.alpha_, color='red', linestyle='--', alpha=0.7)\n",
    "plt.xlabel('Alpha (λ)')\n",
    "plt.ylabel('Coefficients')\n",
    "plt.title('LASSO Coefficient Path')\n",
    "plt.xscale('log')\n",
    "plt.legend()\n",
    "plt.tight_layout()\n",
    "plt.show()\n",
    "\n",
    "print(f\"🎯 Optimal alpha (λ): {lasso_cv.alpha_:.6f}\")"
   ]
  },
  {
   "cell_type": "code",
   "execution_count": 8,
   "metadata": {},
   "outputs": [
    {
     "name": "stdout",
     "output_type": "stream",
     "text": [
      "📊 LASSO Coefficients:\n",
      "X1: 0.388798\n",
      "X2: -0.439681\n",
      "X3: 0.069794\n",
      "X4: -0.020927\n",
      "\n",
      "✅ Variables selected by LASSO: ['X1', 'X2', 'X3', 'X4']\n"
     ]
    }
   ],
   "source": [
    "# Get coefficients and selected variables\n",
    "lasso_coef = lasso_cv.coef_\n",
    "variable_names = ['X1', 'X2', 'X3', 'X4']\n",
    "selected_vars = [var for var, coef in zip(variable_names, lasso_coef) if abs(coef) > 1e-6]\n",
    "\n",
    "print(\"📊 LASSO Coefficients:\")\n",
    "for var, coef in zip(variable_names, lasso_coef):\n",
    "    print(f\"{var}: {coef:.6f}\")\n",
    "\n",
    "print(f\"\\n✅ Variables selected by LASSO: {selected_vars}\")\n",
    "\n",
    "if len(selected_vars) == 0:\n",
    "    print(\"⚠️  No variables selected by LASSO at optimal α\")\n",
    "    print(\"This might indicate that the penalty is too strong or variables are not predictive\")"
   ]
  },
  {
   "cell_type": "code",
   "execution_count": 9,
   "metadata": {},
   "outputs": [
    {
     "name": "stdout",
     "output_type": "stream",
     "text": [
      "📊 LASSO-Selected Model Results (Y ~ D + X1 + X2 + X3 + X4):\n",
      "                            OLS Regression Results                            \n",
      "==============================================================================\n",
      "Dep. Variable:                      Y   R-squared:                       0.596\n",
      "Model:                            OLS   Adj. R-squared:                  0.594\n",
      "Method:                 Least Squares   F-statistic:                     293.1\n",
      "Date:                Sun, 21 Sep 2025   Prob (F-statistic):          1.04e-192\n",
      "Time:                        19:27:41   Log-Likelihood:                -1397.6\n",
      "No. Observations:                1000   AIC:                             2807.\n",
      "Df Residuals:                     994   BIC:                             2837.\n",
      "Df Model:                           5                                         \n",
      "Covariance Type:            nonrobust                                         \n",
      "==============================================================================\n",
      "                 coef    std err          t      P>|t|      [0.025      0.975]\n",
      "------------------------------------------------------------------------------\n",
      "const          0.1329      0.089      1.495      0.135      -0.042       0.307\n",
      "D              2.0456      0.062     32.835      0.000       1.923       2.168\n",
      "X1             0.4131      0.031     13.266      0.000       0.352       0.474\n",
      "X2            -0.3146      0.022    -14.516      0.000      -0.357      -0.272\n",
      "X3             0.1445      0.068      2.136      0.033       0.012       0.277\n",
      "X4             0.0940      0.064      1.473      0.141      -0.031       0.219\n",
      "==============================================================================\n",
      "Omnibus:                        1.772   Durbin-Watson:                   1.978\n",
      "Prob(Omnibus):                  0.412   Jarque-Bera (JB):                1.673\n",
      "Skew:                          -0.018   Prob(JB):                        0.433\n",
      "Kurtosis:                       2.803   Cond. No.                         8.32\n",
      "==============================================================================\n",
      "\n",
      "Notes:\n",
      "[1] Standard Errors assume that the covariance matrix of the errors is correctly specified.\n",
      "\n",
      "🎯 LASSO ATE estimate: 2.0456\n",
      "📏 Standard Error: 0.0623\n"
     ]
    }
   ],
   "source": [
    "# Re-estimate ATE with LASSO-selected covariates\n",
    "if len(selected_vars) > 0:\n",
    "    # Create design matrix with selected variables\n",
    "    X_lasso = sm.add_constant(data[['D'] + selected_vars])\n",
    "    lasso_model = sm.OLS(data['Y'], X_lasso).fit()\n",
    "    \n",
    "    print(f\"📊 LASSO-Selected Model Results (Y ~ D + {' + '.join(selected_vars)}):\")\n",
    "    print(lasso_model.summary())\n",
    "    \n",
    "    # Extract ATE and standard error\n",
    "    lasso_ate = lasso_model.params['D']\n",
    "    lasso_se = lasso_model.bse['D']\n",
    "    \n",
    "    print(f\"\\n🎯 LASSO ATE estimate: {lasso_ate:.4f}\")\n",
    "    print(f\"📏 Standard Error: {lasso_se:.4f}\")\n",
    "    \n",
    "else:\n",
    "    print(\"⚠️  No variables selected by LASSO - using simple model\")\n",
    "    lasso_ate = simple_ate\n",
    "    lasso_se = simple_se\n",
    "    selected_vars_str = \"None\""
   ]
  },
  {
   "cell_type": "code",
   "execution_count": 10,
   "metadata": {},
   "outputs": [
    {
     "name": "stdout",
     "output_type": "stream",
     "text": [
      "📋 Final Comparison of All ATE Estimates:\n",
      "            Model  ATE_Estimate  Standard_Error  Variables_Used\n",
      "0          Simple        2.0247          0.0735            None\n",
      "1      Controlled        2.0456          0.0623  X1, X2, X3, X4\n",
      "2  LASSO-Selected        2.0456          0.0623  X1, X2, X3, X4\n",
      "\n",
      "🔍 Discussion:\n",
      "• True ATE: 2.0\n",
      "• LASSO helps with variable selection in high-dimensional settings\n",
      "• In this case, we know X4 has no true effect (coefficient = 0)\n",
      "• LASSO should ideally select X1, X2, X3 and exclude X4\n",
      "• Benefits of LASSO: reduces overfitting, improves interpretability\n",
      "• LASSO may improve precision by removing irrelevant variables\n"
     ]
    },
    {
     "data": {
      "image/png": "[encoded data removed]",
      "text/plain": [
       "<Figure size 1000x600 with 1 Axes>"
      ]
     },
     "metadata": {},
     "output_type": "display_data"
    }
   ],
   "source": [
    "# Final comparison of all three estimates\n",
    "selected_vars_str = ', '.join(selected_vars) if len(selected_vars) > 0 else \"None\"\n",
    "\n",
    "final_comparison = pd.DataFrame({\n",
    "    'Model': ['Simple', 'Controlled', 'LASSO-Selected'],\n",
    "    'ATE_Estimate': [simple_ate, controlled_ate, lasso_ate],\n",
    "    'Standard_Error': [simple_se, controlled_se, lasso_se],\n",
    "    'Variables_Used': ['None', 'X1, X2, X3, X4', selected_vars_str]\n",
    "})\n",
    "\n",
    "print(\"📋 Final Comparison of All ATE Estimates:\")\n",
    "print(final_comparison.round(4))\n",
    "\n",
    "print(\"\\n🔍 Discussion:\")\n",
    "print(\"• True ATE: 2.0\")\n",
    "print(\"• LASSO helps with variable selection in high-dimensional settings\")\n",
    "print(\"• In this case, we know X4 has no true effect (coefficient = 0)\")\n",
    "print(\"• LASSO should ideally select X1, X2, X3 and exclude X4\")\n",
    "print(\"• Benefits of LASSO: reduces overfitting, improves interpretability\")\n",
    "print(\"• LASSO may improve precision by removing irrelevant variables\")\n",
    "\n",
    "# Visualization of results\n",
    "plt.figure(figsize=(10, 6))\n",
    "models = final_comparison['Model']\n",
    "estimates = final_comparison['ATE_Estimate']\n",
    "errors = final_comparison['Standard_Error']\n",
    "\n",
    "plt.errorbar(range(len(models)), estimates, yerr=errors, fmt='o', capsize=5)\n",
    "plt.axhline(y=2.0, color='red', linestyle='--', label='True ATE = 2.0')\n",
    "plt.xticks(range(len(models)), models, rotation=45)\n",
    "plt.ylabel('ATE Estimate')\n",
    "plt.title('Comparison of ATE Estimates with Confidence Intervals')\n",
    "plt.legend()\n",
    "plt.grid(True, alpha=0.3)\n",
    "plt.tight_layout()\n",
    "plt.show()"
   ]
  }
 ],
 "metadata": {
  "kernelspec": {
   "display_name": "base",
   "language": "python",
   "name": "python3"
  },
  "language_info": {
   "codemirror_mode": {
    "name": "ipython",
    "version": 3
   },
   "file_extension": ".py",
   "mimetype": "text/x-python",
   "name": "python",
   "nbconvert_exporter": "python",
   "pygments_lexer": "ipython3",
   "version": "3.11.5"
  }
 },
 "nbformat": 4,
 "nbformat_minor": 4
}

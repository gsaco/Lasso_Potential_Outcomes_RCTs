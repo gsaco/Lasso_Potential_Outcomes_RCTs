{
 "cells": [
  {
   "cell_type": "code",
   "execution_count": 184,
   "id": "59ce824a-e8c5-4ea4-aab8-8ac771918b88",
   "metadata": {},
   "outputs": [],
   "source": [
    "import numpy as np\n",
    "import pandas as pd\n",
    "from scipy.stats import ttest_ind"
   ]
  },
  {
   "cell_type": "code",
   "execution_count": 193,
   "id": "79d058d6-62f1-4833-9994-d3aff010ce12",
   "metadata": {},
   "outputs": [],
   "source": [
    "np.random.seed(13)\n",
    "n = 1000"
   ]
  },
  {
   "cell_type": "code",
   "execution_count": 194,
   "id": "f202a748-f8a1-486a-8911-c44e8744d913",
   "metadata": {},
   "outputs": [],
   "source": [
    "X_1 = np.random.binomial(1, 0.8, n)\n",
    "X_2 = np.random.normal(0, 1, n)\n",
    "X_3 = np.random.normal(0, 1, n)\n",
    "X_4 = np.random.normal(0, 1, n)"
   ]
  },
  {
   "cell_type": "code",
   "execution_count": 195,
   "id": "460439af-c391-43d4-bbab-e112f0cb2e34",
   "metadata": {},
   "outputs": [],
   "source": [
    "D = np.random.binomial(1,0.5,n)\n",
    "\n",
    "error = np.random.normal(0,1,n)"
   ]
  },
  {
   "cell_type": "code",
   "execution_count": 196,
   "id": "8e1da132-95dc-42b8-9474-42db677d5af4",
   "metadata": {},
   "outputs": [],
   "source": [
    "Y = 2*D + 0.5*X_1 - 0.3*X_2 + 0.2*X_3 + error"
   ]
  },
  {
   "cell_type": "code",
   "execution_count": 197,
   "id": "6a1525a7-f916-489e-a6a6-b04b6b2159a5",
   "metadata": {},
   "outputs": [
    {
     "data": {
      "text/html": [
       "<div>\n",
       "<style scoped>\n",
       "    .dataframe tbody tr th:only-of-type {\n",
       "        vertical-align: middle;\n",
       "    }\n",
       "\n",
       "    .dataframe tbody tr th {\n",
       "        vertical-align: top;\n",
       "    }\n",
       "\n",
       "    .dataframe thead th {\n",
       "        text-align: right;\n",
       "    }\n",
       "</style>\n",
       "<table border=\"1\" class=\"dataframe\">\n",
       "  <thead>\n",
       "    <tr style=\"text-align: right;\">\n",
       "      <th></th>\n",
       "      <th>X1</th>\n",
       "      <th>X2</th>\n",
       "      <th>X3</th>\n",
       "      <th>X4</th>\n",
       "      <th>D</th>\n",
       "      <th>Y</th>\n",
       "    </tr>\n",
       "  </thead>\n",
       "  <tbody>\n",
       "    <tr>\n",
       "      <th>0</th>\n",
       "      <td>1</td>\n",
       "      <td>0.2304</td>\n",
       "      <td>0.6049</td>\n",
       "      <td>-1.1407</td>\n",
       "      <td>1</td>\n",
       "      <td>2.6561</td>\n",
       "    </tr>\n",
       "    <tr>\n",
       "      <th>1</th>\n",
       "      <td>1</td>\n",
       "      <td>0.4319</td>\n",
       "      <td>0.5119</td>\n",
       "      <td>0.1633</td>\n",
       "      <td>1</td>\n",
       "      <td>4.5747</td>\n",
       "    </tr>\n",
       "    <tr>\n",
       "      <th>2</th>\n",
       "      <td>0</td>\n",
       "      <td>1.1782</td>\n",
       "      <td>-1.9977</td>\n",
       "      <td>-0.0423</td>\n",
       "      <td>0</td>\n",
       "      <td>-0.9690</td>\n",
       "    </tr>\n",
       "    <tr>\n",
       "      <th>3</th>\n",
       "      <td>0</td>\n",
       "      <td>-0.2890</td>\n",
       "      <td>0.3562</td>\n",
       "      <td>-0.9004</td>\n",
       "      <td>0</td>\n",
       "      <td>-0.5324</td>\n",
       "    </tr>\n",
       "    <tr>\n",
       "      <th>4</th>\n",
       "      <td>0</td>\n",
       "      <td>-0.7727</td>\n",
       "      <td>-1.2997</td>\n",
       "      <td>-0.8798</td>\n",
       "      <td>0</td>\n",
       "      <td>-2.1326</td>\n",
       "    </tr>\n",
       "  </tbody>\n",
       "</table>\n",
       "</div>"
      ],
      "text/plain": [
       "   X1      X2      X3      X4  D       Y\n",
       "0   1  0.2304  0.6049 -1.1407  1  2.6561\n",
       "1   1  0.4319  0.5119  0.1633  1  4.5747\n",
       "2   0  1.1782 -1.9977 -0.0423  0 -0.9690\n",
       "3   0 -0.2890  0.3562 -0.9004  0 -0.5324\n",
       "4   0 -0.7727 -1.2997 -0.8798  0 -2.1326"
      ]
     },
     "execution_count": 197,
     "metadata": {},
     "output_type": "execute_result"
    }
   ],
   "source": [
    "df = pd.DataFrame({\n",
    "    \"X1\": X_1,\n",
    "    \"X2\": X_2,\n",
    "    \"X3\": X_3,\n",
    "    \"X4\": X_4,\n",
    "    \"D\": D,\n",
    "    \"Y\": Y\n",
    "})\n",
    "\n",
    "df.head()"
   ]
  },
  {
   "cell_type": "code",
   "execution_count": 198,
   "id": "1059f153-f854-4c71-8811-071931dd5cfa",
   "metadata": {},
   "outputs": [],
   "source": [
    "vector_1 = [\"X1\", \"X2\", \"X3\", \"X4\"]"
   ]
  },
  {
   "cell_type": "code",
   "execution_count": 199,
   "id": "18af1e04-1f20-419f-b005-8468d38644bd",
   "metadata": {},
   "outputs": [
    {
     "name": "stdout",
     "output_type": "stream",
     "text": [
      "con t-test\n"
     ]
    }
   ],
   "source": [
    "print(\"con t-test\")\n",
    "\n",
    "resultados_ttest = []\n",
    "for var in vector_1:\n",
    "    tratamiento = df[df[\"D\"] == 1][var]\n",
    "    control = df[df[\"D\"] == 0][var]\n",
    "    t_stat, p_val = ttest_ind(tratamiento, control)\n",
    "    resultados_ttest.append({\"Variable\": var,\n",
    "                    \"Tratamiento\": treated.mean(),\n",
    "                    \"Control\": control.mean(),\n",
    "                    \"P value\": p_val})\n"
   ]
  },
  {
   "cell_type": "code",
   "execution_count": 200,
   "id": "6198d90b-fa28-4941-af5a-596dee5eb944",
   "metadata": {},
   "outputs": [
    {
     "name": "stdout",
     "output_type": "stream",
     "text": [
      "  Variable  Tratamiento  Control  P value\n",
      "0       X1       0.0132   0.1352   0.4941\n",
      "1       X2       0.0132  -0.0185   0.7364\n",
      "2       X3       0.0132  -0.0675   0.3736\n",
      "3       X4       0.0132  -0.0670   0.2230\n"
     ]
    }
   ],
   "source": [
    "tabla = pd.DataFrame(resultados)\n",
    "print(tabla)"
   ]
  },
  {
   "cell_type": "code",
   "execution_count": 163,
   "id": "56d07dcc-fb45-41df-97f8-5136c4da3bd6",
   "metadata": {},
   "outputs": [
    {
     "name": "stdout",
     "output_type": "stream",
     "text": [
      "con regresión\n"
     ]
    }
   ],
   "source": [
    "print(\"con regresión\")\n",
    "\n",
    "import statsmodels.api as sm\n",
    "\n",
    "resultados_regresion = []\n",
    "for var in covariates:\n",
    "    X = sm.add_constant(df['D'])\n",
    "    y = df[var]\n",
    "    model = sm.OLS(y, X).fit()\n",
    "    resultados_regresion.append({\n",
    "        \"Variable\": var,\n",
    "        \"Coeficiente\": model.params['D'],\n",
    "        \"Error std.\": model.bse['D'],\n",
    "        \"P value\": model.pvalues['D']\n",
    "    })\n"
   ]
  },
  {
   "cell_type": "code",
   "execution_count": 164,
   "id": "ae3a22ff-0266-4af1-9abd-41db9806f7f2",
   "metadata": {},
   "outputs": [
    {
     "name": "stdout",
     "output_type": "stream",
     "text": [
      "  Variable  Coeficiente  Error std.  P value\n",
      "0       X1       0.0166      0.0251   0.5083\n",
      "1       X2       0.0097      0.0636   0.8792\n",
      "2       X3      -0.0364      0.0636   0.5677\n",
      "3       X4      -0.0468      0.0624   0.4539\n"
     ]
    }
   ],
   "source": [
    "tabla_2 = pd.DataFrame(resultados_regresion)\n",
    "print(tabla_2)"
   ]
  },
  {
   "cell_type": "code",
   "execution_count": 165,
   "id": "493aae5b-ee2c-483d-8f9a-81c9cc7711c1",
   "metadata": {},
   "outputs": [
    {
     "name": "stdout",
     "output_type": "stream",
     "text": [
      "                            OLS Regression Results                            \n",
      "==============================================================================\n",
      "Dep. Variable:                      Y   R-squared:                       0.461\n",
      "Model:                            OLS   Adj. R-squared:                  0.461\n",
      "Method:                 Least Squares   F-statistic:                     853.9\n",
      "Date:                Sun, 21 Sep 2025   Prob (F-statistic):          3.91e-136\n",
      "Time:                        19:01:08   Log-Likelihood:                -1492.8\n",
      "No. Observations:                1000   AIC:                             2990.\n",
      "Df Residuals:                     998   BIC:                             2999.\n",
      "Df Model:                           1                                         \n",
      "Covariance Type:            nonrobust                                         \n",
      "==============================================================================\n",
      "                 coef    std err          t      P>|t|      [0.025      0.975]\n",
      "------------------------------------------------------------------------------\n",
      "Intercept      0.4742      0.049      9.729      0.000       0.379       0.570\n",
      "D              1.9922      0.068     29.222      0.000       1.858       2.126\n",
      "==============================================================================\n",
      "Omnibus:                        9.481   Durbin-Watson:                   2.004\n",
      "Prob(Omnibus):                  0.009   Jarque-Bera (JB):               10.375\n",
      "Skew:                           0.174   Prob(JB):                      0.00559\n",
      "Kurtosis:                       3.358   Cond. No.                         2.64\n",
      "==============================================================================\n",
      "\n",
      "Notes:\n",
      "[1] Standard Errors assume that the covariance matrix of the errors is correctly specified.\n"
     ]
    }
   ],
   "source": [
    "import statsmodels.formula.api as smf\n",
    "\n",
    "modelo_1 = smf.ols(\"Y ~ D\", data=df).fit()\n",
    "print(modelo_1.summary())"
   ]
  },
  {
   "cell_type": "code",
   "execution_count": 166,
   "id": "94e5fee3-b6d0-4d70-a2da-34e875e0ad2b",
   "metadata": {},
   "outputs": [
    {
     "name": "stdout",
     "output_type": "stream",
     "text": [
      "                            OLS Regression Results                            \n",
      "==============================================================================\n",
      "Dep. Variable:                      Y   R-squared:                       0.539\n",
      "Model:                            OLS   Adj. R-squared:                  0.537\n",
      "Method:                 Least Squares   F-statistic:                     232.6\n",
      "Date:                Sun, 21 Sep 2025   Prob (F-statistic):          2.00e-164\n",
      "Time:                        19:01:09   Log-Likelihood:                -1414.5\n",
      "No. Observations:                1000   AIC:                             2841.\n",
      "Df Residuals:                     994   BIC:                             2870.\n",
      "Df Model:                           5                                         \n",
      "Covariance Type:            nonrobust                                         \n",
      "==============================================================================\n",
      "                 coef    std err          t      P>|t|      [0.025      0.975]\n",
      "------------------------------------------------------------------------------\n",
      "Intercept      0.1215      0.078      1.562      0.119      -0.031       0.274\n",
      "D              1.9966      0.063     31.583      0.000       1.873       2.121\n",
      "X1             0.4253      0.080      5.334      0.000       0.269       0.582\n",
      "X2            -0.3069      0.032     -9.734      0.000      -0.369      -0.245\n",
      "X3             0.2008      0.032      6.372      0.000       0.139       0.263\n",
      "X4             0.0249      0.032      0.776      0.438      -0.038       0.088\n",
      "==============================================================================\n",
      "Omnibus:                        5.301   Durbin-Watson:                   2.017\n",
      "Prob(Omnibus):                  0.071   Jarque-Bera (JB):                5.192\n",
      "Skew:                           0.173   Prob(JB):                       0.0746\n",
      "Kurtosis:                       3.073   Cond. No.                         4.81\n",
      "==============================================================================\n",
      "\n",
      "Notes:\n",
      "[1] Standard Errors assume that the covariance matrix of the errors is correctly specified.\n"
     ]
    }
   ],
   "source": [
    "modelo_2 = smf.ols(\"Y ~ D + X1 + X2 + X3 + X4\", data=df).fit()\n",
    "print(modelo_2.summary())"
   ]
  },
  {
   "cell_type": "code",
   "execution_count": 167,
   "id": "f9e1f4d1-31cd-4302-b167-3c4a62de6390",
   "metadata": {},
   "outputs": [
    {
     "name": "stdout",
     "output_type": "stream",
     "text": [
      "Resultado sin controles: 1.9922215071605707\n",
      "Resultado con controles0: 1.996584404420475\n"
     ]
    }
   ],
   "source": [
    "print(\"Resultado sin controles:\", modelo_1.params['D'])\n",
    "print(\"Resultado con controles0:\", modelo_2.params['D'])"
   ]
  },
  {
   "cell_type": "code",
   "execution_count": 168,
   "id": "f4be5e05-0df0-41d1-b2e2-96d159815598",
   "metadata": {},
   "outputs": [
    {
     "name": "stdout",
     "output_type": "stream",
     "text": [
      "Error Estándar sin controles: 0.06817561208633201\n",
      "Error Estándar con controles: 0.06321753205129464\n"
     ]
    }
   ],
   "source": [
    "print(\"Error Estándar sin controles:\", modelo_1.bse[\"D\"])\n",
    "print(\"Error Estándar con controles:\", modelo_2.bse[\"D\"])"
   ]
  },
  {
   "cell_type": "code",
   "execution_count": 177,
   "id": "52fb6fbf-ffe4-48f6-a524-5d9ecc598fb7",
   "metadata": {},
   "outputs": [],
   "source": [
    "import numpy as np\n",
    "import pandas as pd\n",
    "from sklearn.preprocessing import StandardScaler\n",
    "from sklearn.linear_model import LassoCV\n",
    "import statsmodels.formula.api as smf\n",
    "import statsmodels.api as sm"
   ]
  },
  {
   "cell_type": "code",
   "execution_count": 178,
   "id": "a220a9a1-a44c-4718-83bb-a5c897340caf",
   "metadata": {},
   "outputs": [],
   "source": [
    "X_cov = df[[\"X1\", \"X2\", \"X3\", \"X4\"]].values\n",
    "y = df[\"Y\"].values"
   ]
  },
  {
   "cell_type": "code",
   "execution_count": 179,
   "id": "18afb065-72f2-4efe-b3c8-70f4d85f1d9a",
   "metadata": {},
   "outputs": [],
   "source": [
    "lasso_cv = LassoCV(cv=10, random_state=13).fit(X_cov, y)"
   ]
  },
  {
   "cell_type": "code",
   "execution_count": 180,
   "id": "bb1e90f2-21c6-4c8a-8dd0-4b0365171015",
   "metadata": {},
   "outputs": [
    {
     "name": "stdout",
     "output_type": "stream",
     "text": [
      "Coeficientes estimados por LASSO:\n",
      " X1    0.4349\n",
      "X2   -0.2924\n",
      "X3    0.1736\n",
      "X4   -0.0000\n",
      "dtype: float64\n"
     ]
    }
   ],
   "source": [
    "coeficientes = pd.Series(lasso_cv.coef_, index=[\"X1\", \"X2\", \"X3\", \"X4\"])\n",
    "print(\"Coeficientes estimados por LASSO:\\n\", coeficientes)"
   ]
  },
  {
   "cell_type": "code",
   "execution_count": 182,
   "id": "0a7c79b7-365b-42f4-9ace-5ae948317731",
   "metadata": {},
   "outputs": [
    {
     "name": "stdout",
     "output_type": "stream",
     "text": [
      "\n",
      "Covariables seleccionadas en λmin: [0.43492315347324095, -0.2923939740465069, 0.17356667177108615]\n"
     ]
    }
   ],
   "source": [
    "seleccionadas = coeficientes[coeficientes != 0].values.tolist()\n",
    "print(\"\\nCovariables seleccionadas en λmin:\", seleccionadas)"
   ]
  },
  {
   "cell_type": "code",
   "execution_count": null,
   "id": "f2ec7c98-1fbf-48dd-9744-e769125c52f4",
   "metadata": {},
   "outputs": [],
   "source": []
  }
 ],
 "metadata": {
  "kernelspec": {
   "display_name": "Python [conda env:base] *",
   "language": "python",
   "name": "conda-base-py"
  },
  "language_info": {
   "codemirror_mode": {
    "name": "ipython",
    "version": 3
   },
   "file_extension": ".py",
   "mimetype": "text/x-python",
   "name": "python",
   "nbconvert_exporter": "python",
   "pygments_lexer": "ipython3",
   "version": "3.13.5"
  }
 },
 "nbformat": 4,
 "nbformat_minor": 5
}

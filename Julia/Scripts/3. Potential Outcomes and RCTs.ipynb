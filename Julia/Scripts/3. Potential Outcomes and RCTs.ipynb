{
 "cells": [
  {
   "cell_type": "markdown",
   "id": "1b480320-bffe-4a4a-bff7-1f2ea8850cb5",
   "metadata": {
    "execution": {
     "iopub.execute_input": "2025-09-19T06:35:01.9Z",
     "iopub.status.busy": "2025-09-19T06:35:01.899Z"
    }
   },
   "source": [
    "# 1) Data Simulation (3 points)\n"
   ]
  },
  {
   "cell_type": "code",
   "execution_count": 6,
   "id": "e47edab0-78fd-4e51-bef4-3095ee3e13e4",
   "metadata": {
    "execution": {
     "iopub.execute_input": "2025-09-19T06:52:46.553Z",
     "iopub.status.busy": "2025-09-19T06:52:46.553Z",
     "iopub.status.idle": "2025-09-19T06:53:03.723Z",
     "shell.execute_reply": "2025-09-19T06:53:03.723Z"
    }
   },
   "outputs": [
    {
     "name": "stderr",
     "output_type": "stream",
     "text": [
      "\u001b[36m\u001b[1m[ \u001b[22m\u001b[39m\u001b[36m\u001b[1mInfo: \u001b[22m\u001b[39mPrecompiling CSV [336ed68f-0bac-5ca0-87d4-7b16caf5d00b] (cache misses: wrong dep version loaded (2))\n"
     ]
    },
    {
     "name": "stdout",
     "output_type": "stream",
     "text": [
      "== Group means ==\n",
      "\u001b[1m2×5 DataFrame\u001b[0m\n",
      "\u001b[1m Row \u001b[0m│\u001b[1m D     \u001b[0m\u001b[1m X1_mean    \u001b[0m\u001b[1m X2_mean \u001b[0m\u001b[1m X3_mean  \u001b[0m\u001b[1m X4_mean    \u001b[0m\n",
      "     │\u001b[90m Bool  \u001b[0m\u001b[90m Float64    \u001b[0m\u001b[90m Float64 \u001b[0m\u001b[90m Float64  \u001b[0m\u001b[90m Float64    \u001b[0m\n",
      "─────┼──────────────────────────────────────────────────\n",
      "   1 │ false  -0.0638543  1.99191  0.369072  0.00625674\n",
      "   2 │  true  -0.0370065  2.04436  0.35534   0.018983\n",
      "\n",
      "== Balance by Welch t-test ==\n",
      "\u001b[1m4×6 DataFrame\u001b[0m\n",
      "\u001b[1m Row \u001b[0m│\u001b[1m Covariate \u001b[0m\u001b[1m Mean_Treated \u001b[0m\u001b[1m Mean_Control \u001b[0m\u001b[1m Difference \u001b[0m\u001b[1m t_stat    \u001b[0m\u001b[1m p_value  \u001b[0m\n",
      "     │\u001b[90m String    \u001b[0m\u001b[90m Float64      \u001b[0m\u001b[90m Float64      \u001b[0m\u001b[90m Float64    \u001b[0m\u001b[90m Float64   \u001b[0m\u001b[90m Float64  \u001b[0m\n",
      "─────┼────────────────────────────────────────────────────────────────────────\n",
      "   1 │ X1           -0.0370065   -0.0638543    0.0268478   0.42936   0.667755\n",
      "   2 │ X2            2.04436      1.99191      0.0524445   0.830258  0.406592\n",
      "   3 │ X3            0.35534      0.369072    -0.0137324  -0.451083  0.652028\n",
      "Files exported to: C:\\Users\\User\\Desktop\\Lasso_Potential_Outcomes_RCTs\\Julia\\Output\n"
     ]
    }
   ],
   "source": [
    "using Random, Distributions, DataFrames, HypothesisTests, Statistics, CSV\n",
    "\n",
    "# ------------------------------------------------------------\n",
    "# (2 pts) Simulate n=1000 with X1..X4, D~Bernoulli(0.5), eps~N(0,1)\n",
    "Random.seed!(123)\n",
    "n = 1000\n",
    "\n",
    "X1 = rand(Normal(0,1), n)                # continuous\n",
    "X2 = rand(Normal(2,1), n)                # continuous\n",
    "X3 = rand(Bernoulli(0.4), n)             # binary\n",
    "X4 = rand(Uniform(-1,1), n)              # continuous\n",
    "\n",
    "D  = rand(Bernoulli(0.5), n)             # treatment\n",
    "ϵ  = rand(Normal(0,1), n)\n",
    "\n",
    "Y = 2 .* D .+ 0.5 .* X1 .- 0.3 .* X2 .+ 0.2 .* X3 .+ ϵ\n",
    "\n",
    "df = DataFrame(Y=Y, D=D, X1=X1, X2=X2, X3=X3, X4=X4)\n",
    "\n",
    "# ------------------------------------------------------------\n",
    "# (1 pt) Balance check: group means and Welch t-tests\n",
    "covs = [:X1, :X2, :X3, :X4]\n",
    "\n",
    "println(\"== Group means ==\")\n",
    "group_means = combine(groupby(df, :D), covs .=> mean)\n",
    "show(group_means, allrows=true, allcols=true)\n",
    "\n",
    "println(\"\\n\\n== Balance by Welch t-test ==\")\n",
    "results = DataFrame(\n",
    "    Covariate     = String[],\n",
    "    Mean_Treated  = Float64[],\n",
    "    Mean_Control  = Float64[],\n",
    "    Difference    = Float64[],\n",
    "    t_stat        = Float64[],\n",
    "    p_value       = Float64[]\n",
    ")\n",
    "\n",
    "for v in covs\n",
    "    a = df[df.D .== 1, v]\n",
    "    b = df[df.D .== 0, v]\n",
    "    test = UnequalVarianceTTest(a, b)\n",
    "    push!(results, (\n",
    "        string(v),\n",
    "        mean(a),\n",
    "        mean(b),\n",
    "        mean(a) - mean(b),\n",
    "        Statistics.mean(test.t),\n",
    "        pvalue(test)\n",
    "    ))\n",
    "end\n",
    "\n",
    "show(results, allrows=true, allcols=true)\n",
    "\n",
    "# ------------------------------------------------------------\n",
    "# Export to Output folder\n",
    "out_dir = raw\"C:\\Users\\User\\Desktop\\Lasso_Potential_Outcomes_RCTs\\Julia\\Output\"\n",
    "CSV.write(joinpath(out_dir, \"simulated_data.csv\"), df)\n",
    "CSV.write(joinpath(out_dir, \"group_means.csv\"), group_means)\n",
    "\n",
    "println(\"Files exported to: \", out_dir)\n",
    "\n"
   ]
  },
  {
   "cell_type": "markdown",
   "id": "f86765f5-28a8-4922-9aad-fb69f299b9cf",
   "metadata": {
    "execution": {
     "iopub.execute_input": "2025-09-18T20:59:44.456Z",
     "iopub.status.busy": "2025-09-18T20:59:44.456Z",
     "iopub.status.idle": "2025-09-18T20:59:55.483Z",
     "shell.execute_reply": "2025-09-18T20:59:55.483Z"
    }
   },
   "source": [
    "# 2) Estimating the Average Treatment Effect (3 points)\n"
   ]
  },
  {
   "cell_type": "code",
   "execution_count": 9,
   "id": "4200774d-7275-4647-a2f5-13a83ff80e55",
   "metadata": {
    "execution": {
     "iopub.execute_input": "2025-09-19T06:54:19.155Z",
     "iopub.status.busy": "2025-09-19T06:54:19.155Z",
     "iopub.status.idle": "2025-09-19T06:54:29.827Z",
     "shell.execute_reply": "2025-09-19T06:54:29.827Z"
    }
   },
   "outputs": [
    {
     "name": "stdout",
     "output_type": "stream",
     "text": [
      "== 3.2.1 Simple ATE: Y ~ D ==\n",
      "ATE: 1.9732  SE: 0.072  95% CI: [1.8321, 2.1142]  p=0.0\n",
      "\n",
      "== 3.2.2 ATE with controls ==\n",
      "ATE: 1.9787  SE: 0.0626  95% CI: [1.8559, 2.1014]  p=0.0\n",
      "\n",
      "== 3.2.3 Comparison ==\n",
      "Change in ATE (controls - simple): 0.0055\n",
      "Change in SE: -0.0093   Ratio SE (ctrl/simple): 0.87\n"
     ]
    }
   ],
   "source": [
    "using DataFrames, GLM, StatsModels, Statistics, Distributions\n",
    "\n",
    "# (1 pt) Simple ATE: Y ~ D\n",
    "m_simple = lm(@formula(Y ~ D), df)\n",
    "βs = coef(m_simple); se_s = stderror(m_simple)\n",
    "ate_simple = βs[2]; se_simple = se_s[2]\n",
    "t_simple = ate_simple / se_simple\n",
    "p_simple = 2 * (1 - cdf(TDist(dof_residual(m_simple)), abs(t_simple)))\n",
    "ci_simple = ate_simple .+ [-1, 1] .* 1.96 .* se_simple\n",
    "\n",
    "println(\"== 3.2.1 Simple ATE: Y ~ D ==\")\n",
    "println(\"ATE: $(round(ate_simple, digits=4))  SE: $(round(se_simple, digits=4))  \",\n",
    "        \"95% CI: [$(round(ci_simple[1], digits=4)), $(round(ci_simple[2], digits=4))]  p=$(round(p_simple, sigdigits=4))\")\n",
    "\n",
    "# (1 pt) ATE with controls: Y ~ D + X1 + X2 + X3 + X4\n",
    "m_ctrl = lm(@formula(Y ~ D + X1 + X2 + X3 + X4), df)\n",
    "βc = coef(m_ctrl); se_c = stderror(m_ctrl)\n",
    "ate_ctrl = βc[2]; se_ctrl = se_c[2]\n",
    "t_ctrl = ate_ctrl / se_ctrl\n",
    "p_ctrl = 2 * (1 - cdf(TDist(dof_residual(m_ctrl)), abs(t_ctrl)))\n",
    "ci_ctrl = ate_ctrl .+ [-1, 1] .* 1.96 .* se_ctrl\n",
    "\n",
    "println(\"\\n== 3.2.2 ATE with controls ==\")\n",
    "println(\"ATE: $(round(ate_ctrl, digits=4))  SE: $(round(se_ctrl, digits=4))  \",\n",
    "        \"95% CI: [$(round(ci_ctrl[1], digits=4)), $(round(ci_ctrl[2], digits=4))]  p=$(round(p_ctrl, sigdigits=4))\")\n",
    "\n",
    "# (1 pt) Comparison\n",
    "delta_ate = ate_ctrl - ate_simple\n",
    "delta_se  = se_ctrl - se_simple\n",
    "ratio_se  = se_ctrl / se_simple\n",
    "\n",
    "println(\"\\n== 3.2.3 Comparison ==\")\n",
    "println(\"Change in ATE (controls - simple): $(round(delta_ate, digits=4))\")\n",
    "println(\"Change in SE: $(round(delta_se, digits=4))   Ratio SE (ctrl/simple): $(round(ratio_se, digits=3))\")\n"
   ]
  },
  {
   "cell_type": "markdown",
   "id": "a4c0a80c-b2c3-42b7-a50a-2797f6cace57",
   "metadata": {},
   "source": [
    "# 3) Lasso and Variable Selection (3 points)"
   ]
  },
  {
   "cell_type": "code",
   "execution_count": 14,
   "id": "14bb8b1b-5879-49c4-ba59-11fa0681e11e",
   "metadata": {
    "execution": {
     "iopub.execute_input": "2025-09-19T06:57:11.773Z",
     "iopub.status.busy": "2025-09-19T06:57:11.772Z",
     "iopub.status.idle": "2025-09-19T06:57:11.781Z",
     "shell.execute_reply": "2025-09-19T06:57:11.781Z"
    }
   },
   "outputs": [
    {
     "name": "stdout",
     "output_type": "stream",
     "text": [
      "λ_min = 0.0017969759447506045\n",
      "Intercept = 0.9745614130239888\n",
      "Coefficients of X = [0.49200329777780993, -0.26205053398858535, 0.23909950187581056, 0.0583239265964184]\n",
      "Selected covariates: [:X1, :X2, :X3, :X4]\n"
     ]
    }
   ],
   "source": [
    "using GLMNet, Random, Distributions\n",
    "\n",
    "# ---------- 3.3.1 LASSO for variable selection ----------\n",
    "# Covariate matrix (excluding D)\n",
    "X = Matrix(select(df, [:X1, :X2, :X3, :X4]))\n",
    "y = df.Y\n",
    "\n",
    "# Fit with cross-validation\n",
    "Random.seed!(123)\n",
    "cv = glmnetcv(X, y, Normal(); alpha=1)\n",
    "\n",
    "# Locate the index of lambda that minimizes error\n",
    "j     = argmin(cv.meanloss)\n",
    "λ_min = cv.lambda[j]\n",
    "\n",
    "# Coefficients at that lambda\n",
    "βx = cv.path.betas[:, j]   # coefficients for X1..X4\n",
    "β0 = cv.path.a0[j]         # intercept\n",
    "\n",
    "# Selected variables (nonzero coefficients)\n",
    "selected_idx  = findall(abs.(βx) .> 1e-6)\n",
    "selected_vars = [:X1, :X2, :X3, :X4][selected_idx]\n",
    "\n",
    "println(\"λ_min = \", λ_min)\n",
    "println(\"Intercept = \", β0)\n",
    "println(\"Coefficients of X = \", βx)\n",
    "println(\"Selected covariates: \", selected_vars)\n",
    "\n"
   ]
  },
  {
   "cell_type": "code",
   "execution_count": 16,
   "id": "2f2ffe6c-3046-495c-a57e-f31be2f5e8b0",
   "metadata": {
    "execution": {
     "iopub.execute_input": "2025-09-19T06:57:31.619Z",
     "iopub.status.busy": "2025-09-19T06:57:31.619Z",
     "iopub.status.idle": "2025-09-19T06:57:31.84Z",
     "shell.execute_reply": "2025-09-19T06:57:31.84Z"
    }
   },
   "outputs": [
    {
     "name": "stdout",
     "output_type": "stream",
     "text": [
      "== 3.3.2 ATE with selected covariates ==\n",
      "Formula: Y ~ D + X1 + X2 + X3 + X4\n",
      "ATE: 1.9787   SE: 0.0626   95% CI: [1.8559, 2.1014]   p=0.0\n"
     ]
    }
   ],
   "source": [
    "using DataFrames, GLM, StatsModels, Distributions, Statistics\n",
    "\n",
    "# ---------- 3.3.2 Re-estimate ATE with selected covariates ----------\n",
    "# Assumes `selected_vars` from 3.3.1 already exists (Vector{Symbol})\n",
    "\n",
    "rhs = Term(:D)\n",
    "if !isempty(selected_vars)\n",
    "    for s in selected_vars\n",
    "        rhs = rhs + Term(s)\n",
    "    end\n",
    "end\n",
    "fmla = Term(:Y) ~ rhs\n",
    "\n",
    "m_sel = lm(fmla, df)\n",
    "\n",
    "# Extract coefficient of D\n",
    "names_coefs = coefnames(m_sel)\n",
    "posD = findfirst(==(\"D\"), names_coefs)\n",
    "\n",
    "β    = coef(m_sel)\n",
    "se   = stderror(m_sel)\n",
    "\n",
    "ate_sel = β[posD]\n",
    "se_sel  = se[posD]\n",
    "\n",
    "t_sel  = ate_sel / se_sel\n",
    "p_sel  = 2 * (1 - cdf(TDist(dof_residual(m_sel)), abs(t_sel)))\n",
    "ci_sel = ate_sel .+ [-1, 1] .* 1.96 .* se_sel\n",
    "\n",
    "println(\"== 3.3.2 ATE with selected covariates ==\")\n",
    "println(\"Formula: \", fmla)\n",
    "println(\"ATE: \", round(ate_sel, digits=4),\n",
    "        \"   SE: \", round(se_sel, digits=4),\n",
    "        \"   95% CI: [\", round(ci_sel[1], digits=4), \", \", round(ci_sel[2], digits=4), \"]\",\n",
    "        \"   p=\", round(p_sel, sigdigits=4))\n",
    "\n"
   ]
  },
  {
   "cell_type": "code",
   "execution_count": 18,
   "id": "aa33ae26-35c6-4df5-a888-60ed20f7730f",
   "metadata": {
    "execution": {
     "iopub.execute_input": "2025-09-19T06:57:46.811Z",
     "iopub.status.busy": "2025-09-19T06:57:46.811Z",
     "iopub.status.idle": "2025-09-19T06:57:46.816Z",
     "shell.execute_reply": "2025-09-19T06:57:46.816Z"
    }
   },
   "outputs": [
    {
     "name": "stdout",
     "output_type": "stream",
     "text": [
      "\n",
      "== 3.3.3 Comparison ==\n",
      "Simple ATE (Y~D): 1.9732\n",
      "ATE with controls (Y~D+X1+X2+X3+X4): 1.9787\n",
      "ATE with LASSO-selected covariates: 1.9787\n",
      "\n",
      "Discussion:\n",
      "- The LASSO estimator is usually close to the ATE with all controls,\n",
      "  but it reduces dimensionality by removing less relevant covariates.\n",
      "- It can improve precision (lower variance) and avoid overfitting,\n",
      "  especially in contexts with many covariates.\n",
      "- In this case, since D is randomized, the three estimates are similar,\n",
      "  but LASSO is useful if the number of covariates were large.\n"
     ]
    }
   ],
   "source": [
    "# ---------- 3.3.3 Comparison with 3.2 ----------\n",
    "println(\"\\n== 3.3.3 Comparison ==\")\n",
    "println(\"Simple ATE (Y~D): \", round(ate_simple, digits=4))\n",
    "println(\"ATE with controls (Y~D+X1+X2+X3+X4): \", round(ate_ctrl, digits=4))\n",
    "println(\"ATE with LASSO-selected covariates: \", round(ate_sel, digits=4))\n",
    "\n",
    "println(\"\\nDiscussion:\")\n",
    "println(\"- The LASSO estimator is usually close to the ATE with all controls,\")\n",
    "println(\"  but it reduces dimensionality by removing less relevant covariates.\")\n",
    "println(\"- It can improve precision (lower variance) and avoid overfitting,\")\n",
    "println(\"  especially in contexts with many covariates.\")\n",
    "println(\"- In this case, since D is randomized, the three estimates are similar,\")\n",
    "println(\"  but LASSO is useful if the number of covariates were large.\")\n"
   ]
  },
  {
   "cell_type": "code",
   "execution_count": null,
   "id": "a4df9aae-cd22-45c1-9994-f41bb3e81d5e",
   "metadata": {},
   "outputs": [],
   "source": []
  }
 ],
 "metadata": {
  "kernelspec": {
   "display_name": "Julia 1.11.6",
   "language": "julia",
   "name": "julia-1.11"
  },
  "language_info": {
   "file_extension": ".jl",
   "mimetype": "application/julia",
   "name": "julia",
   "version": "1.11.6"
  }
 },
 "nbformat": 4,
 "nbformat_minor": 5
}

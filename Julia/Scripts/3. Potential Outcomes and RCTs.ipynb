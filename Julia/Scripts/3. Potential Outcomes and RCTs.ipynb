{
 "cells": [
  {
   "cell_type": "code",
   "execution_count": 1,
   "id": "1f17b984-6941-4ca5-8764-f97a1230f240",
   "metadata": {
    "execution": {
     "iopub.execute_input": "2025-09-18T03:20:20.212Z",
     "iopub.status.busy": "2025-09-18T03:20:19.636Z",
     "iopub.status.idle": "2025-09-18T03:20:27.029Z",
     "shell.execute_reply": "2025-09-18T03:20:26.98Z"
    }
   },
   "outputs": [
    {
     "name": "stdout",
     "output_type": "stream",
     "text": [
      "== Medias por grupo ==\n",
      "\u001b[1m2×5 DataFrame\u001b[0m\n",
      "\u001b[1m Row \u001b[0m│\u001b[1m D     \u001b[0m\u001b[1m X1_mean    \u001b[0m\u001b[1m X2_mean \u001b[0m\u001b[1m X3_mean  \u001b[0m\u001b[1m X4_mean    \u001b[0m\n",
      "     │\u001b[90m Bool  \u001b[0m\u001b[90m Float64    \u001b[0m\u001b[90m Float64 \u001b[0m\u001b[90m Float64  \u001b[0m\u001b[90m Float64    \u001b[0m\n",
      "─────┼──────────────────────────────────────────────────\n",
      "   1 │ false  -0.0638543  1.99191  0.369072  0.00625674\n",
      "   2 │  true  -0.0370065  2.04436  0.35534   0.018983\n",
      "\n",
      "== Balance por t-test (Welch) ==\n",
      "\u001b[1m4×6 DataFrame\u001b[0m\n",
      "\u001b[1m Row \u001b[0m│\u001b[1m Covariable \u001b[0m\u001b[1m Media_Tratado \u001b[0m\u001b[1m Media_Control \u001b[0m\u001b[1m Diferencia \u001b[0m\u001b[1m t_stat    \u001b[0m\u001b[1m p_valor  \u001b[0m\n",
      "     │\u001b[90m String     \u001b[0m\u001b[90m Float64       \u001b[0m\u001b[90m Float64       \u001b[0m\u001b[90m Float64    \u001b[0m\u001b[90m Float64   \u001b[0m\u001b[90m Float64  \u001b[0m\n",
      "─────┼───────────────────────────────────────────────────────────────────────────\n",
      "   1 │ X1             -0.0370065    -0.0638543    0.0268478   0.42936   0.667755\n",
      "   2 │ X2              2.04436       1.99191      0.0524445   0.830258  0.406592\n",
      "   3 │ X3              0.35534       0.369072    -0.0137324  -0.451083  0.652028\n",
      "   4 │ X4              0.018983      0.00625674   0.0127263   0.344732  0.730368"
     ]
    }
   ],
   "source": [
    "# 3.1 DATA SIMULATION (3 puntos) — Julia\n",
    "# ------------------------------------------------------------\n",
    "using Random, Distributions, DataFrames, HypothesisTests, Statistics\n",
    "\n",
    "# (2 pts) Simular n=1000 con X1..X4, D~Bernoulli(0.5), eps~N(0,1)\n",
    "Random.seed!(123)\n",
    "n = 1000\n",
    "\n",
    "X1 = rand(Normal(0,1), n)                # continuo\n",
    "X2 = rand(Normal(2,1), n)                # continuo\n",
    "X3 = rand(Bernoulli(0.4), n)             # binario\n",
    "X4 = rand(Uniform(-1,1), n)              # continuo\n",
    "\n",
    "D  = rand(Bernoulli(0.5), n)             # tratamiento\n",
    "ϵ  = rand(Normal(0,1), n)\n",
    "\n",
    "Y = 2 .* D .+ 0.5 .* X1 .- 0.3 .* X2 .+ 0.2 .* X3 .+ ϵ\n",
    "\n",
    "df = DataFrame(Y=Y, D=D, X1=X1, X2=X2, X3=X3, X4=X4)\n",
    "\n",
    "# ------------------------------------------------------------\n",
    "# (1 pt) Balance check: medias por grupo y t-tests Welch\n",
    "covs = [:X1, :X2, :X3, :X4]\n",
    "\n",
    "println(\"== Medias por grupo ==\")\n",
    "group_means = combine(groupby(df, :D), covs .=> mean)\n",
    "show(group_means, allrows=true, allcols=true)\n",
    "\n",
    "println(\"\\n\\n== Balance por t-test (Welch) ==\")\n",
    "results = DataFrame(\n",
    "    Covariable = String[],\n",
    "    Media_Tratado = Float64[],\n",
    "    Media_Control = Float64[],\n",
    "    Diferencia = Float64[],\n",
    "    t_stat = Float64[],\n",
    "    p_valor = Float64[]\n",
    ")\n",
    "\n",
    "for v in covs\n",
    "    a = df[df.D .== 1, v]\n",
    "    b = df[df.D .== 0, v]\n",
    "    test = UnequalVarianceTTest(a, b)\n",
    "    push!(results, (\n",
    "        string(v),\n",
    "        mean(a),\n",
    "        mean(b),\n",
    "        mean(a) - mean(b),\n",
    "        Statistics.mean(test.t),   # valor t\n",
    "        pvalue(test)               # valor p\n",
    "    ))\n",
    "end\n",
    "\n",
    "show(results, allrows=true, allcols=true)\n"
   ]
  },
  {
   "cell_type": "code",
   "execution_count": 3,
   "id": "e3efd9ca-6586-4ddb-b7c8-31e154fc55f9",
   "metadata": {
    "execution": {
     "iopub.execute_input": "2025-09-18T03:21:58.478Z",
     "iopub.status.busy": "2025-09-18T03:21:58.478Z",
     "iopub.status.idle": "2025-09-18T03:22:08.391Z",
     "shell.execute_reply": "2025-09-18T03:22:08.39Z"
    }
   },
   "outputs": [
    {
     "name": "stdout",
     "output_type": "stream",
     "text": [
      "== 3.2.1 ATE simple: Y ~ D ==\n",
      "ATE: 1.9732  SE: 0.072  95% CI: [1.8321, 2.1142]  p=0.0\n",
      "\n",
      "== 3.2.2 ATE con controles ==\n",
      "ATE: 1.9787  SE: 0.0626  95% CI: [1.8559, 2.1014]  p=0.0\n",
      "\n",
      "== 3.2.3 Comparación ==\n",
      "Cambio en ATE (controles - simple): 0.0055\n",
      "Cambio en SE: -0.0093   Ratio SE (ctrl/simple): 0.87\n",
      "Nota: En un RCT balanceado, el ATE cambia poco; agregar controles predictivos reduce varianza.\n"
     ]
    }
   ],
   "source": [
    "# 3.2 ESTIMATING THE AVERAGE TREATMENT EFFECT (3 puntos) — Julia\n",
    "\n",
    "using DataFrames, GLM, StatsModels, Statistics, Distributions\n",
    "\n",
    "# (1 pt) ATE simple: Y ~ D\n",
    "m_simple = lm(@formula(Y ~ D), df)\n",
    "βs = coef(m_simple); se_s = stderror(m_simple)\n",
    "ate_simple = βs[2]; se_simple = se_s[2]\n",
    "t_simple = ate_simple / se_simple\n",
    "p_simple = 2 * (1 - cdf(TDist(dof_residual(m_simple)), abs(t_simple)))\n",
    "ci_simple = ate_simple .+ [-1, 1] .* 1.96 .* se_simple\n",
    "\n",
    "println(\"== 3.2.1 ATE simple: Y ~ D ==\")\n",
    "println(\"ATE: $(round(ate_simple, digits=4))  SE: $(round(se_simple, digits=4))  \",\n",
    "        \"95% CI: [$(round(ci_simple[1], digits=4)), $(round(ci_simple[2], digits=4))]  p=$(round(p_simple, sigdigits=4))\")\n",
    "\n",
    "# (1 pt) ATE con controles: Y ~ D + X1 + X2 + X3 + X4\n",
    "m_ctrl = lm(@formula(Y ~ D + X1 + X2 + X3 + X4), df)\n",
    "βc = coef(m_ctrl); se_c = stderror(m_ctrl)\n",
    "ate_ctrl = βc[2]; se_ctrl = se_c[2]\n",
    "t_ctrl = ate_ctrl / se_ctrl\n",
    "p_ctrl = 2 * (1 - cdf(TDist(dof_residual(m_ctrl)), abs(t_ctrl)))\n",
    "ci_ctrl = ate_ctrl .+ [-1, 1] .* 1.96 .* se_ctrl\n",
    "\n",
    "println(\"\\n== 3.2.2 ATE con controles ==\")\n",
    "println(\"ATE: $(round(ate_ctrl, digits=4))  SE: $(round(se_ctrl, digits=4))  \",\n",
    "        \"95% CI: [$(round(ci_ctrl[1], digits=4)), $(round(ci_ctrl[2], digits=4))]  p=$(round(p_ctrl, sigdigits=4))\")\n",
    "\n",
    "# (1 pt) Comparación\n",
    "delta_ate = ate_ctrl - ate_simple\n",
    "delta_se  = se_ctrl - se_simple\n",
    "ratio_se  = se_ctrl / se_simple\n",
    "\n",
    "println(\"\\n== 3.2.3 Comparación ==\")\n",
    "println(\"Cambio en ATE (controles - simple): $(round(delta_ate, digits=4))\")\n",
    "println(\"Cambio en SE: $(round(delta_se, digits=4))   Ratio SE (ctrl/simple): $(round(ratio_se, digits=3))\")\n",
    "\n",
    "\n"
   ]
  },
  {
   "cell_type": "code",
   "execution_count": 33,
   "id": "ec05e414-0ff5-4ee9-8dd8-58203f3f2b12",
   "metadata": {
    "execution": {
     "iopub.execute_input": "2025-09-18T04:28:19.966Z",
     "iopub.status.busy": "2025-09-18T04:28:19.966Z",
     "iopub.status.idle": "2025-09-18T04:29:26.92Z",
     "shell.execute_reply": "2025-09-18T04:29:26.92Z"
    }
   },
   "outputs": [
    {
     "name": "stderr",
     "output_type": "stream",
     "text": [
      "\u001b[32m\u001b[1m   Resolving\u001b[22m\u001b[39m package versions...\n",
      "\u001b[32m\u001b[1m   Installed\u001b[22m\u001b[39m CodecBzip2 ─────────── v0.8.5\n",
      "\u001b[32m\u001b[1m   Installed\u001b[22m\u001b[39m CommonSubexpressions ─ v0.3.1\n",
      "\u001b[32m\u001b[1m   Installed\u001b[22m\u001b[39m BenchmarkTools ─────── v1.6.0\n",
      "\u001b[32m\u001b[1m   Installed\u001b[22m\u001b[39m StructTypes ────────── v1.11.0\n",
      "\u001b[32m\u001b[1m   Installed\u001b[22m\u001b[39m MutableArithmetics ─── v1.6.4\n",
      "\u001b[32m\u001b[1m   Installed\u001b[22m\u001b[39m AMD ────────────────── v0.5.3\n",
      "\u001b[32m\u001b[1m   Installed\u001b[22m\u001b[39m Convex ─────────────── v0.16.4\n",
      "\u001b[32m\u001b[1m   Installed\u001b[22m\u001b[39m DiffRules ──────────── v1.15.1\n",
      "\u001b[32m\u001b[1m   Installed\u001b[22m\u001b[39m DiffResults ────────── v1.1.0\n",
      "\u001b[32m\u001b[1m   Installed\u001b[22m\u001b[39m MathOptInterface ───── v1.44.0\n",
      "\u001b[32m\u001b[1m   Installed\u001b[22m\u001b[39m JSON3 ──────────────── v1.14.3\n",
      "\u001b[32m\u001b[1m   Installed\u001b[22m\u001b[39m AbstractTrees ──────── v0.4.5\n",
      "\u001b[32m\u001b[1m   Installed\u001b[22m\u001b[39m ForwardDiff ────────── v1.2.1\n",
      "\u001b[32m\u001b[1m   Installed\u001b[22m\u001b[39m LDLFactorizations ──── v0.10.1\n",
      "\u001b[32m\u001b[1m    Updating\u001b[22m\u001b[39m `C:\\Users\\User\\.julia\\environments\\v1.11\\Project.toml`\n",
      "  \u001b[90m[f65535da] \u001b[39m\u001b[92m+ Convex v0.16.4\u001b[39m\n",
      "\u001b[32m\u001b[1m    Updating\u001b[22m\u001b[39m `C:\\Users\\User\\.julia\\environments\\v1.11\\Manifest.toml`\n",
      "  \u001b[90m[14f7f29c] \u001b[39m\u001b[92m+ AMD v0.5.3\u001b[39m\n",
      "  \u001b[90m[1520ce14] \u001b[39m\u001b[92m+ AbstractTrees v0.4.5\u001b[39m\n",
      "  \u001b[90m[6e4b80f9] \u001b[39m\u001b[92m+ BenchmarkTools v1.6.0\u001b[39m\n",
      "  \u001b[90m[523fee87] \u001b[39m\u001b[92m+ CodecBzip2 v0.8.5\u001b[39m\n",
      "  \u001b[90m[bbf7d656] \u001b[39m\u001b[92m+ CommonSubexpressions v0.3.1\u001b[39m\n",
      "  \u001b[90m[f65535da] \u001b[39m\u001b[92m+ Convex v0.16.4\u001b[39m\n",
      "  \u001b[90m[163ba53b] \u001b[39m\u001b[92m+ DiffResults v1.1.0\u001b[39m\n",
      "  \u001b[90m[b552c78f] \u001b[39m\u001b[92m+ DiffRules v1.15.1\u001b[39m\n",
      "  \u001b[90m[f6369f11] \u001b[39m\u001b[92m+ ForwardDiff v1.2.1\u001b[39m\n",
      "  \u001b[90m[0f8b85d8] \u001b[39m\u001b[92m+ JSON3 v1.14.3\u001b[39m\n",
      "  \u001b[90m[40e66cde] \u001b[39m\u001b[92m+ LDLFactorizations v0.10.1\u001b[39m\n",
      "  \u001b[90m[b8f27783] \u001b[39m\u001b[92m+ MathOptInterface v1.44.0\u001b[39m\n",
      "  \u001b[90m[d8a4904e] \u001b[39m\u001b[92m+ MutableArithmetics v1.6.4\u001b[39m\n",
      "  \u001b[90m[856f2bd8] \u001b[39m\u001b[92m+ StructTypes v1.11.0\u001b[39m\n",
      "  \u001b[90m[9abbd945] \u001b[39m\u001b[92m+ Profile v1.11.0\u001b[39m\n",
      "\u001b[92m\u001b[1mPrecompiling\u001b[22m\u001b[39m project...\n",
      "   1070.7 ms\u001b[32m  ✓ \u001b[39m\u001b[90mAbstractTrees\u001b[39m\n",
      "   1075.5 ms\u001b[32m  ✓ \u001b[39m\u001b[90mAMD\u001b[39m\n",
      "    905.8 ms\u001b[32m  ✓ \u001b[39m\u001b[90mDiffRules\u001b[39m\n",
      "   1060.4 ms\u001b[32m  ✓ \u001b[39m\u001b[90mStructTypes\u001b[39m\n",
      "    813.2 ms\u001b[32m  ✓ \u001b[39m\u001b[90mDiffResults\u001b[39m\n",
      "    994.6 ms\u001b[32m  ✓ \u001b[39m\u001b[90mCommonSubexpressions\u001b[39m\n",
      "   1022.0 ms\u001b[32m  ✓ \u001b[39m\u001b[90mCodecBzip2\u001b[39m\n",
      "   1294.4 ms\u001b[32m  ✓ \u001b[39m\u001b[90mBenchmarkTools\u001b[39m\n",
      "    703.3 ms\u001b[32m  ✓ \u001b[39m\u001b[90mLDLFactorizations\u001b[39m\n",
      "    686.3 ms\u001b[32m  ✓ \u001b[39mCategoricalArrays → CategoricalArraysStructTypesExt\n",
      "   2538.2 ms\u001b[32m  ✓ \u001b[39m\u001b[90mForwardDiff\u001b[39m\n",
      "   4412.7 ms\u001b[32m  ✓ \u001b[39m\u001b[90mMutableArithmetics\u001b[39m\n",
      "    760.3 ms\u001b[32m  ✓ \u001b[39m\u001b[90mRoots → RootsForwardDiffExt\u001b[39m\n",
      "    840.8 ms\u001b[32m  ✓ \u001b[39m\u001b[90mUnitful → ForwardDiffExt\u001b[39m\n",
      "    921.8 ms\u001b[32m  ✓ \u001b[39m\u001b[90mForwardDiff → ForwardDiffStaticArraysExt\u001b[39m\n",
      "   1094.8 ms\u001b[32m  ✓ \u001b[39m\u001b[90mPolynomials → PolynomialsMutableArithmeticsExt\u001b[39m\n",
      "   5933.4 ms\u001b[32m  ✓ \u001b[39m\u001b[90mJSON3\u001b[39m\n",
      "  37000.0 ms\u001b[32m  ✓ \u001b[39m\u001b[90mMathOptInterface\u001b[39m\n",
      "   2843.8 ms\u001b[32m  ✓ \u001b[39mConvex\n",
      "  19 dependencies successfully precompiled in 49 seconds. 320 already precompiled.\n"
     ]
    }
   ],
   "source": [
    "import Pkg; Pkg.add(\"Convex\")"
   ]
  },
  {
   "cell_type": "code",
   "execution_count": 39,
   "id": "6dd33e33-ba30-487d-9184-5b3605ab38c2",
   "metadata": {
    "execution": {
     "iopub.execute_input": "2025-09-18T04:30:43.49Z",
     "iopub.status.busy": "2025-09-18T04:30:43.49Z",
     "iopub.status.idle": "2025-09-18T04:31:26.327Z",
     "shell.execute_reply": "2025-09-18T04:31:26.326Z"
    }
   },
   "outputs": [
    {
     "name": "stderr",
     "output_type": "stream",
     "text": [
      "\u001b[32m\u001b[1m   Resolving\u001b[22m\u001b[39m package versions...\n",
      "\u001b[32m\u001b[1m   Installed\u001b[22m\u001b[39m SCS ──────────── v2.2.0\n",
      "\u001b[32m\u001b[1m   Installed\u001b[22m\u001b[39m SCS_jll ──────── v3.2.8+0\n",
      "\u001b[32m\u001b[1m   Installed\u001b[22m\u001b[39m OpenBLAS32_jll ─ v0.3.29+0\n",
      "\u001b[32m\u001b[1m    Updating\u001b[22m\u001b[39m `C:\\Users\\User\\.julia\\environments\\v1.11\\Project.toml`\n",
      "  \u001b[90m[c946c3f1] \u001b[39m\u001b[92m+ SCS v2.2.0\u001b[39m\n",
      "\u001b[32m\u001b[1m    Updating\u001b[22m\u001b[39m `C:\\Users\\User\\.julia\\environments\\v1.11\\Manifest.toml`\n",
      "  \u001b[90m[c946c3f1] \u001b[39m\u001b[92m+ SCS v2.2.0\u001b[39m\n",
      "  \u001b[90m[656ef2d0] \u001b[39m\u001b[92m+ OpenBLAS32_jll v0.3.29+0\u001b[39m\n",
      "  \u001b[90m[f4f2fc5b] \u001b[39m\u001b[92m+ SCS_jll v3.2.8+0\u001b[39m\n",
      "\u001b[92m\u001b[1mPrecompiling\u001b[22m\u001b[39m project...\n",
      "    426.7 ms\u001b[32m  ✓ \u001b[39m\u001b[90mOpenBLAS32_jll\u001b[39m\n",
      "    515.4 ms\u001b[32m  ✓ \u001b[39m\u001b[90mSCS_jll\u001b[39m\n",
      "  33496.0 ms\u001b[32m  ✓ \u001b[39mSCS\n",
      "  3 dependencies successfully precompiled in 37 seconds. 339 already precompiled.\n"
     ]
    }
   ],
   "source": [
    "import Pkg; Pkg.add(\"SCS\")"
   ]
  },
  {
   "cell_type": "code",
   "execution_count": 45,
   "id": "023dd01a-ed01-4b3f-b2d9-cc6b0e754d96",
   "metadata": {
    "execution": {
     "iopub.execute_input": "2025-09-18T04:34:01.603Z",
     "iopub.status.busy": "2025-09-18T04:34:01.603Z",
     "iopub.status.idle": "2025-09-18T04:34:06.569Z",
     "shell.execute_reply": "2025-09-18T04:34:06.569Z"
    }
   },
   "outputs": [
    {
     "name": "stderr",
     "output_type": "stream",
     "text": [
      "\u001b[32m\u001b[1m   Resolving\u001b[22m\u001b[39m package versions...\n",
      "\u001b[32m\u001b[1m    Updating\u001b[22m\u001b[39m `C:\\Users\\User\\.julia\\environments\\v1.11\\Project.toml`\n",
      "  \u001b[90m[b8f27783] \u001b[39m\u001b[92m+ MathOptInterface v1.44.0\u001b[39m\n",
      "\u001b[32m\u001b[1m  No Changes\u001b[22m\u001b[39m to `C:\\Users\\User\\.julia\\environments\\v1.11\\Manifest.toml`\n"
     ]
    }
   ],
   "source": [
    "import Pkg; Pkg.add(\"MathOptInterface\")"
   ]
  },
  {
   "cell_type": "code",
   "execution_count": 35,
   "id": "e5d279dc-5ee2-4c3b-9768-b2f8921a72bc",
   "metadata": {
    "execution": {
     "iopub.execute_input": "2025-09-18T04:30:27.226Z",
     "iopub.status.busy": "2025-09-18T04:30:27.226Z",
     "iopub.status.idle": "2025-09-18T04:30:27.231Z",
     "shell.execute_reply": "2025-09-18T04:30:27.231Z"
    }
   },
   "outputs": [
    {
     "data": {
      "text/plain": [
       "LassoEN"
      ]
     },
     "execution_count": 35,
     "metadata": {},
     "output_type": "execute_result"
    }
   ],
   "source": [
    "\"\"\"\n",
    "Solve LASSO / Elastic Net with Convex.jl + SCS.\n",
    "\n",
    "Minimizes (1/T) * ||Y - X*b||² + γ * ||b||₁ + λ * ||b||₂²\n",
    "\n",
    "Notes\n",
    "-----\n",
    "- No intercept term inside the solver. If you want an intercept, center Y and\n",
    "  standardize X before optimization, then recover intercept later in OLS.\n",
    "- Suitable for variable selection: selected = {j : b̂_j ≠ 0}.\n",
    "\n",
    "Parameters\n",
    "----------\n",
    "Y :: AbstractVector{<:Real}\n",
    "X :: AbstractMatrix{<:Real}\n",
    "γ :: Real                  # L1 penalty ≥ 0 (LASSO intensity)\n",
    "λ :: Real = 0.0            # L2 penalty ≥ 0 (Elastic-Net; λ=0 → pure LASSO)\n",
    "\n",
    "Returns\n",
    "-------\n",
    "b_hat :: Vector{Float64}   # penalized solution\n",
    "b_ls  :: Vector{Float64}   # unpenalized OLS (reference)\n",
    "\"\"\"\n",
    "function LassoEN(Y, X, γ, λ::Real=0.0)\n",
    "    T, K = size(X)\n",
    "    Y = collect(float.(Y))\n",
    "    X = collect(float.(X))\n",
    "\n",
    "    # Unpenalized least squares (reference)\n",
    "    b_ls = X \\ Y\n",
    "\n",
    "    # Precompute quadratic + linear parts of (1/T)||Y - Xb||² up to constant\n",
    "    Q = Symmetric((X' * X) / T)      # ensure symmetric PSD\n",
    "    c = (X' * Y) / T\n",
    "\n",
    "    # Decision variable and objective\n",
    "    b = Variable(K)\n",
    "    obj = quadform(b, Q) - 2dot(c, b) + γ * norm(b, 1)\n",
    "    if λ > 0\n",
    "        obj += λ * sumsquares(b)\n",
    "    end\n",
    "\n",
    "    problem = minimize(obj)\n",
    "    solve!(problem, SCS.Optimizer; silent=true)\n",
    "\n",
    "    b_hat = if problem.status == MOI.OPTIMAL || problem.status == MOI.ALMOST_OPTIMAL\n",
    "        vec(evaluate(b))\n",
    "    else\n",
    "        fill(NaN, K)\n",
    "    end\n",
    "    return b_hat, b_ls\n",
    "end\n",
    "\n",
    "\n",
    "\n",
    "\n"
   ]
  },
  {
   "cell_type": "code",
   "execution_count": 47,
   "id": "0b74166a-58e8-4c42-aff9-2a1e88f76ed2",
   "metadata": {
    "execution": {
     "iopub.execute_input": "2025-09-18T04:36:02.008Z",
     "iopub.status.busy": "2025-09-18T04:36:02.008Z",
     "iopub.status.idle": "2025-09-18T04:36:16.806Z",
     "shell.execute_reply": "2025-09-18T04:36:16.806Z"
    }
   },
   "outputs": [
    {
     "name": "stdout",
     "output_type": "stream",
     "text": [
      "Selected by Convex-LASSO (BIC, γ* = 0.001): [:X1, :X2, :X3, :X4]\n"
     ]
    }
   ],
   "source": [
    "using LinearAlgebra        # Symmetric, dot, etc.\n",
    "using Convex               # Variable, minimize, quadform, norm, sumsquares\n",
    "using SCS                  # SCS.Optimizer\n",
    "using MathOptInterface\n",
    "const MOI = MathOptInterface\n",
    "\n",
    "\n",
    "\n",
    "\"\"\"\n",
    "Select covariates X1..X4 via Convex-LASSO with a γ-grid and BIC model choice.\n",
    "\n",
    "Workflow\n",
    "--------\n",
    "1) Build Xc = [X1,X2,X3,X4], y = Y, exclude D from selection.\n",
    "2) Standardize columns of Xc and center y for stable penalization.\n",
    "3) For each γ in a log-grid, solve LassoEN(yc, Xs, γ), compute:\n",
    "       RSS_γ = ||yc - Xs * b̂(γ)||²,\n",
    "       k_γ   = number of nonzeros in b̂(γ),\n",
    "       BIC_γ = n*log(RSS_γ/n) + k_γ*log(n).\n",
    "4) Choose γ* with minimal BIC. Selected vars = {j : b̂_j(γ*) ≠ 0}.\n",
    "\n",
    "Parameters\n",
    "----------\n",
    "df :: DataFrame   # must contain :Y, :D, :X1, :X2, :X3, :X4\n",
    "gammas :: AbstractVector{<:Real}\n",
    "    Penalty grid to scan (default: 40 values log-spaced)\n",
    "\n",
    "Returns\n",
    "-------\n",
    "selected :: Vector{Symbol}          # chosen covariates from X1..X4\n",
    "γstar    :: Float64                 # BIC-optimal gamma\n",
    "b_star   :: Vector{Float64}         # coefficients at γ*\n",
    "\"\"\"\n",
    "function select_covariates_convex(df::DataFrame; gammas::AbstractVector{<:Real}=exp.(range(log(1e-3), log(10.0), length=40)))\n",
    "    # Design matrices (exclude D in selection step)\n",
    "    Xc = Matrix(select(df, [:X1, :X2, :X3, :X4]))\n",
    "    y  = Array(df.Y)\n",
    "    n, p = size(Xc)\n",
    "\n",
    "    # Standardize X, center y (no intercept in solver)\n",
    "    μx = vec(mean(Xc, dims=1))\n",
    "    σx = vec(std(Xc, dims=1, corrected=true)); σx[σx .== 0.0] .= 1.0\n",
    "    Xs = (Xc .- μx') ./ σx'\n",
    "    μy = mean(y)\n",
    "    yc = y .- μy\n",
    "\n",
    "    # Scan γ-grid, compute BIC\n",
    "    best_idx = 0\n",
    "    best_bic = Inf\n",
    "    best_b   = zeros(p)\n",
    "    for (i, γ) in enumerate(gammas)\n",
    "        b̂, _ = LassoEN(yc, Xs, γ, 0.0)        # pure LASSO here\n",
    "        yhat  = Xs * b̂\n",
    "        rss   = sum((yc .- yhat).^2)\n",
    "        k     = count(!iszero, b̂)             # nonzeros, no intercept inside\n",
    "        bic   = n * log(rss / n + eps()) + k * log(n)\n",
    "        if bic < best_bic\n",
    "            best_bic = bic\n",
    "            best_idx = i\n",
    "            best_b   = b̂\n",
    "        end\n",
    "    end\n",
    "    γstar = gammas[best_idx]\n",
    "\n",
    "    # Selected variables (indices where b̂ ≠ 0)\n",
    "    sel_idx = findall(!iszero, best_b)\n",
    "    selected = Symbol.([\"X1\",\"X2\",\"X3\",\"X4\"][sel_idx])\n",
    "\n",
    "    return selected, γstar, best_b\n",
    "end\n",
    "\n",
    "selected_vars, γstar, b_star = select_covariates_convex(df)\n",
    "println(\"Selected by Convex-LASSO (BIC, γ* = \", round(γstar, digits=6), \"): \", selected_vars)\n"
   ]
  },
  {
   "cell_type": "code",
   "execution_count": 49,
   "id": "9c9927b3-1c96-48e2-8107-a0529fa7d69f",
   "metadata": {
    "execution": {
     "iopub.execute_input": "2025-09-18T04:44:12.447Z",
     "iopub.status.busy": "2025-09-18T04:44:12.447Z",
     "iopub.status.idle": "2025-09-18T04:44:12.549Z",
     "shell.execute_reply": "2025-09-18T04:44:12.548Z"
    }
   },
   "outputs": [
    {
     "ename": "LoadError",
     "evalue": "MethodError: no method matching fit(::Type{LinearModel}, ::Tuple{FormulaTerm{Term, Term}, Vararg{Term, 4}}, ::DataFrame, ::Nothing)\nThe function `fit` exists, but no method is defined for this combination of argument types.\n\n\u001b[0mClosest candidates are:\n\u001b[0m  fit(::Type{T}, \u001b[91m::FormulaTerm\u001b[39m, ::Any, ::Any...; contrasts, kwargs...) where T<:RegressionModel\n\u001b[0m\u001b[90m   @\u001b[39m \u001b[36mStatsModels\u001b[39m \u001b[90mC:\\Users\\User\\.julia\\packages\\StatsModels\\YNwJ1\\src\\\u001b[39m\u001b[90m\u001b[4mstatsmodel.jl:78\u001b[24m\u001b[39m\n\u001b[0m  fit(\u001b[91m::Type{D}\u001b[39m, ::Any...) where D<:Distribution\n\u001b[0m\u001b[90m   @\u001b[39m \u001b[35mDistributions\u001b[39m \u001b[90mC:\\Users\\User\\.julia\\packages\\Distributions\\YQSrn\\src\\\u001b[39m\u001b[90m\u001b[4mgenericfit.jl:47\u001b[24m\u001b[39m\n\u001b[0m  fit(::Type{T}, \u001b[91m::FormulaTerm\u001b[39m, ::Any, ::Any...; contrasts, kwargs...) where T<:StatisticalModel\n\u001b[0m\u001b[90m   @\u001b[39m \u001b[36mStatsModels\u001b[39m \u001b[90mC:\\Users\\User\\.julia\\packages\\StatsModels\\YNwJ1\\src\\\u001b[39m\u001b[90m\u001b[4mstatsmodel.jl:78\u001b[24m\u001b[39m\n\u001b[0m  ...\n",
     "output_type": "error",
     "traceback": [
      "MethodError: no method matching fit(::Type{LinearModel}, ::Tuple{FormulaTerm{Term, Term}, Vararg{Term, 4}}, ::DataFrame, ::Nothing)\nThe function `fit` exists, but no method is defined for this combination of argument types.\n\n\u001b[0mClosest candidates are:\n\u001b[0m  fit(::Type{T}, \u001b[91m::FormulaTerm\u001b[39m, ::Any, ::Any...; contrasts, kwargs...) where T<:RegressionModel\n\u001b[0m\u001b[90m   @\u001b[39m \u001b[36mStatsModels\u001b[39m \u001b[90mC:\\Users\\User\\.julia\\packages\\StatsModels\\YNwJ1\\src\\\u001b[39m\u001b[90m\u001b[4mstatsmodel.jl:78\u001b[24m\u001b[39m\n\u001b[0m  fit(\u001b[91m::Type{D}\u001b[39m, ::Any...) where D<:Distribution\n\u001b[0m\u001b[90m   @\u001b[39m \u001b[35mDistributions\u001b[39m \u001b[90mC:\\Users\\User\\.julia\\packages\\Distributions\\YQSrn\\src\\\u001b[39m\u001b[90m\u001b[4mgenericfit.jl:47\u001b[24m\u001b[39m\n\u001b[0m  fit(::Type{T}, \u001b[91m::FormulaTerm\u001b[39m, ::Any, ::Any...; contrasts, kwargs...) where T<:StatisticalModel\n\u001b[0m\u001b[90m   @\u001b[39m \u001b[36mStatsModels\u001b[39m \u001b[90mC:\\Users\\User\\.julia\\packages\\StatsModels\\YNwJ1\\src\\\u001b[39m\u001b[90m\u001b[4mstatsmodel.jl:78\u001b[24m\u001b[39m\n\u001b[0m  ...\n",
      "",
      "Stacktrace:",
      " [1] \u001b[0m\u001b[1mlm\u001b[22m\u001b[0m\u001b[1m(\u001b[22m\u001b[90mX\u001b[39m::\u001b[0mTuple\u001b[90m{FormulaTerm{Term, Term}, Vararg{Term, 4}}\u001b[39m, \u001b[90my\u001b[39m::\u001b[0mDataFrame, \u001b[90mallowrankdeficient_dep\u001b[39m::\u001b[0mNothing; \u001b[90mkwargs\u001b[39m::\u001b[0m@Kwargs\u001b[90m{}\u001b[39m\u001b[0m\u001b[1m)\u001b[22m",
      "\u001b[90m   @\u001b[39m \u001b[33mGLM\u001b[39m \u001b[90mC:\\Users\\User\\.julia\\packages\\GLM\\vM20T\\src\\\u001b[39m\u001b[90m\u001b[4mlm.jl:157\u001b[24m\u001b[39m",
      " [2] top-level scope",
      "\u001b[90m   @\u001b[39m \u001b[90m\u001b[4mIn[49]:11\u001b[24m\u001b[39m"
     ]
    }
   ],
   "source": [
    "\n"
   ]
  },
  {
   "cell_type": "code",
   "execution_count": null,
   "id": "97ee73bb-4799-4f8b-925f-8f41a83ea22b",
   "metadata": {},
   "outputs": [],
   "source": []
  }
 ],
 "metadata": {
  "kernelspec": {
   "display_name": "Julia 1.11.6",
   "language": "julia",
   "name": "julia-1.11"
  },
  "language_info": {
   "file_extension": ".jl",
   "mimetype": "application/julia",
   "name": "julia",
   "version": "1.11.6"
  }
 },
 "nbformat": 4,
 "nbformat_minor": 5
}

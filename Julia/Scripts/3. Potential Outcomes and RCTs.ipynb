{
 "cells": [
  {
   "cell_type": "code",
   "execution_count": 2,
   "id": "1f17b984-6941-4ca5-8764-f97a1230f240",
   "metadata": {
    "execution": {
     "iopub.execute_input": "2025-09-17T05:38:51.445Z",
     "iopub.status.busy": "2025-09-17T05:38:51.445Z",
     "iopub.status.idle": "2025-09-17T05:39:05.557Z",
     "shell.execute_reply": "2025-09-17T05:39:05.509Z"
    }
   },
   "outputs": [
    {
     "name": "stdout",
     "output_type": "stream",
     "text": [
      "== Medias por grupo ==\n",
      "\u001b[1m2×5 DataFrame\u001b[0m\n",
      "\u001b[1m Row \u001b[0m│\u001b[1m D     \u001b[0m\u001b[1m X1_mean    \u001b[0m\u001b[1m X2_mean \u001b[0m\u001b[1m X3_mean  \u001b[0m\u001b[1m X4_mean    \u001b[0m\n",
      "     │\u001b[90m Bool  \u001b[0m\u001b[90m Float64    \u001b[0m\u001b[90m Float64 \u001b[0m\u001b[90m Float64  \u001b[0m\u001b[90m Float64    \u001b[0m\n",
      "─────┼──────────────────────────────────────────────────\n",
      "   1 │ false  -0.0638543  1.99191  0.369072  0.00625674\n",
      "   2 │  true  -0.0370065  2.04436  0.35534   0.018983\n",
      "\n",
      "== Balance por t-test (Welch) ==\n",
      "\u001b[1m4×6 DataFrame\u001b[0m\n",
      "\u001b[1m Row \u001b[0m│\u001b[1m Covariable \u001b[0m\u001b[1m Media_Tratado \u001b[0m\u001b[1m Media_Control \u001b[0m\u001b[1m Diferencia \u001b[0m\u001b[1m t_stat    \u001b[0m\u001b[1m p_valor  \u001b[0m\n",
      "     │\u001b[90m String     \u001b[0m\u001b[90m Float64       \u001b[0m\u001b[90m Float64       \u001b[0m\u001b[90m Float64    \u001b[0m\u001b[90m Float64   \u001b[0m\u001b[90m Float64  \u001b[0m\n",
      "─────┼───────────────────────────────────────────────────────────────────────────\n",
      "   1 │ X1             -0.0370065    -0.0638543    0.0268478   0.42936   0.667755\n",
      "   2 │ X2              2.04436       1.99191      0.0524445   0.830258  0.406592\n",
      "   3 │ X3              0.35534       0.369072    -0.0137324  -0.451083  0.652028\n",
      "   4 │ X4              0.018983      0.00625674   0.0127263   0.344732  0.730368"
     ]
    }
   ],
   "source": [
    "# 3.1 DATA SIMULATION (3 puntos) — Julia\n",
    "# ------------------------------------------------------------\n",
    "using Random, Distributions, DataFrames, HypothesisTests, Statistics\n",
    "\n",
    "# (2 pts) Simular n=1000 con X1..X4, D~Bernoulli(0.5), eps~N(0,1)\n",
    "Random.seed!(123)\n",
    "n = 1000\n",
    "\n",
    "X1 = rand(Normal(0,1), n)                # continuo\n",
    "X2 = rand(Normal(2,1), n)                # continuo\n",
    "X3 = rand(Bernoulli(0.4), n)             # binario\n",
    "X4 = rand(Uniform(-1,1), n)              # continuo\n",
    "\n",
    "D  = rand(Bernoulli(0.5), n)             # tratamiento\n",
    "ϵ  = rand(Normal(0,1), n)\n",
    "\n",
    "Y = 2 .* D .+ 0.5 .* X1 .- 0.3 .* X2 .+ 0.2 .* X3 .+ ϵ\n",
    "\n",
    "df = DataFrame(Y=Y, D=D, X1=X1, X2=X2, X3=X3, X4=X4)\n",
    "\n",
    "# ------------------------------------------------------------\n",
    "# (1 pt) Balance check: medias por grupo y t-tests Welch\n",
    "covs = [:X1, :X2, :X3, :X4]\n",
    "\n",
    "println(\"== Medias por grupo ==\")\n",
    "group_means = combine(groupby(df, :D), covs .=> mean)\n",
    "show(group_means, allrows=true, allcols=true)\n",
    "\n",
    "println(\"\\n\\n== Balance por t-test (Welch) ==\")\n",
    "results = DataFrame(\n",
    "    Covariable = String[],\n",
    "    Media_Tratado = Float64[],\n",
    "    Media_Control = Float64[],\n",
    "    Diferencia = Float64[],\n",
    "    t_stat = Float64[],\n",
    "    p_valor = Float64[]\n",
    ")\n",
    "\n",
    "for v in covs\n",
    "    a = df[df.D .== 1, v]\n",
    "    b = df[df.D .== 0, v]\n",
    "    test = UnequalVarianceTTest(a, b)\n",
    "    push!(results, (\n",
    "        string(v),\n",
    "        mean(a),\n",
    "        mean(b),\n",
    "        mean(a) - mean(b),\n",
    "        Statistics.mean(test.t),   # valor t\n",
    "        pvalue(test)               # valor p\n",
    "    ))\n",
    "end\n",
    "\n",
    "show(results, allrows=true, allcols=true)\n"
   ]
  },
  {
   "cell_type": "code",
   "execution_count": 6,
   "id": "e3efd9ca-6586-4ddb-b7c8-31e154fc55f9",
   "metadata": {
    "execution": {
     "iopub.execute_input": "2025-09-17T05:41:36.798Z",
     "iopub.status.busy": "2025-09-17T05:41:36.798Z",
     "iopub.status.idle": "2025-09-17T05:41:37.728Z",
     "shell.execute_reply": "2025-09-17T05:41:37.727Z"
    }
   },
   "outputs": [
    {
     "name": "stdout",
     "output_type": "stream",
     "text": [
      "== 3.2.1 ATE simple: Y ~ D ==\n",
      "ATE: 1.9732  SE: 0.072  95% CI: [1.8321, 2.1142]  p=0.0\n",
      "\n",
      "== 3.2.2 ATE con controles ==\n",
      "ATE: 1.9787  SE: 0.0626  95% CI: [1.8559, 2.1014]  p=0.0\n",
      "\n",
      "== 3.2.3 Comparación ==\n",
      "Cambio en ATE (controles - simple): 0.0055\n",
      "Cambio en SE: -0.0093   Ratio SE (ctrl/simple): 0.87\n",
      "Nota: En un RCT balanceado, el ATE cambia poco; agregar controles predictivos reduce varianza.\n"
     ]
    }
   ],
   "source": [
    "# 3.2 ESTIMATING THE AVERAGE TREATMENT EFFECT (3 puntos) — Julia\n",
    "\n",
    "using DataFrames, GLM, StatsModels, Statistics, Distributions\n",
    "\n",
    "# (1 pt) ATE simple: Y ~ D\n",
    "m_simple = lm(@formula(Y ~ D), df)\n",
    "βs = coef(m_simple); se_s = stderror(m_simple)\n",
    "ate_simple = βs[2]; se_simple = se_s[2]\n",
    "t_simple = ate_simple / se_simple\n",
    "p_simple = 2 * (1 - cdf(TDist(dof_residual(m_simple)), abs(t_simple)))\n",
    "ci_simple = ate_simple .+ [-1, 1] .* 1.96 .* se_simple\n",
    "\n",
    "println(\"== 3.2.1 ATE simple: Y ~ D ==\")\n",
    "println(\"ATE: $(round(ate_simple, digits=4))  SE: $(round(se_simple, digits=4))  \",\n",
    "        \"95% CI: [$(round(ci_simple[1], digits=4)), $(round(ci_simple[2], digits=4))]  p=$(round(p_simple, sigdigits=4))\")\n",
    "\n",
    "# (1 pt) ATE con controles: Y ~ D + X1 + X2 + X3 + X4\n",
    "m_ctrl = lm(@formula(Y ~ D + X1 + X2 + X3 + X4), df)\n",
    "βc = coef(m_ctrl); se_c = stderror(m_ctrl)\n",
    "ate_ctrl = βc[2]; se_ctrl = se_c[2]\n",
    "t_ctrl = ate_ctrl / se_ctrl\n",
    "p_ctrl = 2 * (1 - cdf(TDist(dof_residual(m_ctrl)), abs(t_ctrl)))\n",
    "ci_ctrl = ate_ctrl .+ [-1, 1] .* 1.96 .* se_ctrl\n",
    "\n",
    "println(\"\\n== 3.2.2 ATE con controles ==\")\n",
    "println(\"ATE: $(round(ate_ctrl, digits=4))  SE: $(round(se_ctrl, digits=4))  \",\n",
    "        \"95% CI: [$(round(ci_ctrl[1], digits=4)), $(round(ci_ctrl[2], digits=4))]  p=$(round(p_ctrl, sigdigits=4))\")\n",
    "\n",
    "# (1 pt) Comparación\n",
    "delta_ate = ate_ctrl - ate_simple\n",
    "delta_se  = se_ctrl - se_simple\n",
    "ratio_se  = se_ctrl / se_simple\n",
    "\n",
    "println(\"\\n== 3.2.3 Comparación ==\")\n",
    "println(\"Cambio en ATE (controles - simple): $(round(delta_ate, digits=4))\")\n",
    "println(\"Cambio en SE: $(round(delta_se, digits=4))   Ratio SE (ctrl/simple): $(round(ratio_se, digits=3))\")\n",
    "println(\"Nota: En un RCT balanceado, el ATE cambia poco; agregar controles predictivos reduce varianza.\")\n",
    "\n"
   ]
  },
  {
   "cell_type": "code",
   "execution_count": 30,
   "id": "e5d279dc-5ee2-4c3b-9768-b2f8921a72bc",
   "metadata": {
    "execution": {
     "iopub.execute_input": "2025-09-17T05:59:13.681Z",
     "iopub.status.busy": "2025-09-17T05:59:13.681Z",
     "iopub.status.idle": "2025-09-17T05:59:42.84Z",
     "shell.execute_reply": "2025-09-17T05:59:42.84Z"
    }
   },
   "outputs": [
    {
     "name": "stderr",
     "output_type": "stream",
     "text": [
      "\u001b[32m\u001b[1m   Resolving\u001b[22m\u001b[39m package versions...\n",
      "\u001b[32m\u001b[1m   Installed\u001b[22m\u001b[39m IterTools ─── v1.10.0\n",
      "\u001b[32m\u001b[1m   Installed\u001b[22m\u001b[39m MLBase ────── v0.9.2\n",
      "\u001b[32m\u001b[1m   Installed\u001b[22m\u001b[39m Setfield ──── v1.1.2\n",
      "\u001b[32m\u001b[1m   Installed\u001b[22m\u001b[39m Polynomials ─ v4.1.0\n",
      "\u001b[32m\u001b[1m   Installed\u001b[22m\u001b[39m DSP ───────── v0.7.10\n",
      "\u001b[32m\u001b[1m   Installed\u001b[22m\u001b[39m Lasso ─────── v0.7.2\n",
      "\u001b[32m\u001b[1m    Updating\u001b[22m\u001b[39m `C:\\Users\\User\\.julia\\environments\\v1.11\\Project.toml`\n",
      "  \u001b[90m[b4fcebef] \u001b[39m\u001b[92m+ Lasso v0.7.2\u001b[39m\n",
      "\u001b[32m\u001b[1m    Updating\u001b[22m\u001b[39m `C:\\Users\\User\\.julia\\environments\\v1.11\\Manifest.toml`\n",
      "\u001b[33m⌅\u001b[39m \u001b[90m[717857b8] \u001b[39m\u001b[92m+ DSP v0.7.10\u001b[39m\n",
      "  \u001b[90m[c8e1da08] \u001b[39m\u001b[92m+ IterTools v1.10.0\u001b[39m\n",
      "  \u001b[90m[b4fcebef] \u001b[39m\u001b[92m+ Lasso v0.7.2\u001b[39m\n",
      "  \u001b[90m[f0e99cf1] \u001b[39m\u001b[92m+ MLBase v0.9.2\u001b[39m\n",
      "  \u001b[90m[f27b6e38] \u001b[39m\u001b[92m+ Polynomials v4.1.0\u001b[39m\n",
      "  \u001b[90m[efcf1570] \u001b[39m\u001b[92m+ Setfield v1.1.2\u001b[39m\n",
      "\u001b[36m\u001b[1m        Info\u001b[22m\u001b[39m Packages marked with \u001b[33m⌅\u001b[39m have new versions available but compatibility constraints restrict them from upgrading. To see why use `status --outdated -m`\n",
      " project...ecompiling\u001b[22m\u001b[39m\n",
      "    819.5 ms\u001b[32m  ✓ \u001b[39m\u001b[90mIterTools\u001b[39m\n",
      "    882.5 ms\u001b[32m  ✓ \u001b[39m\u001b[90mSetfield\u001b[39m\n",
      "    797.7 ms\u001b[32m  ✓ \u001b[39m\u001b[90mMLBase\u001b[39m\n",
      "  16452.2 ms\u001b[32m  ✓ \u001b[39m\u001b[90mPolynomials\u001b[39m\n",
      "    952.1 ms\u001b[32m  ✓ \u001b[39m\u001b[90mPolynomials → PolynomialsChainRulesCoreExt\u001b[39m\n",
      "   1134.1 ms\u001b[32m  ✓ \u001b[39m\u001b[90mPolynomials → PolynomialsFFTWExt\u001b[39m\n",
      "   2012.1 ms\u001b[32m  ✓ \u001b[39m\u001b[90mDSP\u001b[39m\n",
      "   1897.1 ms\u001b[32m  ✓ \u001b[39mLasso\n",
      "  8 dependencies successfully precompiled in 24 seconds. 303 already precompiled.\n"
     ]
    }
   ],
   "source": [
    "\n",
    "import Pkg; Pkg.add(\"Lasso\")\n"
   ]
  },
  {
   "cell_type": "code",
   "execution_count": 36,
   "id": "9c9927b3-1c96-48e2-8107-a0529fa7d69f",
   "metadata": {
    "execution": {
     "iopub.execute_input": "2025-09-17T06:01:14.385Z",
     "iopub.status.busy": "2025-09-17T06:01:14.385Z",
     "iopub.status.idle": "2025-09-17T06:01:14.408Z",
     "shell.execute_reply": "2025-09-17T06:01:14.408Z"
    }
   },
   "outputs": [
    {
     "ename": "LoadError",
     "evalue": "type LassoPath has no field λs",
     "output_type": "error",
     "traceback": [
      "type LassoPath has no field λs",
      "",
      "Stacktrace:",
      " [1] \u001b[0m\u001b[1mgetproperty\u001b[22m\u001b[0m\u001b[1m(\u001b[22m\u001b[90mx\u001b[39m::\u001b[0mLassoPath\u001b[90m{LinearModel{GLM.LmResp{Vector{Float64}}, CovarianceCoordinateDescent{Float64, true, Matrix{Float64}, Lasso.RandomCoefficientIterator, Nothing}}, Float64}\u001b[39m, \u001b[90mf\u001b[39m::\u001b[0mSymbol\u001b[0m\u001b[1m)\u001b[22m",
      "\u001b[90m   @\u001b[39m \u001b[90mBase\u001b[39m \u001b[90m.\\\u001b[39m\u001b[90m\u001b[4mBase.jl:49\u001b[24m\u001b[39m",
      " [2] top-level scope",
      "\u001b[90m   @\u001b[39m \u001b[90m\u001b[4mIn[36]:12\u001b[24m\u001b[39m"
     ]
    }
   ],
   "source": [
    "using Random, Lasso, DataFrames, Statistics, LinearAlgebra\n",
    "\n",
    "# Datos: covariables (X) y outcome (y)\n",
    "X = Matrix(select(df, [:X1, :X2, :X3, :X4]))\n",
    "y = Vector(df.Y)\n",
    "\n",
    "# (1 pt) Ajuste de la ruta LASSO\n",
    "Random.seed!(123)\n",
    "path = Lasso.fit(LassoPath, X, y; λ = exp10.(-4:0.1:1))\n",
    "\n",
    "# Seleccionar el λ más pequeño de la grilla (menos penalización)\n",
    "λ_min = minimum(path.λs)\n",
    "β = coef(path, λ_min)   # coeficientes [X1..X4]\n",
    "\n",
    "names_X = [\"X1\",\"X2\",\"X3\",\"X4\"]\n",
    "selected_vars = [names_X[i] for i in 1:4 if β[i] != 0.0]\n",
    "println(\"== 3.3.1 LASSO selección ==\")\n",
    "println(\"lambda_min = \", λ_min)\n",
    "println(\"Covariables seleccionadas: \", selected_vars)\n",
    "\n",
    "# ------------------------------------------------------------\n",
    "# (1 pt) Re-estimar ATE con OLS manual\n",
    "n = size(X,1)\n",
    "D = Vector(df.D)\n",
    "\n",
    "Z = hcat(ones(n), D)  # intercepto y D\n",
    "for v in selected_vars\n",
    "    Z = hcat(Z, Vector(df[!, Symbol(v)]))\n",
    "end\n",
    "\n",
    "β_ols = (Z'Z) \\ (Z'y)\n",
    "resid = y .- Z*β_ols\n",
    "k = size(Z,2)\n",
    "σ2 = sum(resid.^2) / (n - k)\n",
    "vcov = σ2 * inv(Z'Z)\n",
    "se   = sqrt.(diag(vcov))\n",
    "\n",
    "ate_lasso = β_ols[2]   # coef de D\n",
    "se_D      = se[2]\n",
    "ci_D      = ate_lasso .+ [-1,1] .* 1.96 .* se_D\n",
    "\n",
    "println(\"\\n== 3.3.2 ATE con seleccionadas (λ_min) ==\")\n",
    "println(\"ATE: \", round(ate_lasso, digits=4),\n",
    "        \"  SE: \", round(se_D, digits=4),\n",
    "        \"  95% CI: [\", round(ci_D[1], digits=4), \", \", round(ci_D[2], digits=4), \"]\")\n",
    "\n",
    "# ------------------------------------------------------------\n",
    "# (1 pt) Comparación mínima\n",
    "println(\"\\n== 3.3.3 Comparación ==\")\n",
    "println(\"ATE con controles seleccionados por LASSO: \", round(ate_lasso, digits=4))\n",
    "println(\"Comentario: el ATE es estable; LASSO elimina covariables irrelevantes y da parsimonia.\")\n"
   ]
  },
  {
   "cell_type": "code",
   "execution_count": null,
   "id": "97ee73bb-4799-4f8b-925f-8f41a83ea22b",
   "metadata": {},
   "outputs": [],
   "source": []
  }
 ],
 "metadata": {
  "kernelspec": {
   "display_name": "Julia 1.11.6",
   "language": "julia",
   "name": "julia-1.11"
  },
  "language_info": {
   "file_extension": ".jl",
   "mimetype": "application/julia",
   "name": "julia",
   "version": "1.11.6"
  }
 },
 "nbformat": 4,
 "nbformat_minor": 5
}

{
 "cells": [
  {
   "cell_type": "markdown",
   "metadata": {},
   "source": [
    "# 3. Potential Outcomes and RCTs (Julia Implementation)\n",
    "\n",
    "This notebook implements analysis of potential outcomes and randomized controlled trials using Julia.\n",
    "\n",
    "## Assignment Requirements:\n",
    "1. **Data Simulation (3 points)**: Simulate dataset with covariates, treatment, and outcome\n",
    "2. **Estimating Average Treatment Effect (3 points)**: Simple and controlled regression estimates\n",
    "3. **LASSO and Variable Selection (3 points)**: Use LASSO for covariate selection and ATE estimation"
   ]
  },
  {
   "cell_type": "code",
   "execution_count": null,
   "metadata": {},
   "outputs": [],
   "source": [
    "# Import required packages\n",
    "using DataFrames\n",
    "using GLMNet\n",
    "using GLM\n",
    "using Distributions\n",
    "using Random\n",
    "using Statistics\n",
    "using Plots\n",
    "using StatsBase\n",
    "using HypothesisTests\n",
    "using Printf\n",
    "\n",
    "# Set random seed for reproducibility\n",
    "Random.seed!(123)\n",
    "\n",
    "println(\"📦 Packages loaded successfully\")"
   ]
  },
  {
   "cell_type": "markdown",
   "metadata": {},
   "source": [
    "## 3.1 Data Simulation (3 points)\n",
    "\n",
    "We simulate a dataset with n = 1000 individuals with:\n",
    "- Covariates X₁, X₂, X₃, X₄ (continuous or binary)\n",
    "- Treatment assignment D ~ Bernoulli(0.5)\n",
    "- Outcome variable: Y = 2D + 0.5X₁ - 0.3X₂ + 0.2X₃ + ε, where ε ~ N(0,1)"
   ]
  },
  {
   "cell_type": "code",
   "execution_count": null,
   "metadata": {},
   "outputs": [],
   "source": [
    "# Set parameters\n",
    "n = 1000\n",
    "\n",
    "# Generate covariates\n",
    "X1 = rand(Normal(2, 1), n)          # Continuous covariate\n",
    "X2 = rand(Normal(0, 1.5), n)       # Continuous covariate\n",
    "X3 = rand(Bernoulli(0.3), n)       # Binary covariate\n",
    "X4 = rand(Bernoulli(0.6), n)       # Binary covariate\n",
    "\n",
    "# Generate treatment assignment\n",
    "D = rand(Bernoulli(0.5), n)        # Treatment ~ Bernoulli(0.5)\n",
    "\n",
    "# Generate error term\n",
    "ε = rand(Normal(0, 1), n)\n",
    "\n",
    "# Generate outcome variable: Y = 2D + 0.5X1 - 0.3X2 + 0.2X3 + ε\n",
    "Y = 2 .* D .+ 0.5 .* X1 .- 0.3 .* X2 .+ 0.2 .* X3 .+ ε\n",
    "\n",
    "# Create DataFrame\n",
    "data = DataFrame(\n",
    "    Y = Y,\n",
    "    D = D,\n",
    "    X1 = X1,\n",
    "    X2 = X2,\n",
    "    X3 = X3,\n",
    "    X4 = X4\n",
    ")\n",
    "\n",
    "println(\"📊 Dataset simulated successfully\")\n",
    "println(\"Sample size: \", nrow(data))\n",
    "println(\"Treatment group size: \", sum(data.D))\n",
    "println(\"Control group size: \", sum(1 .- data.D))\n",
    "println()\n",
    "\n",
    "# Display first few rows\n",
    "println(\"First 5 rows of the dataset:\")\n",
    "first(data, 5)"
   ]
  },
  {
   "cell_type": "markdown",
   "metadata": {},
   "source": [
    "### Balance Check (1 point)\n",
    "\n",
    "We perform a balance check by comparing the means of X₁, X₂, X₃, X₄ across treatment and control groups."
   ]
  },
  {
   "cell_type": "code",
   "execution_count": null,
   "metadata": {},
   "outputs": [],
   "source": [
    "# Balance check: compare means across treatment groups\n",
    "control_group = data[data.D .== 0, :]\n",
    "treatment_group = data[data.D .== 1, :]\n",
    "\n",
    "balance_results = DataFrame(\n",
    "    Variable = String[],\n",
    "    Control_Mean = Float64[],\n",
    "    Treatment_Mean = Float64[],\n",
    "    Difference = Float64[],\n",
    "    p_value = Float64[]\n",
    ")\n",
    "\n",
    "for var in [:X1, :X2, :X3, :X4]\n",
    "    control_mean = mean(control_group[!, var])\n",
    "    treatment_mean = mean(treatment_group[!, var])\n",
    "    difference = treatment_mean - control_mean\n",
    "    \n",
    "    # Perform t-test\n",
    "    t_test = UnequalVarianceTTest(treatment_group[!, var], control_group[!, var])\n",
    "    p_val = pvalue(t_test)\n",
    "    \n",
    "    push!(balance_results, (\n",
    "        String(var),\n",
    "        control_mean,\n",
    "        treatment_mean,\n",
    "        difference,\n",
    "        p_val\n",
    "    ))\n",
    "end\n",
    "\n",
    "println(\"🔍 Balance Check Results:\")\n",
    "balance_results"
   ]
  },
  {
   "cell_type": "code",
   "execution_count": null,
   "metadata": {},
   "outputs": [],
   "source": [
    "println(\"📈 Balance is good if differences are small and p-values are > 0.05\")\n",
    "println(\"All p-values > 0.05: \", all(balance_results.p_value .> 0.05))"
   ]
  },
  {
   "cell_type": "markdown",
   "metadata": {},
   "source": [
    "## 3.2 Estimating the Average Treatment Effect (3 points)\n",
    "\n",
    "We estimate the Average Treatment Effect (ATE) using two approaches:\n",
    "1. Simple regression: Y ~ D\n",
    "2. Controlled regression: Y ~ D + X₁ + X₂ + X₃ + X₄"
   ]
  },
  {
   "cell_type": "code",
   "execution_count": null,
   "metadata": {},
   "outputs": [],
   "source": [
    "# 1. Simple regression: Y ~ D\n",
    "simple_model = lm(@formula(Y ~ D), data)\n",
    "\n",
    "println(\"📊 Simple Regression Results (Y ~ D):\")\n",
    "println(simple_model)\n",
    "\n",
    "# Extract ATE and standard error\n",
    "simple_ate = coef(simple_model)[2]  # Coefficient for D\n",
    "simple_se = stderror(simple_model)[2]  # Standard error for D\n",
    "\n",
    "println(\"\\n🎯 Simple ATE estimate: \", round(simple_ate, digits=4))\n",
    "println(\"📏 Standard Error: \", round(simple_se, digits=4))"
   ]
  },
  {
   "cell_type": "code",
   "execution_count": null,
   "metadata": {},
   "outputs": [],
   "source": [
    "# 2. Controlled regression: Y ~ D + X1 + X2 + X3 + X4\n",
    "controlled_model = lm(@formula(Y ~ D + X1 + X2 + X3 + X4), data)\n",
    "\n",
    "println(\"📊 Controlled Regression Results (Y ~ D + X1 + X2 + X3 + X4):\")\n",
    "println(controlled_model)\n",
    "\n",
    "# Extract ATE and standard error\n",
    "controlled_ate = coef(controlled_model)[2]  # Coefficient for D\n",
    "controlled_se = stderror(controlled_model)[2]  # Standard error for D\n",
    "\n",
    "println(\"\\n🎯 Controlled ATE estimate: \", round(controlled_ate, digits=4))\n",
    "println(\"📏 Standard Error: \", round(controlled_se, digits=4))"
   ]
  },
  {
   "cell_type": "code",
   "execution_count": null,
   "metadata": {},
   "outputs": [],
   "source": [
    "# Compare the two estimates\n",
    "comparison = DataFrame(\n",
    "    Model = [\"Simple (Y ~ D)\", \"Controlled (Y ~ D + X1 + X2 + X3 + X4)\"],\n",
    "    ATE_Estimate = [simple_ate, controlled_ate],\n",
    "    Standard_Error = [simple_se, controlled_se],\n",
    "    R_Squared = [r2(simple_model), r2(controlled_model)]\n",
    ")\n",
    "\n",
    "println(\"📋 Comparison of ATE Estimates:\")\n",
    "comparison"
   ]
  },
  {
   "cell_type": "code",
   "execution_count": null,
   "metadata": {},
   "outputs": [],
   "source": [
    "println(\"\\n🔍 Analysis:\")\n",
    "println(\"• ATE change: \", round(controlled_ate - simple_ate, digits=4))\n",
    "println(\"• Standard error change: \", round(controlled_se - simple_se, digits=4))\n",
    "println(\"• The true ATE is 2.0 (from our data generating process)\")\n",
    "println(\"• Controlling for covariates should improve precision and reduce bias\")"
   ]
  },
  {
   "cell_type": "markdown",
   "metadata": {},
   "source": [
    "## 3.3 LASSO and Variable Selection (3 points)\n",
    "\n",
    "We use LASSO to select covariates and then re-estimate the ATE with only the selected variables."
   ]
  },
  {
   "cell_type": "code",
   "execution_count": null,
   "metadata": {},
   "outputs": [],
   "source": [
    "# Prepare data for LASSO (excluding treatment D)\n",
    "X_matrix = Matrix([data.X1 data.X2 data.X3 data.X4])\n",
    "Y_vector = data.Y\n",
    "\n",
    "# Standardize features for LASSO\n",
    "X_scaled = StatsBase.standardize(StatsBase.ZScoreTransform, X_matrix, dims=1)\n",
    "\n",
    "# Fit LASSO model using cross-validation\n",
    "cv_result = glmnetcv(X_scaled, Y_vector, alpha=1.0, nfolds=10)\n",
    "\n",
    "# Plot cross-validation results\n",
    "plot(cv_result.lambda, cv_result.meanloss, \n",
    "     xscale=:log10, xlabel=\"λ (log scale)\", ylabel=\"Mean Squared Error\",\n",
    "     title=\"LASSO Cross-Validation\", linewidth=2, label=\"CV Error\")\n",
    "vline!([cv_result.lambda[cv_result.ibest]], \n",
    "       linestyle=:dash, color=:red, \n",
    "       label=\"Optimal λ = $(round(cv_result.lambda[cv_result.ibest], digits=6))\")\n",
    "\n",
    "optimal_lambda = cv_result.lambda[cv_result.ibest]\n",
    "println(\"🎯 Optimal λ: \", optimal_lambda)"
   ]
  },
  {
   "cell_type": "code",
   "execution_count": null,
   "metadata": {},
   "outputs": [],
   "source": [
    "# Get coefficients at optimal lambda\n",
    "lasso_fit = glmnet(X_scaled, Y_vector, alpha=1.0, lambda=[optimal_lambda])\n",
    "lasso_coef = lasso_fit.betas[:, 1]\n",
    "\n",
    "variable_names = [\"X1\", \"X2\", \"X3\", \"X4\"]\n",
    "selected_vars = String[]\n",
    "\n",
    "println(\"📊 LASSO Coefficients:\")\n",
    "for (i, var) in enumerate(variable_names)\n",
    "    coef_val = lasso_coef[i]\n",
    "    println(\"$var: $(round(coef_val, digits=6))\")\n",
    "    if abs(coef_val) > 1e-6\n",
    "        push!(selected_vars, var)\n",
    "    end\n",
    "end\n",
    "\n",
    "println(\"\\n✅ Variables selected by LASSO: \", selected_vars)\n",
    "\n",
    "if length(selected_vars) == 0\n",
    "    println(\"⚠️  No variables selected by LASSO at optimal λ\")\n",
    "    println(\"This might indicate that the penalty is too strong or variables are not predictive\")\n",
    "end"
   ]
  },
  {
   "cell_type": "code",
   "execution_count": null,
   "metadata": {},
   "outputs": [],
   "source": [
    "# Re-estimate ATE with LASSO-selected covariates\n",
    "if length(selected_vars) > 0\n",
    "    # Create formula string with selected variables\n",
    "    selected_vars_julia = Symbol.(selected_vars)\n",
    "    \n",
    "    if length(selected_vars) == 1\n",
    "        formula_str = \"Y ~ D + $(selected_vars[1])\"\n",
    "        lasso_model = lm(term(:Y) ~ term(:D) + term(selected_vars_julia[1]), data)\n",
    "    elseif length(selected_vars) == 2\n",
    "        formula_str = \"Y ~ D + $(selected_vars[1]) + $(selected_vars[2])\"\n",
    "        lasso_model = lm(term(:Y) ~ term(:D) + term(selected_vars_julia[1]) + term(selected_vars_julia[2]), data)\n",
    "    elseif length(selected_vars) == 3\n",
    "        formula_str = \"Y ~ D + $(selected_vars[1]) + $(selected_vars[2]) + $(selected_vars[3])\"\n",
    "        lasso_model = lm(term(:Y) ~ term(:D) + term(selected_vars_julia[1]) + term(selected_vars_julia[2]) + term(selected_vars_julia[3]), data)\n",
    "    else  # All 4 variables selected\n",
    "        formula_str = \"Y ~ D + X1 + X2 + X3 + X4\"\n",
    "        lasso_model = lm(@formula(Y ~ D + X1 + X2 + X3 + X4), data)\n",
    "    end\n",
    "    \n",
    "    println(\"📊 LASSO-Selected Model Results: \", formula_str)\n",
    "    println(lasso_model)\n",
    "    \n",
    "    # Extract ATE and standard error\n",
    "    lasso_ate = coef(lasso_model)[2]  # Coefficient for D\n",
    "    lasso_se = stderror(lasso_model)[2]  # Standard error for D\n",
    "    \n",
    "    println(\"\\n🎯 LASSO ATE estimate: \", round(lasso_ate, digits=4))\n",
    "    println(\"📏 Standard Error: \", round(lasso_se, digits=4))\n",
    "    \n",
    "else\n",
    "    println(\"⚠️  No variables selected by LASSO - using simple model\")\n",
    "    lasso_ate = simple_ate\n",
    "    lasso_se = simple_se\n",
    "    selected_vars = String[]\n",
    "end"
   ]
  },
  {
   "cell_type": "code",
   "execution_count": null,
   "metadata": {},
   "outputs": [],
   "source": [
    "# Final comparison of all three estimates\n",
    "selected_vars_str = length(selected_vars) > 0 ? join(selected_vars, \", \") : \"None\"\n",
    "\n",
    "final_comparison = DataFrame(\n",
    "    Model = [\"Simple\", \"Controlled\", \"LASSO-Selected\"],\n",
    "    ATE_Estimate = [simple_ate, controlled_ate, lasso_ate],\n",
    "    Standard_Error = [simple_se, controlled_se, lasso_se],\n",
    "    Variables_Used = [\"None\", \"X1, X2, X3, X4\", selected_vars_str]\n",
    ")\n",
    "\n",
    "println(\"📋 Final Comparison of All ATE Estimates:\")\n",
    "final_comparison"
   ]
  },
  {
   "cell_type": "code",
   "execution_count": null,
   "metadata": {},
   "outputs": [],
   "source": [
    "println(\"\\n🔍 Discussion:\")\n",
    "println(\"• True ATE: 2.0\")\n",
    "println(\"• LASSO helps with variable selection in high-dimensional settings\")\n",
    "println(\"• In this case, we know X4 has no true effect (coefficient = 0)\")\n",
    "println(\"• LASSO should ideally select X1, X2, X3 and exclude X4\")\n",
    "println(\"• Benefits of LASSO: reduces overfitting, improves interpretability\")\n",
    "println(\"• LASSO may improve precision by removing irrelevant variables\")\n",
    "\n",
    "# Visualization of results\n",
    "models = final_comparison.Model\n",
    "estimates = final_comparison.ATE_Estimate\n",
    "errors = final_comparison.Standard_Error\n",
    "\n",
    "p = scatter(1:3, estimates, yerror=errors, \n",
    "           xlabel=\"Model\", ylabel=\"ATE Estimate\",\n",
    "           title=\"Comparison of ATE Estimates with Error Bars\",\n",
    "           xticks=(1:3, models), markersize=6, \n",
    "           label=\"ATE Estimates\")\n",
    "hline!([2.0], linestyle=:dash, color=:red, linewidth=2, label=\"True ATE = 2.0\")\n",
    "p"
   ]
  }
 ],
 "metadata": {
  "kernelspec": {
   "display_name": "Julia 1.6.0",
   "language": "julia",
   "name": "julia-1.6"
  },
  "language_info": {
   "file_extension": ".jl",
   "mimetype": "application/julia",
   "name": "julia",
   "version": "1.6.0"
  }
 },
 "nbformat": 4,
 "nbformat_minor": 4
}
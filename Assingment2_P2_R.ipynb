{
 "cells": [
  {
   "cell_type": "code",
   "execution_count": null,
   "id": "1774e1bd-a384-4621-a5f8-07b9e96ff2f5",
   "metadata": {},
   "outputs": [],
   "source": [
    "library(readxl)\n",
    "library(ggplot2)\n",
    "library(caret)\n",
    "library(glmnet)"
   ]
  },
  {
   "cell_type": "code",
   "execution_count": null,
   "id": "f03515f8-f301-4640-9c65-2412dd3b6947",
   "metadata": {},
   "outputs": [],
   "source": [
    "df <- read_excel(\"C:/Users/Matias/OneDrive/Documentos/jupyter/CausalAI-Course/data/Districtwise_literacy_rates.xlsx\")"
   ]
  },
  {
   "cell_type": "code",
   "execution_count": null,
   "id": "52236329-4038-4205-ab7b-33be589d4434",
   "metadata": {},
   "outputs": [],
   "source": [
    "df <- na.omit(df)"
   ]
  },
  {
   "cell_type": "code",
   "execution_count": null,
   "id": "ccf67c3b-2474-4997-a350-edc225f51d60",
   "metadata": {},
   "outputs": [],
   "source": [
    "par(mfrow=c(1,2))\n",
    "hist(df$FEMALE_LIT, breaks=20, col=\"pink\", border=\"black\",\n",
    "     main=\"Distribución para mujeres\", xlab=\"Tasa (%)\", ylab=\"Frecuencia\")\n",
    "hist(df$MALE_LIT, breaks=20, col=\"skyblue\", border=\"black\",\n",
    "     main=\"Distribución para hombres\", xlab=\"Tasa (%)\")"
   ]
  },
  {
   "cell_type": "code",
   "execution_count": null,
   "id": "a78c148e-bd1f-4341-ab04-5650c4a0135b",
   "metadata": {},
   "outputs": [],
   "source": [
    "set.seed(123)\n",
    "trainIndex <- createDataPartition(df$FEMALE_LIT, p=0.7, list=FALSE)\n",
    "train <- df[trainIndex, ]\n",
    "test  <- df[-trainIndex, ]\n",
    "\n",
    "modelo_low_1 <- lm(FEMALE_LIT ~ MALE_LIT + SEXRATIO + P_URB_POP + GROWTHRATE, data=train)\n",
    "summary(modelo_low_1)\n",
    "\n",
    "pred_train <- predict(modelo_low_1, newdata=train)\n",
    "pred_test  <- predict(modelo_low_1, newdata=test)\n",
    "\n",
    "cat(\"Modelo low (opción 1) R² train:\", R2(pred_train, train$FEMALE_LIT), \"\\n\")\n",
    "cat(\"Modelo low (opción 1) R² test:\", R2(pred_test, test$FEMALE_LIT), \"\\n\")"
   ]
  },
  {
   "cell_type": "code",
   "execution_count": null,
   "id": "9935faad-5c19-4443-8e8f-9b72a2a81c71",
   "metadata": {},
   "outputs": [],
   "source": [
    "modelo_low_2 <- lm(FEMALE_LIT ~ MALE_LIT + SCHTOT + P_SC_POP, data=train)\n",
    "summary(modelo_low_2)\n",
    "\n",
    "pred_train2 <- predict(modelo_low_2, newdata=train)\n",
    "pred_test2  <- predict(modelo_low_2, newdata=test)\n",
    "\n",
    "cat(\"Modelo low (opción 2) R² train:\", R2(pred_train2, train$FEMALE_LIT), \"\\n\")\n",
    "cat(\"Modelo low (opción 2) R² test:\", R2(pred_test2, test$FEMALE_LIT), \"\\n\")"
   ]
  },
  {
   "cell_type": "code",
   "execution_count": null,
   "id": "1e0a4e52-0d90-402c-ba50-7d969b9487de",
   "metadata": {},
   "outputs": [],
   "source": [
    "formula_high <- FEMALE_LIT ~ (MALE_LIT + SEXRATIO + P_URB_POP + GROWTHRATE + TOTPOPULAT)^2 +\n",
    "  I(MALE_LIT^2) + I(SEXRATIO^2) + I(P_URB_POP^2)\n",
    "\n",
    "modelo_high <- lm(formula_high, data=train)\n",
    "summary(modelo_high)\n",
    "\n",
    "pred_train_high <- predict(modelo_high, newdata=train)\n",
    "pred_test_high  <- predict(modelo_high, newdata=test)\n",
    "\n",
    "cat(\"Modelo high R² train:\", R2(pred_train_high, train$FEMALE_LIT), \"\\n\")\n",
    "cat(\"Modelo high R² test:\", R2(pred_test_high, test$FEMALE_LIT), \"\\n\")"
   ]
  },
  {
   "cell_type": "code",
   "execution_count": null,
   "id": "11d0c5aa-a65b-44b3-b6d2-0d395a406f96",
   "metadata": {},
   "outputs": [],
   "source": [
    "y <- train$FEMALE_LIT\n",
    "X <- model.matrix(formula_high, data=train)[, -1]  # quitar intercepto\n",
    "\n",
    "set.seed(123)\n",
    "lambdas <- 10^seq(-3, 4, length=100)\n",
    "\n",
    "nonzero_counts <- numeric(length(lambdas))\n",
    "\n",
    "for (i in seq_along(lambdas)) {\n",
    "  fit <- glmnet(X, y, alpha=1, lambda=lambdas[i], standardize=TRUE, maxit=20000, thresh=1e-2)\n",
    "  nonzero_counts[i] <- sum(coef(fit) != 0)\n",
    "}"
   ]
  },
  {
   "cell_type": "code",
   "execution_count": null,
   "id": "01edcef5-8479-49cf-8b64-179cb0f7f95a",
   "metadata": {},
   "outputs": [],
   "source": [
    "plot(lambdas, nonzero_counts, type=\"b\", log=\"x\", pch=19,\n",
    "     xlab=\"Lambda (escala log)\", ylab=\"Número de coeficientes ≠ 0\",\n",
    "     main=\"Trayectorias de LASSO\")\n",
    "grid()"
   ]
  },
  {
   "cell_type": "code",
   "execution_count": null,
   "id": "74ec3ba3-5415-4710-95bd-de27ff0c52c9",
   "metadata": {},
   "outputs": [],
   "source": []
  },
  {
   "cell_type": "code",
   "execution_count": null,
   "id": "b63d62b0-6fee-4d23-8575-fc2cdf5245d7",
   "metadata": {},
   "outputs": [],
   "source": []
  }
 ],
 "metadata": {
  "kernelspec": {
   "display_name": "",
   "name": ""
  },
  "language_info": {
   "name": ""
  }
 },
 "nbformat": 4,
 "nbformat_minor": 5
}

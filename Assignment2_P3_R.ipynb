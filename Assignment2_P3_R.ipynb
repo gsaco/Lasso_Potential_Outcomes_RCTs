{
 "cells": [
  {
   "cell_type": "code",
   "execution_count": null,
   "id": "fa933caa-18db-41a7-8f7b-09ac497ea82a",
   "metadata": {},
   "outputs": [],
   "source": [
    "set.seed(13)\n",
    "n <- 1000\n",
    "\n",
    "X1 <- rbinom(n, 1, 0.8)\n",
    "X2 <- rnorm(n, 0, 1)\n",
    "X3 <- rnorm(n, 0, 1)\n",
    "X4 <- rnorm(n, 0, 1)\n",
    "\n",
    "D <- rbinom(n, 1, 0.5)\n",
    "error <- rnorm(n, 0, 1)\n",
    "\n",
    "Y <- 2*D + 0.5*X1 - 0.3*X2 + 0.2*X3 + error\n",
    "\n",
    "df <- data.frame(X1, X2, X3, X4, D, Y)\n",
    "head(df)"
   ]
  },
  {
   "cell_type": "code",
   "execution_count": null,
   "id": "9a47bc85-d6b9-4ea9-b001-d3101f4c86af",
   "metadata": {},
   "outputs": [],
   "source": [
    "cat(\"Con t-test\\n\")\n",
    "vars <- c(\"X1\", \"X2\", \"X3\", \"X4\")\n",
    "resultados_ttest <- data.frame()\n",
    "\n",
    "for (var in vars) {\n",
    "  t_test <- t.test(df[df$D == 1, var], df[df$D == 0, var])\n",
    "  resultados_ttest <- rbind(resultados_ttest,\n",
    "    data.frame(\n",
    "      Variable = var,\n",
    "      Tratamiento = mean(df[df$D == 1, var]),\n",
    "      Control = mean(df[df$D == 0, var]),\n",
    "      P_value = t_test$p.value\n",
    "    )\n",
    "  )\n",
    "}\n",
    "print(resultados_ttest)"
   ]
  },
  {
   "cell_type": "code",
   "execution_count": null,
   "id": "f6d70f80-ec7a-43c3-be8c-27be90218697",
   "metadata": {},
   "outputs": [],
   "source": [
    "cat(\"Con regresión\\n\")\n",
    "resultados_regresion <- data.frame()\n",
    "\n",
    "for (var in vars) {\n",
    "  modelo <- lm(df[[var]] ~ D, data = df)\n",
    "  resumen <- summary(modelo)\n",
    "  resultados_regresion <- rbind(resultados_regresion,\n",
    "    data.frame(\n",
    "      Variable = var,\n",
    "      Coeficiente = coef(resumen)[\"D\", \"Estimate\"],\n",
    "      Error_std = coef(resumen)[\"D\", \"Std. Error\"],\n",
    "      P_value = coef(resumen)[\"D\", \"Pr(>|t|)\"]\n",
    "    )\n",
    "  )\n",
    "}\n",
    "print(resultados_regresion)"
   ]
  },
  {
   "cell_type": "code",
   "execution_count": null,
   "id": "64841f26-b1af-46a6-9b53-7195d7b63d7b",
   "metadata": {},
   "outputs": [],
   "source": [
    "modelo_1 <- lm(Y ~ D, data = df)\n",
    "modelo_2 <- lm(Y ~ D + X1 + X2 + X3 + X4, data = df)\n",
    "\n",
    "summary(modelo_1)\n",
    "summary(modelo_2)\n",
    "\n",
    "cat(\"Resultado sin controles:\", coef(modelo_1)[\"D\"], \"\\n\")\n",
    "cat(\"Resultado con controles:\", coef(modelo_2)[\"D\"], \"\\n\")\n",
    "cat(\"Error estándar sin controles:\", summary(modelo_1)$coefficients[\"D\",\"Std. Error\"], \"\\n\")\n",
    "cat(\"Error estándar con controles:\", summary(modelo_2)$coefficients[\"D\",\"Std. Error\"], \"\\n\")"
   ]
  },
  {
   "cell_type": "code",
   "execution_count": null,
   "id": "f4b58e65-bb56-403d-bb6f-c2955e86ba1a",
   "metadata": {},
   "outputs": [],
   "source": [
    "library(glmnet)\n",
    "\n",
    "X_cov <- as.matrix(df[, c(\"X1\", \"X2\", \"X3\", \"X4\")])\n",
    "y <- df$Y\n",
    "\n",
    "set.seed(13)\n",
    "cv_lasso <- cv.glmnet(X_cov, y, alpha = 1, nfolds = 10)\n",
    "\n",
    "coeficientes <- coef(cv_lasso, s = \"lambda.min\")\n",
    "print(coeficientes)"
   ]
  },
  {
   "cell_type": "code",
   "execution_count": null,
   "id": "80063730-b263-48aa-89c4-7f59b297ce01",
   "metadata": {},
   "outputs": [],
   "source": [
    "seleccionadas <- rownames(coeficientes)[coeficientes[,1] != 0]\n",
    "seleccionadas <- seleccionadas[seleccionadas != \"(Intercept)\"]\n",
    "cat(\"Covariables seleccionadas en λmin:\", seleccionadas, \"\\n\")"
   ]
  },
  {
   "cell_type": "code",
   "execution_count": null,
   "id": "ca1776ea-34c1-4aeb-b077-14275307c70c",
   "metadata": {},
   "outputs": [],
   "source": []
  },
  {
   "cell_type": "code",
   "execution_count": null,
   "id": "960ad659-ecb3-43ba-bb7c-7470624a80ab",
   "metadata": {},
   "outputs": [],
   "source": []
  },
  {
   "cell_type": "code",
   "execution_count": null,
   "id": "8b72135f-92ec-4554-aa84-c5124fdb1a10",
   "metadata": {},
   "outputs": [],
   "source": []
  },
  {
   "cell_type": "code",
   "execution_count": null,
   "id": "296333fd-f1de-4198-b2bf-27afb79b5882",
   "metadata": {},
   "outputs": [],
   "source": []
  },
  {
   "cell_type": "code",
   "execution_count": null,
   "id": "59994ce8-a795-4075-bc8c-044c139ff8bd",
   "metadata": {},
   "outputs": [],
   "source": []
  },
  {
   "cell_type": "code",
   "execution_count": null,
   "id": "433bb802-f6dd-4097-8269-b2b2434b0ead",
   "metadata": {},
   "outputs": [],
   "source": []
  }
 ],
 "metadata": {
  "kernelspec": {
   "display_name": "",
   "name": ""
  },
  "language_info": {
   "name": ""
  }
 },
 "nbformat": 4,
 "nbformat_minor": 5
}
